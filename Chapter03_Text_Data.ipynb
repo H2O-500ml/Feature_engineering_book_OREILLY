{
 "cells": [
  {
   "cell_type": "markdown",
   "metadata": {},
   "source": [
    "# Chapter 3. Text Data: Flattening, Filtering, and Chunking"
   ]
  },
  {
   "cell_type": "code",
   "execution_count": 1,
   "metadata": {
    "collapsed": true
   },
   "outputs": [],
   "source": [
    "import pandas as pd\n",
    "import json\n",
    "from sklearn.feature_extraction.text import CountVectorizer"
   ]
  },
  {
   "cell_type": "code",
   "execution_count": 2,
   "metadata": {
    "collapsed": true
   },
   "outputs": [],
   "source": [
    "%matplotlib notebook\n",
    "import matplotlib.pyplot as plt\n",
    "import seaborn as sns\n",
    "sns.set()"
   ]
  },
  {
   "cell_type": "markdown",
   "metadata": {},
   "source": [
    "## Example 3-1. Computing n-grams"
   ]
  },
  {
   "cell_type": "code",
   "execution_count": 3,
   "metadata": {},
   "outputs": [
    {
     "data": {
      "text/plain": [
       "(188593, 15)"
      ]
     },
     "execution_count": 3,
     "metadata": {},
     "output_type": "execute_result"
    }
   ],
   "source": [
    "def load_json_df(filename, num_bytes = -1):\n",
    "    '''Load the first `num_bytes` of the filename as a json blob, convert each line into a row in a Pandas data frame.'''\n",
    "    # windows에서 실행하는 경우 기본 인코딩이 cp949 이므로 encoding 값 지정해야 함.\n",
    "    fs = open(filename, encoding='utf-8')\n",
    "    df = pd.DataFrame([json.loads(x) for x in fs.readlines(num_bytes)])\n",
    "    fs.close()\n",
    "    return df\n",
    "\n",
    "biz_df = load_json_df('data/yelp/yelp_academic_dataset_business.json')\n",
    "biz_df.shape"
   ]
  },
  {
   "cell_type": "code",
   "execution_count": 4,
   "metadata": {},
   "outputs": [
    {
     "data": {
      "text/html": [
       "<div>\n",
       "<style scoped>\n",
       "    .dataframe tbody tr th:only-of-type {\n",
       "        vertical-align: middle;\n",
       "    }\n",
       "\n",
       "    .dataframe tbody tr th {\n",
       "        vertical-align: top;\n",
       "    }\n",
       "\n",
       "    .dataframe thead th {\n",
       "        text-align: right;\n",
       "    }\n",
       "</style>\n",
       "<table border=\"1\" class=\"dataframe\">\n",
       "  <thead>\n",
       "    <tr style=\"text-align: right;\">\n",
       "      <th></th>\n",
       "      <th>address</th>\n",
       "      <th>attributes</th>\n",
       "      <th>business_id</th>\n",
       "      <th>categories</th>\n",
       "      <th>city</th>\n",
       "      <th>hours</th>\n",
       "      <th>is_open</th>\n",
       "      <th>latitude</th>\n",
       "      <th>longitude</th>\n",
       "      <th>name</th>\n",
       "      <th>neighborhood</th>\n",
       "      <th>postal_code</th>\n",
       "      <th>review_count</th>\n",
       "      <th>stars</th>\n",
       "      <th>state</th>\n",
       "    </tr>\n",
       "  </thead>\n",
       "  <tbody>\n",
       "    <tr>\n",
       "      <th>0</th>\n",
       "      <td>1314 44 Avenue NE</td>\n",
       "      <td>{'BikeParking': 'False', 'BusinessAcceptsCredi...</td>\n",
       "      <td>Apn5Q_b6Nz61Tq4XzPdf9A</td>\n",
       "      <td>Tours, Breweries, Pizza, Restaurants, Food, Ho...</td>\n",
       "      <td>Calgary</td>\n",
       "      <td>{'Monday': '8:30-17:0', 'Tuesday': '11:0-21:0'...</td>\n",
       "      <td>1</td>\n",
       "      <td>51.091813</td>\n",
       "      <td>-114.031675</td>\n",
       "      <td>Minhas Micro Brewery</td>\n",
       "      <td></td>\n",
       "      <td>T2E 6L6</td>\n",
       "      <td>24</td>\n",
       "      <td>4.0</td>\n",
       "      <td>AB</td>\n",
       "    </tr>\n",
       "    <tr>\n",
       "      <th>1</th>\n",
       "      <td></td>\n",
       "      <td>{'Alcohol': 'none', 'BikeParking': 'False', 'B...</td>\n",
       "      <td>AjEbIBw6ZFfln7ePHha9PA</td>\n",
       "      <td>Chicken Wings, Burgers, Caterers, Street Vendo...</td>\n",
       "      <td>Henderson</td>\n",
       "      <td>{'Friday': '17:0-23:0', 'Saturday': '17:0-23:0...</td>\n",
       "      <td>0</td>\n",
       "      <td>35.960734</td>\n",
       "      <td>-114.939821</td>\n",
       "      <td>CK'S BBQ &amp; Catering</td>\n",
       "      <td></td>\n",
       "      <td>89002</td>\n",
       "      <td>3</td>\n",
       "      <td>4.5</td>\n",
       "      <td>NV</td>\n",
       "    </tr>\n",
       "    <tr>\n",
       "      <th>2</th>\n",
       "      <td>1335 rue Beaubien E</td>\n",
       "      <td>{'Alcohol': 'beer_and_wine', 'Ambience': '{'ro...</td>\n",
       "      <td>O8S5hYJ1SMc8fA4QBtVujA</td>\n",
       "      <td>Breakfast &amp; Brunch, Restaurants, French, Sandw...</td>\n",
       "      <td>Montréal</td>\n",
       "      <td>{'Monday': '10:0-22:0', 'Tuesday': '10:0-22:0'...</td>\n",
       "      <td>0</td>\n",
       "      <td>45.540503</td>\n",
       "      <td>-73.599300</td>\n",
       "      <td>La Bastringue</td>\n",
       "      <td>Rosemont-La Petite-Patrie</td>\n",
       "      <td>H2G 1K7</td>\n",
       "      <td>5</td>\n",
       "      <td>4.0</td>\n",
       "      <td>QC</td>\n",
       "    </tr>\n",
       "    <tr>\n",
       "      <th>3</th>\n",
       "      <td>211 W Monroe St</td>\n",
       "      <td>None</td>\n",
       "      <td>bFzdJJ3wp3PZssNEsyU23g</td>\n",
       "      <td>Insurance, Financial Services</td>\n",
       "      <td>Phoenix</td>\n",
       "      <td>None</td>\n",
       "      <td>1</td>\n",
       "      <td>33.449999</td>\n",
       "      <td>-112.076979</td>\n",
       "      <td>Geico Insurance</td>\n",
       "      <td></td>\n",
       "      <td>85003</td>\n",
       "      <td>8</td>\n",
       "      <td>1.5</td>\n",
       "      <td>AZ</td>\n",
       "    </tr>\n",
       "    <tr>\n",
       "      <th>4</th>\n",
       "      <td>2005 Alyth Place SE</td>\n",
       "      <td>{'BusinessAcceptsCreditCards': 'True'}</td>\n",
       "      <td>8USyCYqpScwiNEb58Bt6CA</td>\n",
       "      <td>Home &amp; Garden, Nurseries &amp; Gardening, Shopping...</td>\n",
       "      <td>Calgary</td>\n",
       "      <td>{'Monday': '8:0-17:0', 'Tuesday': '8:0-17:0', ...</td>\n",
       "      <td>1</td>\n",
       "      <td>51.035591</td>\n",
       "      <td>-114.027366</td>\n",
       "      <td>Action Engine</td>\n",
       "      <td></td>\n",
       "      <td>T2H 0N5</td>\n",
       "      <td>4</td>\n",
       "      <td>2.0</td>\n",
       "      <td>AB</td>\n",
       "    </tr>\n",
       "  </tbody>\n",
       "</table>\n",
       "</div>"
      ],
      "text/plain": [
       "               address                                         attributes  \\\n",
       "0    1314 44 Avenue NE  {'BikeParking': 'False', 'BusinessAcceptsCredi...   \n",
       "1                       {'Alcohol': 'none', 'BikeParking': 'False', 'B...   \n",
       "2  1335 rue Beaubien E  {'Alcohol': 'beer_and_wine', 'Ambience': '{'ro...   \n",
       "3      211 W Monroe St                                               None   \n",
       "4  2005 Alyth Place SE             {'BusinessAcceptsCreditCards': 'True'}   \n",
       "\n",
       "              business_id                                         categories  \\\n",
       "0  Apn5Q_b6Nz61Tq4XzPdf9A  Tours, Breweries, Pizza, Restaurants, Food, Ho...   \n",
       "1  AjEbIBw6ZFfln7ePHha9PA  Chicken Wings, Burgers, Caterers, Street Vendo...   \n",
       "2  O8S5hYJ1SMc8fA4QBtVujA  Breakfast & Brunch, Restaurants, French, Sandw...   \n",
       "3  bFzdJJ3wp3PZssNEsyU23g                      Insurance, Financial Services   \n",
       "4  8USyCYqpScwiNEb58Bt6CA  Home & Garden, Nurseries & Gardening, Shopping...   \n",
       "\n",
       "        city                                              hours  is_open  \\\n",
       "0    Calgary  {'Monday': '8:30-17:0', 'Tuesday': '11:0-21:0'...        1   \n",
       "1  Henderson  {'Friday': '17:0-23:0', 'Saturday': '17:0-23:0...        0   \n",
       "2   Montréal  {'Monday': '10:0-22:0', 'Tuesday': '10:0-22:0'...        0   \n",
       "3    Phoenix                                               None        1   \n",
       "4    Calgary  {'Monday': '8:0-17:0', 'Tuesday': '8:0-17:0', ...        1   \n",
       "\n",
       "    latitude   longitude                  name               neighborhood  \\\n",
       "0  51.091813 -114.031675  Minhas Micro Brewery                              \n",
       "1  35.960734 -114.939821   CK'S BBQ & Catering                              \n",
       "2  45.540503  -73.599300         La Bastringue  Rosemont-La Petite-Patrie   \n",
       "3  33.449999 -112.076979       Geico Insurance                              \n",
       "4  51.035591 -114.027366         Action Engine                              \n",
       "\n",
       "  postal_code  review_count  stars state  \n",
       "0     T2E 6L6            24    4.0    AB  \n",
       "1       89002             3    4.5    NV  \n",
       "2     H2G 1K7             5    4.0    QC  \n",
       "3       85003             8    1.5    AZ  \n",
       "4     T2H 0N5             4    2.0    AB  "
      ]
     },
     "execution_count": 4,
     "metadata": {},
     "output_type": "execute_result"
    }
   ],
   "source": [
    "biz_df.head()"
   ]
  },
  {
   "cell_type": "code",
   "execution_count": 5,
   "metadata": {},
   "outputs": [
    {
     "data": {
      "text/plain": [
       "(10000, 9)"
      ]
     },
     "execution_count": 5,
     "metadata": {},
     "output_type": "execute_result"
    }
   ],
   "source": [
    "# 처음 10,000개의 리뷰만 로드\n",
    "f = open('data/yelp/yelp_academic_dataset_review.json', encoding='utf-8')\n",
    "js = []\n",
    "for i in range(10000):\n",
    "    js.append(json.loads(f.readline()))\n",
    "f.close()\n",
    "\n",
    "review_df = pd.DataFrame(js)\n",
    "review_df.shape"
   ]
  },
  {
   "cell_type": "code",
   "execution_count": 6,
   "metadata": {},
   "outputs": [
    {
     "data": {
      "text/html": [
       "<div>\n",
       "<style scoped>\n",
       "    .dataframe tbody tr th:only-of-type {\n",
       "        vertical-align: middle;\n",
       "    }\n",
       "\n",
       "    .dataframe tbody tr th {\n",
       "        vertical-align: top;\n",
       "    }\n",
       "\n",
       "    .dataframe thead th {\n",
       "        text-align: right;\n",
       "    }\n",
       "</style>\n",
       "<table border=\"1\" class=\"dataframe\">\n",
       "  <thead>\n",
       "    <tr style=\"text-align: right;\">\n",
       "      <th></th>\n",
       "      <th>business_id</th>\n",
       "      <th>cool</th>\n",
       "      <th>date</th>\n",
       "      <th>funny</th>\n",
       "      <th>review_id</th>\n",
       "      <th>stars</th>\n",
       "      <th>text</th>\n",
       "      <th>useful</th>\n",
       "      <th>user_id</th>\n",
       "    </tr>\n",
       "  </thead>\n",
       "  <tbody>\n",
       "    <tr>\n",
       "      <th>0</th>\n",
       "      <td>iCQpiavjjPzJ5_3gPD5Ebg</td>\n",
       "      <td>0</td>\n",
       "      <td>2011-02-25</td>\n",
       "      <td>0</td>\n",
       "      <td>x7mDIiDB3jEiPGPHOmDzyw</td>\n",
       "      <td>2</td>\n",
       "      <td>The pizza was okay. Not the best I've had. I p...</td>\n",
       "      <td>0</td>\n",
       "      <td>msQe1u7Z_XuqjGoqhB0J5g</td>\n",
       "    </tr>\n",
       "    <tr>\n",
       "      <th>1</th>\n",
       "      <td>pomGBqfbxcqPv14c3XH-ZQ</td>\n",
       "      <td>0</td>\n",
       "      <td>2012-11-13</td>\n",
       "      <td>0</td>\n",
       "      <td>dDl8zu1vWPdKGihJrwQbpw</td>\n",
       "      <td>5</td>\n",
       "      <td>I love this place! My fiance And I go here atl...</td>\n",
       "      <td>0</td>\n",
       "      <td>msQe1u7Z_XuqjGoqhB0J5g</td>\n",
       "    </tr>\n",
       "    <tr>\n",
       "      <th>2</th>\n",
       "      <td>jtQARsP6P-LbkyjbO1qNGg</td>\n",
       "      <td>1</td>\n",
       "      <td>2014-10-23</td>\n",
       "      <td>1</td>\n",
       "      <td>LZp4UX5zK3e-c5ZGSeo3kA</td>\n",
       "      <td>1</td>\n",
       "      <td>Terrible. Dry corn bread. Rib tips were all fa...</td>\n",
       "      <td>3</td>\n",
       "      <td>msQe1u7Z_XuqjGoqhB0J5g</td>\n",
       "    </tr>\n",
       "    <tr>\n",
       "      <th>3</th>\n",
       "      <td>elqbBhBfElMNSrjFqW3now</td>\n",
       "      <td>0</td>\n",
       "      <td>2011-02-25</td>\n",
       "      <td>0</td>\n",
       "      <td>Er4NBWCmCD4nM8_p1GRdow</td>\n",
       "      <td>2</td>\n",
       "      <td>Back in 2005-2007 this place was my FAVORITE t...</td>\n",
       "      <td>2</td>\n",
       "      <td>msQe1u7Z_XuqjGoqhB0J5g</td>\n",
       "    </tr>\n",
       "    <tr>\n",
       "      <th>4</th>\n",
       "      <td>Ums3gaP2qM3W1XcA5r6SsQ</td>\n",
       "      <td>0</td>\n",
       "      <td>2014-09-05</td>\n",
       "      <td>0</td>\n",
       "      <td>jsDu6QEJHbwP2Blom1PLCA</td>\n",
       "      <td>5</td>\n",
       "      <td>Delicious healthy food. The steak is amazing. ...</td>\n",
       "      <td>0</td>\n",
       "      <td>msQe1u7Z_XuqjGoqhB0J5g</td>\n",
       "    </tr>\n",
       "  </tbody>\n",
       "</table>\n",
       "</div>"
      ],
      "text/plain": [
       "              business_id  cool        date  funny               review_id  \\\n",
       "0  iCQpiavjjPzJ5_3gPD5Ebg     0  2011-02-25      0  x7mDIiDB3jEiPGPHOmDzyw   \n",
       "1  pomGBqfbxcqPv14c3XH-ZQ     0  2012-11-13      0  dDl8zu1vWPdKGihJrwQbpw   \n",
       "2  jtQARsP6P-LbkyjbO1qNGg     1  2014-10-23      1  LZp4UX5zK3e-c5ZGSeo3kA   \n",
       "3  elqbBhBfElMNSrjFqW3now     0  2011-02-25      0  Er4NBWCmCD4nM8_p1GRdow   \n",
       "4  Ums3gaP2qM3W1XcA5r6SsQ     0  2014-09-05      0  jsDu6QEJHbwP2Blom1PLCA   \n",
       "\n",
       "   stars                                               text  useful  \\\n",
       "0      2  The pizza was okay. Not the best I've had. I p...       0   \n",
       "1      5  I love this place! My fiance And I go here atl...       0   \n",
       "2      1  Terrible. Dry corn bread. Rib tips were all fa...       3   \n",
       "3      2  Back in 2005-2007 this place was my FAVORITE t...       2   \n",
       "4      5  Delicious healthy food. The steak is amazing. ...       0   \n",
       "\n",
       "                  user_id  \n",
       "0  msQe1u7Z_XuqjGoqhB0J5g  \n",
       "1  msQe1u7Z_XuqjGoqhB0J5g  \n",
       "2  msQe1u7Z_XuqjGoqhB0J5g  \n",
       "3  msQe1u7Z_XuqjGoqhB0J5g  \n",
       "4  msQe1u7Z_XuqjGoqhB0J5g  "
      ]
     },
     "execution_count": 6,
     "metadata": {},
     "output_type": "execute_result"
    }
   ],
   "source": [
    "review_df.head()"
   ]
  },
  {
   "cell_type": "code",
   "execution_count": 7,
   "metadata": {},
   "outputs": [
    {
     "data": {
      "text/plain": [
       "\"The pizza was okay. Not the best I've had. I prefer Biaggio's on Flamingo / Fort Apache. The chef there can make a MUCH better NY style pizza. The pizzeria @ Cosmo was over priced for the quality and lack of personality in the food. Biaggio's is a much better pick if youre going for italian - family owned, home made recipes, people that actually CARE if you like their food. You dont get that at a pizzeria in a casino. I dont care what you say...\""
      ]
     },
     "execution_count": 7,
     "metadata": {},
     "output_type": "execute_result"
    }
   ],
   "source": [
    "review_df['text'][0]"
   ]
  },
  {
   "cell_type": "markdown",
   "metadata": {},
   "source": [
    "```\n",
    "unigrams, bigrams, trigrams에 대한 피쳐 변환기 생성.\n",
    "기본 옵션은 하나의 문자로 된 단어를 무시한다. \n",
    "실전에서는 의미없는 단어들을 제거하기 때문에 매우 유용하지만, \n",
    "이 예제에서는 설명을 위해 명시적으로 포함시킨다.\n",
    "```"
   ]
  },
  {
   "cell_type": "code",
   "execution_count": 8,
   "metadata": {
    "collapsed": true
   },
   "outputs": [],
   "source": [
    "# bag of words"
   ]
  },
  {
   "cell_type": "code",
   "execution_count": 9,
   "metadata": {},
   "outputs": [
    {
     "data": {
      "text/plain": [
       "<10000x26822 sparse matrix of type '<class 'numpy.int64'>'\n",
       "\twith 692503 stored elements in Compressed Sparse Row format>"
      ]
     },
     "execution_count": 9,
     "metadata": {},
     "output_type": "execute_result"
    }
   ],
   "source": [
    "bow_converter = CountVectorizer(token_pattern='(?u)\\\\b\\\\w+\\\\b')\n",
    "x = bow_converter.fit_transform(review_df['text'])\n",
    "x"
   ]
  },
  {
   "cell_type": "code",
   "execution_count": 10,
   "metadata": {},
   "outputs": [
    {
     "data": {
      "text/plain": [
       "26822"
      ]
     },
     "execution_count": 10,
     "metadata": {},
     "output_type": "execute_result"
    }
   ],
   "source": [
    "words = bow_converter.get_feature_names()\n",
    "len(words)"
   ]
  },
  {
   "cell_type": "code",
   "execution_count": 11,
   "metadata": {},
   "outputs": [
    {
     "data": {
      "text/plain": [
       "['0', '00', '000', '00am', '00p', '00pm', '01', '010', '02', '02pm']"
      ]
     },
     "execution_count": 11,
     "metadata": {},
     "output_type": "execute_result"
    }
   ],
   "source": [
    "words[:10]"
   ]
  },
  {
   "cell_type": "code",
   "execution_count": 12,
   "metadata": {
    "collapsed": true
   },
   "outputs": [],
   "source": [
    "# bigrams"
   ]
  },
  {
   "cell_type": "code",
   "execution_count": 13,
   "metadata": {},
   "outputs": [
    {
     "data": {
      "text/plain": [
       "<10000x309793 sparse matrix of type '<class 'numpy.int64'>'\n",
       "\twith 993360 stored elements in Compressed Sparse Row format>"
      ]
     },
     "execution_count": 13,
     "metadata": {},
     "output_type": "execute_result"
    }
   ],
   "source": [
    "bigram_converter = CountVectorizer(ngram_range=(2,2), token_pattern='(?u)\\\\b\\\\w+\\\\b')\n",
    "x2 = bigram_converter.fit_transform(review_df['text'])\n",
    "x2"
   ]
  },
  {
   "cell_type": "code",
   "execution_count": 14,
   "metadata": {},
   "outputs": [
    {
     "data": {
      "text/plain": [
       "309793"
      ]
     },
     "execution_count": 14,
     "metadata": {},
     "output_type": "execute_result"
    }
   ],
   "source": [
    "bigrams = bigram_converter.get_feature_names()\n",
    "len(bigrams)"
   ]
  },
  {
   "cell_type": "code",
   "execution_count": 15,
   "metadata": {},
   "outputs": [
    {
     "data": {
      "text/plain": [
       "['être mieux',\n",
       " 'être pas',\n",
       " 'être propre',\n",
       " 'être un',\n",
       " 'über die',\n",
       " 'über unser',\n",
       " 'überfordert es',\n",
       " 'überrascht hier',\n",
       " 'überrascht über',\n",
       " 'übersehen aber']"
      ]
     },
     "execution_count": 15,
     "metadata": {},
     "output_type": "execute_result"
    }
   ],
   "source": [
    "bigrams[-10:]"
   ]
  },
  {
   "cell_type": "code",
   "execution_count": 16,
   "metadata": {
    "collapsed": true
   },
   "outputs": [],
   "source": [
    "# trigrams"
   ]
  },
  {
   "cell_type": "code",
   "execution_count": 17,
   "metadata": {},
   "outputs": [
    {
     "data": {
      "text/plain": [
       "<10000x711878 sparse matrix of type '<class 'numpy.int64'>'\n",
       "\twith 1023637 stored elements in Compressed Sparse Row format>"
      ]
     },
     "execution_count": 17,
     "metadata": {},
     "output_type": "execute_result"
    }
   ],
   "source": [
    "trigram_converter = CountVectorizer(ngram_range=(3,3), token_pattern='(?u)\\\\b\\\\w+\\\\b')\n",
    "x3 = trigram_converter.fit_transform(review_df['text'])\n",
    "x3"
   ]
  },
  {
   "cell_type": "code",
   "execution_count": 18,
   "metadata": {},
   "outputs": [
    {
     "data": {
      "text/plain": [
       "711878"
      ]
     },
     "execution_count": 18,
     "metadata": {},
     "output_type": "execute_result"
    }
   ],
   "source": [
    "trigrams = trigram_converter.get_feature_names()\n",
    "len(trigrams)"
   ]
  },
  {
   "cell_type": "code",
   "execution_count": 19,
   "metadata": {},
   "outputs": [
    {
     "data": {
      "text/plain": [
       "['0 00 copay',\n",
       " '0 1 why',\n",
       " '0 2 where',\n",
       " '0 25 including',\n",
       " '0 4 sizes',\n",
       " '0 5 dioptres',\n",
       " '0 5 each',\n",
       " '0 50 for',\n",
       " '0 63 cents',\n",
       " '0 69 away']"
      ]
     },
     "execution_count": 19,
     "metadata": {},
     "output_type": "execute_result"
    }
   ],
   "source": [
    "trigrams[:10]"
   ]
  },
  {
   "cell_type": "code",
   "execution_count": 20,
   "metadata": {},
   "outputs": [
    {
     "name": "stdout",
     "output_type": "stream",
     "text": [
      "26822 309793 711878\n"
     ]
    }
   ],
   "source": [
    "print (len(words), len(bigrams), len(trigrams))"
   ]
  },
  {
   "cell_type": "code",
   "execution_count": 21,
   "metadata": {},
   "outputs": [
    {
     "data": {
      "application/javascript": [
       "/* Put everything inside the global mpl namespace */\n",
       "window.mpl = {};\n",
       "\n",
       "\n",
       "mpl.get_websocket_type = function() {\n",
       "    if (typeof(WebSocket) !== 'undefined') {\n",
       "        return WebSocket;\n",
       "    } else if (typeof(MozWebSocket) !== 'undefined') {\n",
       "        return MozWebSocket;\n",
       "    } else {\n",
       "        alert('Your browser does not have WebSocket support.' +\n",
       "              'Please try Chrome, Safari or Firefox ≥ 6. ' +\n",
       "              'Firefox 4 and 5 are also supported but you ' +\n",
       "              'have to enable WebSockets in about:config.');\n",
       "    };\n",
       "}\n",
       "\n",
       "mpl.figure = function(figure_id, websocket, ondownload, parent_element) {\n",
       "    this.id = figure_id;\n",
       "\n",
       "    this.ws = websocket;\n",
       "\n",
       "    this.supports_binary = (this.ws.binaryType != undefined);\n",
       "\n",
       "    if (!this.supports_binary) {\n",
       "        var warnings = document.getElementById(\"mpl-warnings\");\n",
       "        if (warnings) {\n",
       "            warnings.style.display = 'block';\n",
       "            warnings.textContent = (\n",
       "                \"This browser does not support binary websocket messages. \" +\n",
       "                    \"Performance may be slow.\");\n",
       "        }\n",
       "    }\n",
       "\n",
       "    this.imageObj = new Image();\n",
       "\n",
       "    this.context = undefined;\n",
       "    this.message = undefined;\n",
       "    this.canvas = undefined;\n",
       "    this.rubberband_canvas = undefined;\n",
       "    this.rubberband_context = undefined;\n",
       "    this.format_dropdown = undefined;\n",
       "\n",
       "    this.image_mode = 'full';\n",
       "\n",
       "    this.root = $('<div/>');\n",
       "    this._root_extra_style(this.root)\n",
       "    this.root.attr('style', 'display: inline-block');\n",
       "\n",
       "    $(parent_element).append(this.root);\n",
       "\n",
       "    this._init_header(this);\n",
       "    this._init_canvas(this);\n",
       "    this._init_toolbar(this);\n",
       "\n",
       "    var fig = this;\n",
       "\n",
       "    this.waiting = false;\n",
       "\n",
       "    this.ws.onopen =  function () {\n",
       "            fig.send_message(\"supports_binary\", {value: fig.supports_binary});\n",
       "            fig.send_message(\"send_image_mode\", {});\n",
       "            if (mpl.ratio != 1) {\n",
       "                fig.send_message(\"set_dpi_ratio\", {'dpi_ratio': mpl.ratio});\n",
       "            }\n",
       "            fig.send_message(\"refresh\", {});\n",
       "        }\n",
       "\n",
       "    this.imageObj.onload = function() {\n",
       "            if (fig.image_mode == 'full') {\n",
       "                // Full images could contain transparency (where diff images\n",
       "                // almost always do), so we need to clear the canvas so that\n",
       "                // there is no ghosting.\n",
       "                fig.context.clearRect(0, 0, fig.canvas.width, fig.canvas.height);\n",
       "            }\n",
       "            fig.context.drawImage(fig.imageObj, 0, 0);\n",
       "        };\n",
       "\n",
       "    this.imageObj.onunload = function() {\n",
       "        fig.ws.close();\n",
       "    }\n",
       "\n",
       "    this.ws.onmessage = this._make_on_message_function(this);\n",
       "\n",
       "    this.ondownload = ondownload;\n",
       "}\n",
       "\n",
       "mpl.figure.prototype._init_header = function() {\n",
       "    var titlebar = $(\n",
       "        '<div class=\"ui-dialog-titlebar ui-widget-header ui-corner-all ' +\n",
       "        'ui-helper-clearfix\"/>');\n",
       "    var titletext = $(\n",
       "        '<div class=\"ui-dialog-title\" style=\"width: 100%; ' +\n",
       "        'text-align: center; padding: 3px;\"/>');\n",
       "    titlebar.append(titletext)\n",
       "    this.root.append(titlebar);\n",
       "    this.header = titletext[0];\n",
       "}\n",
       "\n",
       "\n",
       "\n",
       "mpl.figure.prototype._canvas_extra_style = function(canvas_div) {\n",
       "\n",
       "}\n",
       "\n",
       "\n",
       "mpl.figure.prototype._root_extra_style = function(canvas_div) {\n",
       "\n",
       "}\n",
       "\n",
       "mpl.figure.prototype._init_canvas = function() {\n",
       "    var fig = this;\n",
       "\n",
       "    var canvas_div = $('<div/>');\n",
       "\n",
       "    canvas_div.attr('style', 'position: relative; clear: both; outline: 0');\n",
       "\n",
       "    function canvas_keyboard_event(event) {\n",
       "        return fig.key_event(event, event['data']);\n",
       "    }\n",
       "\n",
       "    canvas_div.keydown('key_press', canvas_keyboard_event);\n",
       "    canvas_div.keyup('key_release', canvas_keyboard_event);\n",
       "    this.canvas_div = canvas_div\n",
       "    this._canvas_extra_style(canvas_div)\n",
       "    this.root.append(canvas_div);\n",
       "\n",
       "    var canvas = $('<canvas/>');\n",
       "    canvas.addClass('mpl-canvas');\n",
       "    canvas.attr('style', \"left: 0; top: 0; z-index: 0; outline: 0\")\n",
       "\n",
       "    this.canvas = canvas[0];\n",
       "    this.context = canvas[0].getContext(\"2d\");\n",
       "\n",
       "    var backingStore = this.context.backingStorePixelRatio ||\n",
       "\tthis.context.webkitBackingStorePixelRatio ||\n",
       "\tthis.context.mozBackingStorePixelRatio ||\n",
       "\tthis.context.msBackingStorePixelRatio ||\n",
       "\tthis.context.oBackingStorePixelRatio ||\n",
       "\tthis.context.backingStorePixelRatio || 1;\n",
       "\n",
       "    mpl.ratio = (window.devicePixelRatio || 1) / backingStore;\n",
       "\n",
       "    var rubberband = $('<canvas/>');\n",
       "    rubberband.attr('style', \"position: absolute; left: 0; top: 0; z-index: 1;\")\n",
       "\n",
       "    var pass_mouse_events = true;\n",
       "\n",
       "    canvas_div.resizable({\n",
       "        start: function(event, ui) {\n",
       "            pass_mouse_events = false;\n",
       "        },\n",
       "        resize: function(event, ui) {\n",
       "            fig.request_resize(ui.size.width, ui.size.height);\n",
       "        },\n",
       "        stop: function(event, ui) {\n",
       "            pass_mouse_events = true;\n",
       "            fig.request_resize(ui.size.width, ui.size.height);\n",
       "        },\n",
       "    });\n",
       "\n",
       "    function mouse_event_fn(event) {\n",
       "        if (pass_mouse_events)\n",
       "            return fig.mouse_event(event, event['data']);\n",
       "    }\n",
       "\n",
       "    rubberband.mousedown('button_press', mouse_event_fn);\n",
       "    rubberband.mouseup('button_release', mouse_event_fn);\n",
       "    // Throttle sequential mouse events to 1 every 20ms.\n",
       "    rubberband.mousemove('motion_notify', mouse_event_fn);\n",
       "\n",
       "    rubberband.mouseenter('figure_enter', mouse_event_fn);\n",
       "    rubberband.mouseleave('figure_leave', mouse_event_fn);\n",
       "\n",
       "    canvas_div.on(\"wheel\", function (event) {\n",
       "        event = event.originalEvent;\n",
       "        event['data'] = 'scroll'\n",
       "        if (event.deltaY < 0) {\n",
       "            event.step = 1;\n",
       "        } else {\n",
       "            event.step = -1;\n",
       "        }\n",
       "        mouse_event_fn(event);\n",
       "    });\n",
       "\n",
       "    canvas_div.append(canvas);\n",
       "    canvas_div.append(rubberband);\n",
       "\n",
       "    this.rubberband = rubberband;\n",
       "    this.rubberband_canvas = rubberband[0];\n",
       "    this.rubberband_context = rubberband[0].getContext(\"2d\");\n",
       "    this.rubberband_context.strokeStyle = \"#000000\";\n",
       "\n",
       "    this._resize_canvas = function(width, height) {\n",
       "        // Keep the size of the canvas, canvas container, and rubber band\n",
       "        // canvas in synch.\n",
       "        canvas_div.css('width', width)\n",
       "        canvas_div.css('height', height)\n",
       "\n",
       "        canvas.attr('width', width * mpl.ratio);\n",
       "        canvas.attr('height', height * mpl.ratio);\n",
       "        canvas.attr('style', 'width: ' + width + 'px; height: ' + height + 'px;');\n",
       "\n",
       "        rubberband.attr('width', width);\n",
       "        rubberband.attr('height', height);\n",
       "    }\n",
       "\n",
       "    // Set the figure to an initial 600x600px, this will subsequently be updated\n",
       "    // upon first draw.\n",
       "    this._resize_canvas(600, 600);\n",
       "\n",
       "    // Disable right mouse context menu.\n",
       "    $(this.rubberband_canvas).bind(\"contextmenu\",function(e){\n",
       "        return false;\n",
       "    });\n",
       "\n",
       "    function set_focus () {\n",
       "        canvas.focus();\n",
       "        canvas_div.focus();\n",
       "    }\n",
       "\n",
       "    window.setTimeout(set_focus, 100);\n",
       "}\n",
       "\n",
       "mpl.figure.prototype._init_toolbar = function() {\n",
       "    var fig = this;\n",
       "\n",
       "    var nav_element = $('<div/>')\n",
       "    nav_element.attr('style', 'width: 100%');\n",
       "    this.root.append(nav_element);\n",
       "\n",
       "    // Define a callback function for later on.\n",
       "    function toolbar_event(event) {\n",
       "        return fig.toolbar_button_onclick(event['data']);\n",
       "    }\n",
       "    function toolbar_mouse_event(event) {\n",
       "        return fig.toolbar_button_onmouseover(event['data']);\n",
       "    }\n",
       "\n",
       "    for(var toolbar_ind in mpl.toolbar_items) {\n",
       "        var name = mpl.toolbar_items[toolbar_ind][0];\n",
       "        var tooltip = mpl.toolbar_items[toolbar_ind][1];\n",
       "        var image = mpl.toolbar_items[toolbar_ind][2];\n",
       "        var method_name = mpl.toolbar_items[toolbar_ind][3];\n",
       "\n",
       "        if (!name) {\n",
       "            // put a spacer in here.\n",
       "            continue;\n",
       "        }\n",
       "        var button = $('<button/>');\n",
       "        button.addClass('ui-button ui-widget ui-state-default ui-corner-all ' +\n",
       "                        'ui-button-icon-only');\n",
       "        button.attr('role', 'button');\n",
       "        button.attr('aria-disabled', 'false');\n",
       "        button.click(method_name, toolbar_event);\n",
       "        button.mouseover(tooltip, toolbar_mouse_event);\n",
       "\n",
       "        var icon_img = $('<span/>');\n",
       "        icon_img.addClass('ui-button-icon-primary ui-icon');\n",
       "        icon_img.addClass(image);\n",
       "        icon_img.addClass('ui-corner-all');\n",
       "\n",
       "        var tooltip_span = $('<span/>');\n",
       "        tooltip_span.addClass('ui-button-text');\n",
       "        tooltip_span.html(tooltip);\n",
       "\n",
       "        button.append(icon_img);\n",
       "        button.append(tooltip_span);\n",
       "\n",
       "        nav_element.append(button);\n",
       "    }\n",
       "\n",
       "    var fmt_picker_span = $('<span/>');\n",
       "\n",
       "    var fmt_picker = $('<select/>');\n",
       "    fmt_picker.addClass('mpl-toolbar-option ui-widget ui-widget-content');\n",
       "    fmt_picker_span.append(fmt_picker);\n",
       "    nav_element.append(fmt_picker_span);\n",
       "    this.format_dropdown = fmt_picker[0];\n",
       "\n",
       "    for (var ind in mpl.extensions) {\n",
       "        var fmt = mpl.extensions[ind];\n",
       "        var option = $(\n",
       "            '<option/>', {selected: fmt === mpl.default_extension}).html(fmt);\n",
       "        fmt_picker.append(option)\n",
       "    }\n",
       "\n",
       "    // Add hover states to the ui-buttons\n",
       "    $( \".ui-button\" ).hover(\n",
       "        function() { $(this).addClass(\"ui-state-hover\");},\n",
       "        function() { $(this).removeClass(\"ui-state-hover\");}\n",
       "    );\n",
       "\n",
       "    var status_bar = $('<span class=\"mpl-message\"/>');\n",
       "    nav_element.append(status_bar);\n",
       "    this.message = status_bar[0];\n",
       "}\n",
       "\n",
       "mpl.figure.prototype.request_resize = function(x_pixels, y_pixels) {\n",
       "    // Request matplotlib to resize the figure. Matplotlib will then trigger a resize in the client,\n",
       "    // which will in turn request a refresh of the image.\n",
       "    this.send_message('resize', {'width': x_pixels, 'height': y_pixels});\n",
       "}\n",
       "\n",
       "mpl.figure.prototype.send_message = function(type, properties) {\n",
       "    properties['type'] = type;\n",
       "    properties['figure_id'] = this.id;\n",
       "    this.ws.send(JSON.stringify(properties));\n",
       "}\n",
       "\n",
       "mpl.figure.prototype.send_draw_message = function() {\n",
       "    if (!this.waiting) {\n",
       "        this.waiting = true;\n",
       "        this.ws.send(JSON.stringify({type: \"draw\", figure_id: this.id}));\n",
       "    }\n",
       "}\n",
       "\n",
       "\n",
       "mpl.figure.prototype.handle_save = function(fig, msg) {\n",
       "    var format_dropdown = fig.format_dropdown;\n",
       "    var format = format_dropdown.options[format_dropdown.selectedIndex].value;\n",
       "    fig.ondownload(fig, format);\n",
       "}\n",
       "\n",
       "\n",
       "mpl.figure.prototype.handle_resize = function(fig, msg) {\n",
       "    var size = msg['size'];\n",
       "    if (size[0] != fig.canvas.width || size[1] != fig.canvas.height) {\n",
       "        fig._resize_canvas(size[0], size[1]);\n",
       "        fig.send_message(\"refresh\", {});\n",
       "    };\n",
       "}\n",
       "\n",
       "mpl.figure.prototype.handle_rubberband = function(fig, msg) {\n",
       "    var x0 = msg['x0'] / mpl.ratio;\n",
       "    var y0 = (fig.canvas.height - msg['y0']) / mpl.ratio;\n",
       "    var x1 = msg['x1'] / mpl.ratio;\n",
       "    var y1 = (fig.canvas.height - msg['y1']) / mpl.ratio;\n",
       "    x0 = Math.floor(x0) + 0.5;\n",
       "    y0 = Math.floor(y0) + 0.5;\n",
       "    x1 = Math.floor(x1) + 0.5;\n",
       "    y1 = Math.floor(y1) + 0.5;\n",
       "    var min_x = Math.min(x0, x1);\n",
       "    var min_y = Math.min(y0, y1);\n",
       "    var width = Math.abs(x1 - x0);\n",
       "    var height = Math.abs(y1 - y0);\n",
       "\n",
       "    fig.rubberband_context.clearRect(\n",
       "        0, 0, fig.canvas.width, fig.canvas.height);\n",
       "\n",
       "    fig.rubberband_context.strokeRect(min_x, min_y, width, height);\n",
       "}\n",
       "\n",
       "mpl.figure.prototype.handle_figure_label = function(fig, msg) {\n",
       "    // Updates the figure title.\n",
       "    fig.header.textContent = msg['label'];\n",
       "}\n",
       "\n",
       "mpl.figure.prototype.handle_cursor = function(fig, msg) {\n",
       "    var cursor = msg['cursor'];\n",
       "    switch(cursor)\n",
       "    {\n",
       "    case 0:\n",
       "        cursor = 'pointer';\n",
       "        break;\n",
       "    case 1:\n",
       "        cursor = 'default';\n",
       "        break;\n",
       "    case 2:\n",
       "        cursor = 'crosshair';\n",
       "        break;\n",
       "    case 3:\n",
       "        cursor = 'move';\n",
       "        break;\n",
       "    }\n",
       "    fig.rubberband_canvas.style.cursor = cursor;\n",
       "}\n",
       "\n",
       "mpl.figure.prototype.handle_message = function(fig, msg) {\n",
       "    fig.message.textContent = msg['message'];\n",
       "}\n",
       "\n",
       "mpl.figure.prototype.handle_draw = function(fig, msg) {\n",
       "    // Request the server to send over a new figure.\n",
       "    fig.send_draw_message();\n",
       "}\n",
       "\n",
       "mpl.figure.prototype.handle_image_mode = function(fig, msg) {\n",
       "    fig.image_mode = msg['mode'];\n",
       "}\n",
       "\n",
       "mpl.figure.prototype.updated_canvas_event = function() {\n",
       "    // Called whenever the canvas gets updated.\n",
       "    this.send_message(\"ack\", {});\n",
       "}\n",
       "\n",
       "// A function to construct a web socket function for onmessage handling.\n",
       "// Called in the figure constructor.\n",
       "mpl.figure.prototype._make_on_message_function = function(fig) {\n",
       "    return function socket_on_message(evt) {\n",
       "        if (evt.data instanceof Blob) {\n",
       "            /* FIXME: We get \"Resource interpreted as Image but\n",
       "             * transferred with MIME type text/plain:\" errors on\n",
       "             * Chrome.  But how to set the MIME type?  It doesn't seem\n",
       "             * to be part of the websocket stream */\n",
       "            evt.data.type = \"image/png\";\n",
       "\n",
       "            /* Free the memory for the previous frames */\n",
       "            if (fig.imageObj.src) {\n",
       "                (window.URL || window.webkitURL).revokeObjectURL(\n",
       "                    fig.imageObj.src);\n",
       "            }\n",
       "\n",
       "            fig.imageObj.src = (window.URL || window.webkitURL).createObjectURL(\n",
       "                evt.data);\n",
       "            fig.updated_canvas_event();\n",
       "            fig.waiting = false;\n",
       "            return;\n",
       "        }\n",
       "        else if (typeof evt.data === 'string' && evt.data.slice(0, 21) == \"data:image/png;base64\") {\n",
       "            fig.imageObj.src = evt.data;\n",
       "            fig.updated_canvas_event();\n",
       "            fig.waiting = false;\n",
       "            return;\n",
       "        }\n",
       "\n",
       "        var msg = JSON.parse(evt.data);\n",
       "        var msg_type = msg['type'];\n",
       "\n",
       "        // Call the  \"handle_{type}\" callback, which takes\n",
       "        // the figure and JSON message as its only arguments.\n",
       "        try {\n",
       "            var callback = fig[\"handle_\" + msg_type];\n",
       "        } catch (e) {\n",
       "            console.log(\"No handler for the '\" + msg_type + \"' message type: \", msg);\n",
       "            return;\n",
       "        }\n",
       "\n",
       "        if (callback) {\n",
       "            try {\n",
       "                // console.log(\"Handling '\" + msg_type + \"' message: \", msg);\n",
       "                callback(fig, msg);\n",
       "            } catch (e) {\n",
       "                console.log(\"Exception inside the 'handler_\" + msg_type + \"' callback:\", e, e.stack, msg);\n",
       "            }\n",
       "        }\n",
       "    };\n",
       "}\n",
       "\n",
       "// from http://stackoverflow.com/questions/1114465/getting-mouse-location-in-canvas\n",
       "mpl.findpos = function(e) {\n",
       "    //this section is from http://www.quirksmode.org/js/events_properties.html\n",
       "    var targ;\n",
       "    if (!e)\n",
       "        e = window.event;\n",
       "    if (e.target)\n",
       "        targ = e.target;\n",
       "    else if (e.srcElement)\n",
       "        targ = e.srcElement;\n",
       "    if (targ.nodeType == 3) // defeat Safari bug\n",
       "        targ = targ.parentNode;\n",
       "\n",
       "    // jQuery normalizes the pageX and pageY\n",
       "    // pageX,Y are the mouse positions relative to the document\n",
       "    // offset() returns the position of the element relative to the document\n",
       "    var x = e.pageX - $(targ).offset().left;\n",
       "    var y = e.pageY - $(targ).offset().top;\n",
       "\n",
       "    return {\"x\": x, \"y\": y};\n",
       "};\n",
       "\n",
       "/*\n",
       " * return a copy of an object with only non-object keys\n",
       " * we need this to avoid circular references\n",
       " * http://stackoverflow.com/a/24161582/3208463\n",
       " */\n",
       "function simpleKeys (original) {\n",
       "  return Object.keys(original).reduce(function (obj, key) {\n",
       "    if (typeof original[key] !== 'object')\n",
       "        obj[key] = original[key]\n",
       "    return obj;\n",
       "  }, {});\n",
       "}\n",
       "\n",
       "mpl.figure.prototype.mouse_event = function(event, name) {\n",
       "    var canvas_pos = mpl.findpos(event)\n",
       "\n",
       "    if (name === 'button_press')\n",
       "    {\n",
       "        this.canvas.focus();\n",
       "        this.canvas_div.focus();\n",
       "    }\n",
       "\n",
       "    var x = canvas_pos.x * mpl.ratio;\n",
       "    var y = canvas_pos.y * mpl.ratio;\n",
       "\n",
       "    this.send_message(name, {x: x, y: y, button: event.button,\n",
       "                             step: event.step,\n",
       "                             guiEvent: simpleKeys(event)});\n",
       "\n",
       "    /* This prevents the web browser from automatically changing to\n",
       "     * the text insertion cursor when the button is pressed.  We want\n",
       "     * to control all of the cursor setting manually through the\n",
       "     * 'cursor' event from matplotlib */\n",
       "    event.preventDefault();\n",
       "    return false;\n",
       "}\n",
       "\n",
       "mpl.figure.prototype._key_event_extra = function(event, name) {\n",
       "    // Handle any extra behaviour associated with a key event\n",
       "}\n",
       "\n",
       "mpl.figure.prototype.key_event = function(event, name) {\n",
       "\n",
       "    // Prevent repeat events\n",
       "    if (name == 'key_press')\n",
       "    {\n",
       "        if (event.which === this._key)\n",
       "            return;\n",
       "        else\n",
       "            this._key = event.which;\n",
       "    }\n",
       "    if (name == 'key_release')\n",
       "        this._key = null;\n",
       "\n",
       "    var value = '';\n",
       "    if (event.ctrlKey && event.which != 17)\n",
       "        value += \"ctrl+\";\n",
       "    if (event.altKey && event.which != 18)\n",
       "        value += \"alt+\";\n",
       "    if (event.shiftKey && event.which != 16)\n",
       "        value += \"shift+\";\n",
       "\n",
       "    value += 'k';\n",
       "    value += event.which.toString();\n",
       "\n",
       "    this._key_event_extra(event, name);\n",
       "\n",
       "    this.send_message(name, {key: value,\n",
       "                             guiEvent: simpleKeys(event)});\n",
       "    return false;\n",
       "}\n",
       "\n",
       "mpl.figure.prototype.toolbar_button_onclick = function(name) {\n",
       "    if (name == 'download') {\n",
       "        this.handle_save(this, null);\n",
       "    } else {\n",
       "        this.send_message(\"toolbar_button\", {name: name});\n",
       "    }\n",
       "};\n",
       "\n",
       "mpl.figure.prototype.toolbar_button_onmouseover = function(tooltip) {\n",
       "    this.message.textContent = tooltip;\n",
       "};\n",
       "mpl.toolbar_items = [[\"Home\", \"Reset original view\", \"fa fa-home icon-home\", \"home\"], [\"Back\", \"Back to  previous view\", \"fa fa-arrow-left icon-arrow-left\", \"back\"], [\"Forward\", \"Forward to next view\", \"fa fa-arrow-right icon-arrow-right\", \"forward\"], [\"\", \"\", \"\", \"\"], [\"Pan\", \"Pan axes with left mouse, zoom with right\", \"fa fa-arrows icon-move\", \"pan\"], [\"Zoom\", \"Zoom to rectangle\", \"fa fa-square-o icon-check-empty\", \"zoom\"], [\"\", \"\", \"\", \"\"], [\"Download\", \"Download plot\", \"fa fa-floppy-o icon-save\", \"download\"]];\n",
       "\n",
       "mpl.extensions = [\"eps\", \"pdf\", \"png\", \"ps\", \"raw\", \"svg\"];\n",
       "\n",
       "mpl.default_extension = \"png\";var comm_websocket_adapter = function(comm) {\n",
       "    // Create a \"websocket\"-like object which calls the given IPython comm\n",
       "    // object with the appropriate methods. Currently this is a non binary\n",
       "    // socket, so there is still some room for performance tuning.\n",
       "    var ws = {};\n",
       "\n",
       "    ws.close = function() {\n",
       "        comm.close()\n",
       "    };\n",
       "    ws.send = function(m) {\n",
       "        //console.log('sending', m);\n",
       "        comm.send(m);\n",
       "    };\n",
       "    // Register the callback with on_msg.\n",
       "    comm.on_msg(function(msg) {\n",
       "        //console.log('receiving', msg['content']['data'], msg);\n",
       "        // Pass the mpl event to the overriden (by mpl) onmessage function.\n",
       "        ws.onmessage(msg['content']['data'])\n",
       "    });\n",
       "    return ws;\n",
       "}\n",
       "\n",
       "mpl.mpl_figure_comm = function(comm, msg) {\n",
       "    // This is the function which gets called when the mpl process\n",
       "    // starts-up an IPython Comm through the \"matplotlib\" channel.\n",
       "\n",
       "    var id = msg.content.data.id;\n",
       "    // Get hold of the div created by the display call when the Comm\n",
       "    // socket was opened in Python.\n",
       "    var element = $(\"#\" + id);\n",
       "    var ws_proxy = comm_websocket_adapter(comm)\n",
       "\n",
       "    function ondownload(figure, format) {\n",
       "        window.open(figure.imageObj.src);\n",
       "    }\n",
       "\n",
       "    var fig = new mpl.figure(id, ws_proxy,\n",
       "                           ondownload,\n",
       "                           element.get(0));\n",
       "\n",
       "    // Call onopen now - mpl needs it, as it is assuming we've passed it a real\n",
       "    // web socket which is closed, not our websocket->open comm proxy.\n",
       "    ws_proxy.onopen();\n",
       "\n",
       "    fig.parent_element = element.get(0);\n",
       "    fig.cell_info = mpl.find_output_cell(\"<div id='\" + id + \"'></div>\");\n",
       "    if (!fig.cell_info) {\n",
       "        console.error(\"Failed to find cell for figure\", id, fig);\n",
       "        return;\n",
       "    }\n",
       "\n",
       "    var output_index = fig.cell_info[2]\n",
       "    var cell = fig.cell_info[0];\n",
       "\n",
       "};\n",
       "\n",
       "mpl.figure.prototype.handle_close = function(fig, msg) {\n",
       "    var width = fig.canvas.width/mpl.ratio\n",
       "    fig.root.unbind('remove')\n",
       "\n",
       "    // Update the output cell to use the data from the current canvas.\n",
       "    fig.push_to_output();\n",
       "    var dataURL = fig.canvas.toDataURL();\n",
       "    // Re-enable the keyboard manager in IPython - without this line, in FF,\n",
       "    // the notebook keyboard shortcuts fail.\n",
       "    IPython.keyboard_manager.enable()\n",
       "    $(fig.parent_element).html('<img src=\"' + dataURL + '\" width=\"' + width + '\">');\n",
       "    fig.close_ws(fig, msg);\n",
       "}\n",
       "\n",
       "mpl.figure.prototype.close_ws = function(fig, msg){\n",
       "    fig.send_message('closing', msg);\n",
       "    // fig.ws.close()\n",
       "}\n",
       "\n",
       "mpl.figure.prototype.push_to_output = function(remove_interactive) {\n",
       "    // Turn the data on the canvas into data in the output cell.\n",
       "    var width = this.canvas.width/mpl.ratio\n",
       "    var dataURL = this.canvas.toDataURL();\n",
       "    this.cell_info[1]['text/html'] = '<img src=\"' + dataURL + '\" width=\"' + width + '\">';\n",
       "}\n",
       "\n",
       "mpl.figure.prototype.updated_canvas_event = function() {\n",
       "    // Tell IPython that the notebook contents must change.\n",
       "    IPython.notebook.set_dirty(true);\n",
       "    this.send_message(\"ack\", {});\n",
       "    var fig = this;\n",
       "    // Wait a second, then push the new image to the DOM so\n",
       "    // that it is saved nicely (might be nice to debounce this).\n",
       "    setTimeout(function () { fig.push_to_output() }, 1000);\n",
       "}\n",
       "\n",
       "mpl.figure.prototype._init_toolbar = function() {\n",
       "    var fig = this;\n",
       "\n",
       "    var nav_element = $('<div/>')\n",
       "    nav_element.attr('style', 'width: 100%');\n",
       "    this.root.append(nav_element);\n",
       "\n",
       "    // Define a callback function for later on.\n",
       "    function toolbar_event(event) {\n",
       "        return fig.toolbar_button_onclick(event['data']);\n",
       "    }\n",
       "    function toolbar_mouse_event(event) {\n",
       "        return fig.toolbar_button_onmouseover(event['data']);\n",
       "    }\n",
       "\n",
       "    for(var toolbar_ind in mpl.toolbar_items){\n",
       "        var name = mpl.toolbar_items[toolbar_ind][0];\n",
       "        var tooltip = mpl.toolbar_items[toolbar_ind][1];\n",
       "        var image = mpl.toolbar_items[toolbar_ind][2];\n",
       "        var method_name = mpl.toolbar_items[toolbar_ind][3];\n",
       "\n",
       "        if (!name) { continue; };\n",
       "\n",
       "        var button = $('<button class=\"btn btn-default\" href=\"#\" title=\"' + name + '\"><i class=\"fa ' + image + ' fa-lg\"></i></button>');\n",
       "        button.click(method_name, toolbar_event);\n",
       "        button.mouseover(tooltip, toolbar_mouse_event);\n",
       "        nav_element.append(button);\n",
       "    }\n",
       "\n",
       "    // Add the status bar.\n",
       "    var status_bar = $('<span class=\"mpl-message\" style=\"text-align:right; float: right;\"/>');\n",
       "    nav_element.append(status_bar);\n",
       "    this.message = status_bar[0];\n",
       "\n",
       "    // Add the close button to the window.\n",
       "    var buttongrp = $('<div class=\"btn-group inline pull-right\"></div>');\n",
       "    var button = $('<button class=\"btn btn-mini btn-primary\" href=\"#\" title=\"Stop Interaction\"><i class=\"fa fa-power-off icon-remove icon-large\"></i></button>');\n",
       "    button.click(function (evt) { fig.handle_close(fig, {}); } );\n",
       "    button.mouseover('Stop Interaction', toolbar_mouse_event);\n",
       "    buttongrp.append(button);\n",
       "    var titlebar = this.root.find($('.ui-dialog-titlebar'));\n",
       "    titlebar.prepend(buttongrp);\n",
       "}\n",
       "\n",
       "mpl.figure.prototype._root_extra_style = function(el){\n",
       "    var fig = this\n",
       "    el.on(\"remove\", function(){\n",
       "\tfig.close_ws(fig, {});\n",
       "    });\n",
       "}\n",
       "\n",
       "mpl.figure.prototype._canvas_extra_style = function(el){\n",
       "    // this is important to make the div 'focusable\n",
       "    el.attr('tabindex', 0)\n",
       "    // reach out to IPython and tell the keyboard manager to turn it's self\n",
       "    // off when our div gets focus\n",
       "\n",
       "    // location in version 3\n",
       "    if (IPython.notebook.keyboard_manager) {\n",
       "        IPython.notebook.keyboard_manager.register_events(el);\n",
       "    }\n",
       "    else {\n",
       "        // location in version 2\n",
       "        IPython.keyboard_manager.register_events(el);\n",
       "    }\n",
       "\n",
       "}\n",
       "\n",
       "mpl.figure.prototype._key_event_extra = function(event, name) {\n",
       "    var manager = IPython.notebook.keyboard_manager;\n",
       "    if (!manager)\n",
       "        manager = IPython.keyboard_manager;\n",
       "\n",
       "    // Check for shift+enter\n",
       "    if (event.shiftKey && event.which == 13) {\n",
       "        this.canvas_div.blur();\n",
       "        event.shiftKey = false;\n",
       "        // Send a \"J\" for go to next cell\n",
       "        event.which = 74;\n",
       "        event.keyCode = 74;\n",
       "        manager.command_mode();\n",
       "        manager.handle_keydown(event);\n",
       "    }\n",
       "}\n",
       "\n",
       "mpl.figure.prototype.handle_save = function(fig, msg) {\n",
       "    fig.ondownload(fig, null);\n",
       "}\n",
       "\n",
       "\n",
       "mpl.find_output_cell = function(html_output) {\n",
       "    // Return the cell and output element which can be found *uniquely* in the notebook.\n",
       "    // Note - this is a bit hacky, but it is done because the \"notebook_saving.Notebook\"\n",
       "    // IPython event is triggered only after the cells have been serialised, which for\n",
       "    // our purposes (turning an active figure into a static one), is too late.\n",
       "    var cells = IPython.notebook.get_cells();\n",
       "    var ncells = cells.length;\n",
       "    for (var i=0; i<ncells; i++) {\n",
       "        var cell = cells[i];\n",
       "        if (cell.cell_type === 'code'){\n",
       "            for (var j=0; j<cell.output_area.outputs.length; j++) {\n",
       "                var data = cell.output_area.outputs[j];\n",
       "                if (data.data) {\n",
       "                    // IPython >= 3 moved mimebundle to data attribute of output\n",
       "                    data = data.data;\n",
       "                }\n",
       "                if (data['text/html'] == html_output) {\n",
       "                    return [cell, data, j];\n",
       "                }\n",
       "            }\n",
       "        }\n",
       "    }\n",
       "}\n",
       "\n",
       "// Register the function which deals with the matplotlib target/channel.\n",
       "// The kernel may be null if the page has been refreshed.\n",
       "if (IPython.notebook.kernel != null) {\n",
       "    IPython.notebook.kernel.comm_manager.register_target('matplotlib', mpl.mpl_figure_comm);\n",
       "}\n"
      ],
      "text/plain": [
       "<IPython.core.display.Javascript object>"
      ]
     },
     "metadata": {},
     "output_type": "display_data"
    },
    {
     "data": {
      "text/html": [
       "<img src=\"data:image/png;base64,iVBORw0KGgoAAAANSUhEUgAAAsAAAAIQCAYAAACPEdjAAAAgAElEQVR4XuydCZgcRdnH3+qZ3Q3JLkKCHEmAhExXbwKJQDgSDgkK4oHiBQiCIIri9SkeKHx4gQgiKoonooIiiiCHF6Cg4RBECCLIZvvtSViV2wtIzLGZ6fd7/pPu/Xonszu7szs72zNvPY+PZKe7uutXVV3/euuttwxpUgJKQAkoASWgBJSAElACLUTAtFBZtahKQAkoASWgBJSAElACSoBUAGsjUAJKQAkoASWgBJSAEmgpAiqAW6q6tbBKQAkoASWgBJSAElACKoC1DSgBJaAElIASUAJKQAm0FAEVwC1V3VpYJaAElIASUAJKQAkoARXA2gaUgBJQAkpACSgBJaAEWoqACuCWqm4trBJQAkpACSgBJaAElIAKYG0DSkAJKAEloASUgBJQAi1FQAVwS1W3FlYJKAEloASUgBJQAkpABbC2ASWgBJSAElACSkAJKIGWIqACuKWqWwurBJSAElACSkAJKAEloAJY24ASUAJKQAkoASWgBJRASxFQAdxS1a2FVQJKQAkoASWgBJSAElABrG1ACSgBJaAElIASUAJKoKUIqABuqerWwioBJaAElIASUAJKQAmoANY2oASUgBJQAkpACSgBJdBSBFQAt1R1a2GVgBJQAkpACSgBJaAEVABrG1ACSkAJKAEloASUgBJoKQIqgFuqurWwSkAJKAEloASUgBJQAiqAtQ0oASWgBJSAElACSkAJtBQBFcAtVd1aWCWgBJSAElACSkAJKAEVwNoGlIASUAJKQAkoASWgBFqKgArglqpuLawSUAJKQAkoASWgBJSACmBtA0pACSgBJaAElIASUAItRUAFcEtVtxZWCSgBJaAElIASUAJKQAWwtgEloASUgBJQAkpACSiBliKgArilqlsLqwSUgBJQAkpACSgBJaACWNuAElACSkAJKAEloASUQEsRUAHcUtWthVUCSkAJKAEloASUgBJQAaxtQAkoASWgBJSAElACSqClCKgAbqnq1sIqASWgBJSAElACSkAJqADWNqAElIASUAJKQAkoASXQUgRUALdUdWthlYASUAJKQAkoASWgBFQAaxtQAkpACSgBJaAElIASaCkCKoBbqrq1sEpACSgBJaAElIASUAIqgLUNKAEloASUgBJQAkpACbQUARXALVXdWlgloASUgBJQAkpACSgBFcDaBpSAElACSkAJKAEloARaikBLCGDXdU82xnyPiP6dyWT2WLly5ZOVarm7u3tZGIa/I6Ibmfm1jWwJ1trLiegkInodM9/QyHcZy7OttW8iorOJKEdE60XkY0EQfGsseeq9/0/AWvspIvqkMeZ03/cvHm821tqDHMeZ1tvbe0uct7VWiOg5Zt5mvJ83XH6zZ8/eaurUqRcR0RuJCM/+l+M4rw7D8H4i+jMz7zne75PL5V6YyWSO933/y7Xkba39LBGd2d/fv21fX9+zlfKI+sgHiGg+EYVE9IcwDM/J5/P3jPSZEZvTiegEIpqD+iGim9H3mPnx8nwWLly4bX9//1ki8joimk1Ezxhjrt+4ceMnK72ntXYW2hkRvYyIdiSivxPRVf39/ef39fVtGOl7TvR19e4fE12ekT7PWvtSIrqAiHYnok3GmK/4vv/xoe7v7u6eE4bhYcx8WXyN53nLReQQEdkrCIIHR/rsWq/bbbfdXpDNZh8mop2NMef5vo9xo2KaM2fONu3t7Y8Q0UwReWsQBBgvR5WstU8R0Q79/f1bTVQbzuVySxzHuUdEbgmC4OWjeuHExXPnzt2hra3taGb+aq151Pk+x1p7ShiGN+fz+cfq/Kyas281AQxQNzHzKysRUwFcczuqeKPneZ6I4COFQf37IvJPIvrxRHxMx7ckkze3qM1i4oYPzR/G801d1z3NGPONcnHdKAHsed5nROR/iehREbmGiGTTpk0XtLe3f0BEngqC4JvjWf558+Ztn8lkAjyvFnFtrX0LEWHi7QwlgK21nyCiT+MZRHSdiGzrOM6bRKSDiF7NzDdVK9PixYvb1q5d+wsRgTi9m4juEJEFxpjXENFThUJh/9WrV/8tzieXy23tOM7tRIQJA0TygyKyxBizjIhWFgqFpatXr4aALqVcLjfbcRzkO0tEriOiVUR0mDFmsTHm9s7OzsNXrFixqdp7NuL3evaPRpRnJM+MxCEmKJ1E9CMi6jPG3Or7/m8r3W+tfRER3Yu2kDT8TLQAxrtFwv03RFR0HGdJb2/viiHe+ftEdKKIXBsEwdEj4VJ+TVoFcNQfe4ioh5mX1FL2et9jrb2eiGBEnM/MvfV+Xq35t6IABqt3MPO3y6GpAK61GVW+z3Xd44wxV+EjzMzHj2/umlu9CQxlPWugAL4FIi8MwyPy+fyv613+yCoGYToq6/KyZcuyTzzxxDlE9DEiKn1jKwngXC63u+M4D2OS2NbWtrSnp2dtJDj3dhznLiL6z7p163KPPfbY+uHKaq19NxF9jYguZ+a3xtfGExgiup6ZXx//3fO8C0XkIxDezIwVhFJyXfcCY8xHiehLzPzB+O/W2p8Q0dFlljbH87wfiMjxIvL+IAi+Uu/60PxHRiCXyy3FhMUYc4/v+wdUu2uoca8RAjgSwZcQ0XuJ6JFsNrt3T09Pf7IMuVzu1Y7j/IyIHm9ra1v0yCOP/LtaGSv9nlYBbK3txkQVk5ZJLIBhjNlfBXAtLXOc74ldIERkhTFmbyL6rzFmke/7GNwGkgrg8QWf4P7lIAiwxKspRQQmoQCe0CXZWgSw53kvERGIUQxSfySi3Yhou0oC2PO8b4rIO40xx/q+D5E5kKy1WNp8DwRmEASw4g2ZrLWwsLjZbHZWT08PlnUHkuu6DxtjFhDRLnCFgLV4zZo1/yKiQhiGO+Xz+Y3xxblcrsNxHLhLtIVhuD1+8zwPS8ywJvYyM5bTB1K0DIvr88yM8mqaBARGO45NNgE8c+bMqdOmTXvQGOMS0WeZGas+pQTXnY0bN2JVEW44hzPzbbUiVwFcK7nq91lrVQBXxzQxVySFGJ5ojHk/lgmZ+dBoeb70IpU+BMN9TFzX3dMY8ycsA/q+j+VDWFFK/sbGmBOxRCsiH4p8+7Ck+NMpU6acISLtGzZsOM8YA6vMNMzmjDGf8H0fy5GllPABhg/tIiLCcuoLsfwoIpdvvfXWF5cvO3qe1xWG4UeMMVgSmgufWyK6JwzDz+XzeSx5DiRrbR8GQSJ6p4hgmXsXLJWFYbhfPp9/fqiawfJpJpNBGd4QDe4bROQBx3G+5vv+tYn3h5/ooJTkVCn/yOJwkDFmWyL6hIigHDsREXy2rzXGfNr3/TXJe13X3Q3s8DEkounGmB4R+byI5Iwx5zqOc2hvb+/yiCne6TYR+a4x5nMQJqg/3/cPQjvwPO9AEfkfIoLVZHv4zhHRatRbGIYXJMVCZAW9zXGcd4dheD4RvYSIsiJyv+M4H/F9/37Xdd8K9wE0CyJ6Au4f/f395yb9zXK53ALHceBbuS+WmIkIfqLw/fwCM99ZrYdUEqm1cCx/TtQ+dk3+PWYZW4DDMFzsOM65kV8o2jHcBb7JzN9A2y9rb1hmPYuI0E9QvxBOPy8Wi59ZtWrVM8OVM+HDP+gyWCQzmczyMAwHWWkT159qjEFdHisisCKdy8xfHAnzmGvZe13BzCcP965Rv4Vf7QVdXV0XrVmzBkx2rSSArbVYxpw/hHU4tnJ9h5nfPtQzIzeNp4eyUltrv0BEH8T3yPf9K621+0XL3RX3OVhrf0pE+C4dzMx3eZ53jIhcLSIVJ7Ge560Qkb3DMNx5OF+/+Dsa9dUuCP/IOn5ZbG2OluKHbSOR1fwvRPQnZoYxY1ByXfdIY8zP8Q32ff+UoSZxI/lWRq4icNt6ipnxfUx+P+M9Gl9jZlgrSymy/qM9w0ce32CMKweEYXhm5HKC78o/MP4YYy7wff+han0cvy9YsKB906ZN7zfGvJmIvOjb/Qi+ZUEQwG8XbmYYN/BdH9RvieivzAy/8C1SYpxJ/lZaGYgtwET0YhEB12OT3+MpU6Z88qGHHvpv8kZMirLZ7JmR+w2+Z8+JCMae80bj+hb5ymIVhBzH2T92hbDW/iDyc8f38cPlBYr8iLGKgfEJHPB+9xhjzvd9//dldTjIBzhhWf0OEV1BRPiuo41hPMTeIHAZ8XK+53lvIyKsznSLyPPoR0T0S2PMr8t9gKNx9f1hGB4VCf+tsGeJiH4fvTv2OSRXaQaKYoz5lu/7p+EPuVxunjHmQ8YY+IDvDHwYe0Tk5mw2e27Z/ies4nw4DMNjomdmoC+MMdeuWbPmC0888cS6JK/58+e7xWIRkxGMtdAiaOc3ZzIZ5PvXqP3F1unkrRuZecpI2vlEX9NSLhD4iK9fv/7MqVOn/in6iHyYmTFAlNJ4CuDI2rwHfJSMMRig4g6JDW0QRBBLNzuO80IRgcgNHcfZu7e3F5sAkgIY4m/ryJdrozHm1SKyCz7yvu8fFQsNa+12+KhGYhuzL/jsdcUbhkTk3UkfyehDCSGSMcbcLCLwEexi5lOHaoTz58/fqVgs4hnY0PaQMQYWuelEdCQ2JUUbLTC5wPtjaRU+hnjHkn+ZiPQNt1kh+uAeTETw+8IHG6ywLIxNTzuLyM+CIEB+cX0tjDYtzsAHBSLAGLNPJEbzeM8KAhid9gUQo0QEMf08LAye571ZROBX9h8RudEYg+tmYhNixHGQG0ckAuELCRENIYOP9YsiP0yI2CuJCB9AWPZgcTsOg4eIfC4IAiyNU/RBQT3BVw8+Uxi88NFCeduI6IhqFo5hBPCIOVaqb8/zYLF/bbQJ5hZjzB8cx7m8t7e3Lyo7BOV/ReRxYwx+ny4iKOMUY8zHfN/HBKOUrLXwBcPHH6L4BrQDY8xCIoIv/mN4RhAEmGhUTNFEE3lAfO6KDz58fkXkhkwm8+wwAhgDXMEY82MRmReG4YVtbW3/KhaLVZnjW1AsFl8bTZbRf+Ff/GC1DanW2oPb2toeiZdlY0FSQeRikwgmoP9kZoiiQSkS6bB0/Z6ZMUGrmBLfrGuY+Zjyi2L3iHhTUWKC/nnf988ovz7hHnEqNkQlJgLvYeavV8g/do84PAiCW0fwnqiTdhGBkME36/ogCH46mjZircX3ZL8wDPfI5/NgNJBidw2INkwgK/WP0XwrrbVwtTk8DMPd8/k8+nncpjGBw/cBlnFsXiylXC53iOM4mHCX3Egi8Qsu2Ij2UxFBW7L4LhpjNhaLxX2T+VbiB7EuIngP+HvmRQQ+sh3GmFdEgvQGZsY3o4h+KyL47mIDtY/vnDHm2aE2yEbc0bcGrsf7w2iQEMB4Z1hzrjPGoM1iggRxC59hvEMpRd8zlB1cboVxQUR2gPsMhFgYhkfn8/mfD9VGKrSt0gZSIroPS/3WWmwa+yXGnshQM7B6gXsj8X1nJOYgdjEOYrMs2HSKyKlBEMAnP67DoQTwn6NxFL7xy7FaTER49nPGmMNg3KhWBtd1v26MeReMN8aYn0U+/Ri7YJTCqsrAJrgFCxZ0FgoFtGms1PzWGPNAGIZtxpgDiQjj2QbHcV7U29vLruvC9x719Z7IiHAZjC5BEPwi+k5isoH9A3ARgZjdRkReFY0r3NXVtUdsOLPWYjP6OzBu4rnRJArl3L1coLuu+2JjDNhDmKM8HHFGmTDJeSkmOFHfwoQQk3a0ka9F+zM+U41ZI35vOQGMpfjICoJBcBOsWPEHaDwFML4XjuO8JLY+zp8/f9disQjBhFnWnWEYHh5bFK2158E6lhRHiZk5BOC+8cwz2uAAS/H+sVUHDcdaC0GHGfqZzIzdv/FHCaIVZZ2dyWQWrFy5EhapAUsBrL9BEGCWWjV5noeG/+ro447Zd8nqMG/evJ0zmQxmyPNgGQ6CABtlBqzhQ1mPyh+Y+OA+1N/ff0i8G727u3tGGIYMyyEsu7FYstZiiRmW09JgHefnuu7ZsP7i3xUEMFYAPur7/oXx9ZHVBhON9kKhsDC5YcjzvLkigll/Zu3atVvHs+JIBGJQgAUGQjf+qGJwOiyyHqPe8HGJBweU4WlmxvId6gARDbBCMOj9Pc97TSTCMcnBRqYh0zAC+BAMFCPhOFTmVVwgcNsPIotoqR14nvdyEcGmrb7Y+oUoCo7jQNwWROSAIAjguxazwsTvR9VWBuLrK/kkVnJTSFiANxYKBZusz9Ewr8UFopzlUAI4WsqFhcev5D4QTTaxavAIM+8xTB1hggZhMmAFSl6b8MMvWSqttViR+GL5dyJRJxAcn4WPcBAEF3me9+VoVeQ4ZsY3ZlCKB1GsOiVXgMqvS3xb0WeWBEGAAb+URttGXNeF2wjcRwYmk8gnsv5B1DzGzDAyxBPxQVFSRvOttNZCaMAd5YPM/KWoL+9RLBZhqMAEussYM8v3fdRVsk+XBLjnedfimygigyYIruv+jzEGkUUuYWasOg3Xx+Ff/T5MIvv7+0+OV5B233336Zs2bfpV5Gv5IaxuIJM6uED8ZcqUKS9++OGH/4P8I9cXfMuwGjgnYf0rLXuXu+1EltXSBt3+/v45Q0VDKQcAq3ehULgvWgGFTzo47RiG4T7lE5+IPQwmEGQDdRW1L2zixPMR0cUm3ncoAYzbLmVmWFVLK1kJf/qKKw/Jd09Mgh4Ow/Cl+XweFn/UCyJtYIKwa1JgWmthEDm/vD1HZSpt9iOiTzEzNsuijVX0AXZd92ZjzBGYGCVXk+fMmTOlra0NBis3DMNlWA2O+hwmNjxz5sw9li9fjolNaaWhUChgXH1RPOmLIszgG75tGIaHJqPTRJsWMTnDdwzfqXglQl0ghuvUE/lbJV/UeEc5LLWzZs1aggYwzgJ4C8uNtRZWSYjEV2PGFjOw1mIWjQ/ZT5gZInbAAiwi5wZBgCX+gRTNxjDTu42ZD4saMyxiq4IggHVhUIoHDCzLMjMGuKQAhvUNVt1hU2JAxuAC62wxeYO1tjQQY+bPzFgiqVkAVwpr47ourLKviTu353mLRATicouNAJGghWidV0kAFwqFXZOiCB182rRprwrDcEOyXhL1A9HWnVzmjQVwsVh0V61ahXotpVh8w9rj+z4sDwPJWosPzvbr1q2bio1NCTF2aVdX13sTLi1m3rx587bZZpu/VttdP5wAHgnH4Sq9mgBODn4JVpiwTZs5c2Yb+pS1FgL/IhE5OwgCTPQGJWst3D0QgaDb931YrIZMNQjg3zEzXFOSdRBPOqoyr6cAjnZyw7f2YWaGhWlQisQNVg5WMTNWXComz/NOiKypFYWU67qvR1skopIrRWJyOCCYyvhAaHxBRD4eBMFnrLWYWL4tObEtu74kzpKT8Uovmvi2IqIG/KKTdTKqNhK5JkC8/IuZscxdGnRd130HJgJE9L/MDOvhFgJ4tN/KaHL/tzLBUmIUhRn7WJkhAt+d6dEkF25VsQAGT7T/kqCCKJkyZcqOvb29aAODvqVJNpHPNiZKmf7+/pnl4jGXy+3lOM4DkR92SfSPtwDGygszwyUgWWewBmIFB6HTbuvu7l4chSMc+P6XXQ93go+JyGmjCYMZfechgtuRHyZjQRBgk9ygFPUn1NMjQRBgdWlQ8jzv/SKCMJFJITmUAH6uklC31mLlGNb1PWPDRqW27nned/HtrdRnIrc4/D5gAY7qcJ+2traflm/os9bCMg93mwFXm6EEcHd39xEigsnYd8vfy1oLyzfcM0sT1agfYJUTk5oDkq4dCxYs2NEY0x+/S7Q6ihXNrzIzJmKDUhzxIRbXUb9TAVypcTTib5UEcPRhwUwHDbrk8zTOAngL3z1rLWIpwhdyUGiQSs9NWIBLH5gkt2iWhqUU+JlNTwhozMorbZhBnE9YKQc+TrFlKmm9GK5uYt86EflhEASINTooJSxa/8E74cfRboKLBU4YhkvLQ3pZa/EBfguWf3zfvzEx2H2RmTGAlnfK0vUVBPAmZi59TCslxDvFzNcYM9cYYxHqSUSwFJUts3ZgICsyczaZT7QE+aUhZvMl/7x4OTxa5oYlDC4QcJvA8heWS28u36A5zPtuEQd4NByHq/MqArifmbHUVs69VMZCobANQmlZa+H6gKV5LJUPWH/jmyLfQoTTOsH3/R8O9z41COBvMzOW+AbSaJjXUwBHS4WwDFWzAA8bgcLzvDciJFw1C3C8CuO67oeNMZ+vZgGOQ9/Fm/HgwjOcBbhavPLEN+43zIxwbQOpljYS+4LC1zEO72WtxbL3kjAMd439kcvbcC3fysjPecG6deumY+IaWdoWisjBxhgsM5f8jefNm5eLwuYNfPujTZFwz8J3ArGWbw3D8NZsNnvzUPHok2zmz58fW5uHdIWx1mJ/ydZhGL4A+zfGWwCHYXhAeUzqeHyKv8ee571LROAigzF1i9B9xhi4A8INED7fQ7rZVer/ifCHYADXri32lyQMMHBTQYjE8gSjDcTkL5gZq5iYHA0lgCuKeM/zvgEBLyKnJF0pKnwDYZhZVGlshY+u4zhwY9kiDjA2oWYyGbQrTHgxSYRFFSt5M7Hi4fs+XCqGtADH74FVYkTHQB6O4+REBJoDey8wzryJmfFNxordD2Gtj3jC3QOrl79pa2u7Ixl5I7EKBCMdJiODEsInwo2NiAZcSnUT3HAj2QT/NpQQ6+7uhg8p/HkcY8xSY0xn+UEYtW6Cq7TsHwtgx3HmwpcyxjCcAC73PYvvsdbCQT0LMZeYoQ1LFr5Fvu8vjjrRIDFWrUoSz/g6M2NZcIsUvVMmFka1CuBKgdfLDwax1mKzzHnxUm2Fj1DJf6yCAK54gIO1dl8RuTCKhRpnh3izCCcEK+JOyXobKhRYLIDLQ0wNxby7u9ti4yIRwdVhwBcUIYyKxeJ78vk8rA5DpioW4C0C2I/mgJVaokCUL/lba2OXkGGb2FCWneRNoxXAQ7nejJR5PQVwNAHHJBY+wCWXmGSKfYCruYdEAgsT5KuZGS4lg1IiRFq8sekUEflOpQkabox9gOPVA9d1zzHGfFxE3lUpznLsc5vsZ5UqerjvaC1tJJFfKfRbLCzK/VLL23CN38pSrGbHcV6+YcOG29vb22GRvZaZ32KtxdKwg1Wx2L0Ek7ogCGAhLSXP8/aJNkNjpQ/7D5CwQfrXjuO8a7jJbrQxF/sLfsXM8OXcIsWbKTOZzEyI6vEWwCP5Hruu+7/GmJH4eV7HzBDCI04Jl6YhN6Fiw5mIDLjBDZP53cwMg8aQAjie0JTn4Xke+gHCGw5ysajQ57CfZucpU6Z0lm8SjFwYsc8k6QMMtwMYMiBw48OFsJKGDfbPYsU4OcEdygIcRWyJDwrCHhIkTLruDcMQIhpj/8BEFiulTz755KkigokBXAmxYQ4JxpiLmRlllcTGw2p1NhCxQwVwNVQT+PtwQszzvI+KCHxmEYnhg5EP48AO6difJ9p0NsgfM/44VYoCMV4C2BhzUPnu1YS1FbuTd4p9RrHxipnhL1Q1DbM5p+K9CQvwoI1o8cWRnxB23D7JzHB+r9kCPJIPrrUWjvaX4KNb6YSj2HI1EgGcCCyOzTmIHHFLJpPpjeOyRmGmvHoI4ARs093dDSsJwmjBYoroBc+sXbt2bvlu3GQFpUAAwy0G7jFbrGRUbaRlF4yXAB4p83oK4GgAxnK5zWazW8dtLX63RKzTISecuBbLlYVCAf7r9zMzBrFBKREF4hjf969JnERV8QCBRBSI/Zj5vuiUOvhpX+T7PiZqg1IiCgTCppV8HSulKgK4ljZirLXYz7B9f3//9u3t7fCjhK/voJByFQRwyb9+lN9KWNCwegcfYAhbrNKcxMzfj32gwzDEhttLo8152yUjxiR4ZKy1iCqAHfqwvMHa95dKS/bxPQkL8EPMjPfYIllrUf87ZrPZDljuGiSASz7NQ32PR9vXk9ePUACXopWMxsI8jAV4qMkkfKxPr+buE7tKVIqMErs+JQVwbFmGjgjD8KJisfjQ6tWr4RojiU2rAz7+QwhgbKpFRBGEKvy2iFyJzdnMjCgmyU31FVdyopMhX4zNfiKCFV5Yi9+Hk+biDX0jWaWL600F8Fha/DjfW8USiYaDcFMQHDDvYxBJCuBSUHHsBg2CAGHTBlKicW4RBm28BHByWSF+sOd5R2EHfBwVIfZTg0N7tCO55BMXJ+xEFpHXhmF4R+zjOloBHM0usfP5qXXr1u1WHpw/sbQ4sDO4zhZg1BOW27bw84w6PPzi4B9XHgZtCwtwwj9sC3eKRYsWTduwYQM+IohusFtsrRkPCzD8u7DykMlkPlwmgIznefcjvBQGVAiRobpEnQUwwrN9ajQnwZW3q9jndBgfYPhTdjqO8/3kqkil8o6HAB4N82jjKlZKRnUQRvLdh+tniTjAJbeesvviwwAGliyHaQMlf3esUsQDXmIgKg2KmUxmNqyDUaxf+KJv7Orqmp30MY9cq9DHO7q6umbgt0QcYAiwvZLvEIVgw+avIBkJYbQCuNY2kvC3x/cQPrnTYekqC1c4yEWolm9l9D1BqD2sumGj1Vnx8rbneTgg5CfYWCsisIAiIsNANI7o25KLNroNLN1H9YDQUTtEMZcrTh6ilQL4acIFa26524TruvOjKDQD0ShGK4ATm7YGhcYb7iCMCityiFSCcbSi+0A0oVsaWbJL4c1GmkYigBPuJ/Cpx0RhkJsEymiMeaXjOL+LN4gNI4ARNg4h7Abl4bru/ZFL3LzhotYk+vUWbl1xe0kIYHzr14pIdsqUKdPLLcae5yGkJzacY1MeQgdiRQEnrKLPD+x/cV0Xm+JL0Z9iC3fZ9wRjCFYiSnHFo4gdJ0cTsEFuk9Za7EPChteStd5ai4gOODhsKB9g/L5zGIZXxwEF4r0dehDGSFt5Ha+rJsSizoMZPmKZIg18CCJfvSeMMZtExCKYPC7AjGnDhg2I5bhHPS3A2NFsjNk/3mUcOa9jAxw+fAO7Pa218M95RbRpDsKl1HmjzTT4MC0QkTcHQYCT2REG7M8AACAASURBVAY2wQ11RGul6rDWIoQNQp6hIyDcWUloR7Na+Lnh+NWB3eDVuJc/YzQf3OhDUIpBWr7rOOGPVikKxBYCOPYnxql1vu8jzmYpRT5Z2LBQOsXOcRwPoWgifuBbSUwjDBEsRYNO2arE3FqLAxMQgeMsZsYmkfi5OKoW4Z12ymazs8sPNyj7sA3pAzwSS/pw3S52M6kQ1qxi2SuVcbfddtslm82CWb+IvDgZCzSaNMGi9mw2m92l3Ao6kvYxXBSIISahI2aemPQNCnU1mk9VFQGMAQmTuL8UCoWD4+OHEQ/XGINJ97+z2ey88pOwyp8fbzRE7NLoJLhS37fWwtcSVsmBzbXR32NxfQ4z41tRSoloNBcGQYBYqvHfS/2+zPcRhgP42Z9gjHm37/uI/TxkGk6U1dpGou/OX40x8F/EZHGLAXqIMGij+laiUAk/SAjhDcyMkFXx9xXiFbFiEXJq0MEl1trSZrHyv+PdM5mMLyKbZs6cuV28C78SQGttXF/X9/f3Hx9HgYisdtdHoQpLUTtw/2gFcBSqDf7Tg8KajfJ7DIs8ImNg/8Tbfd9HLN1SivooNrvu6DjOgb29vYhKNOI0EgEctV+E8oKRamATJP6OMdMYg3i6bnJj2jACGP4pgzbtxiuO8JEt92EvL0i0IRD9uq9YLC5btWoVrLlx9Ay8I8biARcIay02u27jOM68pBEgmpjAn3qrpFtGFPseEaUQlrE0KU1sCu/t6upalJzYJvz+cWlp5SLqc5jc/7Wjo2PvOMJHxLEUCSaKRf/hKLoKrp3mOM7L4shWuDYS3tAjJtojg9UIfEuwsR7+2sNuGBxxI6jThS0ZBm2Ij0x8nCh+HjQTjjdgRQGlMdvHJir4MWHXOg5uuLP8IIxxtABDPGBT2dXGGMQORpiXHbGjNQgChDQqpWgwQKPD5i3EEbzTcZwOEUHMxu0jcQf3iEEB00cjgKNIEBDTsDYh5u7tIoJYwhDF+P9BA1C9BXAi7iHiJONDgQ0Q+CDAZxeDEoJ1l8IRRZ2yonCLlpFhKcP1OCgDh1nE8RPhzoG8tk9uBhkPC3BkjcKsHXEzsQEOgn5q5A+MeMADUTuG6v/1tAAnIgz8VUR+nM1mr1y5cuVfhjsKuZLgs9biEBfsTEbb+7mI5LHBkIiwGSUMw/ANI4kPOh4W4NEwj6xvEDaIuXqpiNxTvhu+2ne52kpLwsKDQRKbd7Y2xuB4YfR1+JLChzopJLCTe1BcV7zn2rVr0RdhYbtPRNCWcFgC4oX+PWq3j8X5RJP3e6M4nvAfhnUIB2Sg3zwYhuEhycNwolCApTBS+DaKiB8F2t8HQf07OzuPrBatpJooq7WNxKGfULYwDPcu95mv1D9G+62MBAZck+LNyIMiblhrS9Y1TPIKhcL28UQm+ubAGonvzzTEUQ3DsCc66AfjB+KXV42KEMWJhXDCqhciziDsFMYgRGHAt2MgDjCeWY11eZtNWMURVxfxa5f7vv+zUQrgWISBURyTHm1xW2MMouHgG131e1apP41UAEdCG2Mgvp149u8dx9kq2nyHeO3YrIjN4PEEcahNcAhvB2MYJgWoW9Qh3Fb+bow5ZCQblBM+0fAXR4x3RPpAXHXEEoYQHxDAiW8AojIgashax3H2FBGE08TYs0MyBj5Oyuvs7ISfLkKqIhzg74MguDraBIowdH9BbHYRQYx/TAjw/lj1QUzmAf/lRMzvp40xN4Rh+GwUnx2+6jD67ZcI74e2hmgy2Pj8q+jAKRwOA/e2NhF5W3JjoOu6cMGAMQn1cffMmTM/Ptwkr9p3tF6/qwD+f7KYwcKKiRBegwQwQtZ0dHScHVkCEVEBy35XrVu37typU6euMcbcVS8BjJiZcFw3xuCQgRcYY3D6z1cqDcSRtRd+emiU2PWKI5/9MAwvDYIAgecHwu1UG5iHanCREz+sQxDWeAbKj4MrcBIcgm8PpHoLYDwIS4BEhI066OgIdv4XnE4mIhBdr4/iPMMdArPSIS2X0aYjLGGCN8Q86hhxHL9kjIG1HTuAB+KOjocAxjtFM3HwRIDz2SKCeIywaH0rttYP1/nrKYCjJXFYEEsfOcThjA5HGLEFOH53xN42xuAEQVgFYr5/iE4pHHajX5zHeAjg0TKPNk2hXWAidCczYyAccRpJP4s28GBjKdoyBl8MulhBgBVpICWEzRYne0WuOtgYio1ws40xCIsIoYSwT6VVq2SKVraweoAJNTZfQiBf39HRcV7SGhTfE4kLbIo5IhIzffAzXL9+/RfL3aEqwRmJKKuljcRLysOchLfFCgnebzTfSlyfOOENgu6o5LfOWlvacFtpZz/ujU6vQx/H5iu0o3Ww/DuOc3EyXutwjQpjUHt7Ow6nwWoUwp1BrD6MDY1BEMASP7BcPxLWFdoDIungfzMwtmElYbQCOCorYu7CHxuCKT7ZEqtZGLPgPjLqNFIBHH3jIXTPCMMQh9hAoGEzGdwFvsXMiDIz4B44jAUYkXkQcxftHSHVIExv2LRp03mPPvpo6VCQkaQoBCFcvCBAcXAQVlJK+42SbQUT2Oeff/4DxhhMbueICA4Y+pvjOHCLuhgHB0F4ZrPZHeNVMoRTcxznUyKCk1LhdvLKaHUY7R3s8fd/RMaG74ZhiHHxgbJNtdA88PeFawXaFDbg4Vvxy0wm89lyd5uoHaNuMVEunQQXHfj1eZwamWQSbUpFu8TEcH0UuxlW60mVWkIATyri+jLjQiA6GnT21ltv/fdK1ifP87CEDIvYC8v9IsflBTQTJdAAApG4wWAOC68mJaAExonAUNEVxil7zWYSElABPAkrRV+pOoEoGD6Wl/rWrVu3MGmFio6LhPULPlLwDdSkBJqCgOu63zHGbMXMJb90TUpACYwPARXA48MxTbmoAE5Tbem7DiIQiYFTiAgbU36JpSOcKEZEiJe5AUs1w0VQUJxKIE0EsHM7DMOvZjKZk4bbGJmmMum7KoHJQkAF8GSpiYl7DxXAE8danzT+BDKe5yGUC0QwNlV1IUwbduqGYXhBPp+fdD5H449Ac1QCSkAJKIGxElABPFaC6btfBXD66kzfWAkoASWgBJSAElACSmAMBFQAjwGe3qoElIASUAJKQAkoASWQPgIqgNNXZ/rGSkAJKAEloASUgBJQAmMgoAJ4DPD0ViWgBJSAElACSkAJKIH0EVABXMc6ExEcPAHGOENekxJQAkpACSgBJaAEJpIAThcVYwxOjtOUIKACuI7NQURCEVHGdWSsWSsBJaAElIASUAJDEzDGQAA7ymgwARVndWwRONNbRKb98584jTEdaZtttiq96LPPrk/HC+tbKoEmJqD9sYkrV4uWKgJp7YvbbddJxhjEyO9MFfAJeFkVwHWErAK4jnA1ayXQAgTSOui2QNVoEVuMQFr7ogrgYSzjLdaGJ7S4KoAnFLc+TAk0HYG0DrpNVxFaoJYnkNa+qAJYBXBDOq8K4IZg14cqgaYhkNZBt2kqQAuiBCICae2LKoBVADekE6sAbgh2fagSaBoCaR10m6YCtCBKQAVw07YB9QGuY9WqAK4jXM1aCbQAARXALVDJWsRUEEhrX1QLsFqAG9LBVAA3BLs+VAk0DYG0DrpNUwFaECWgFuCmbQNqAa5j1aoAriNczVoJtAABFcAtUMlaxFQQSGtfVAuwWoAb0sFUADcEuz5UCTQNgbQOuk1TAVoQJaAW4KZtA2oBrmPVqgCuI1zNWgm0AAEVwC1QyVrEVBBIa19UC7BagBvSwVQANwS7PlQJNA2BtA66TVMBWhAloBbgpm0DagGuY9WqAK4jXM1aCbQAARXALVDJWsRUEEhrX1QLsFqAG9LBVAA3BLs+VAk0DYG0DrpNUwFaECWgFuCmbQNqAa5j1aoAriNczVoJtAABFcAtUMlaxFQQSGtfVAuwWoAb0sFUADcEuz5UCTQNgbQOuk1TAVoQJaAW4KZtA2oBrmPVqgCuI1zNWgm0AAEVwC1QyVrEVBBIa19UC7BagBvSwVQANwS7PlQJNA2BtA66TVMBWhAloBbgpm0DagGuY9WqAK4jXM1aCbQAARXALVDJWsRUEEhrX1QLsFqAG9LBVAA3BLs+VAk0DYG0DrpNUwFaECWgFuCmbQNqAa5j1aoAriNczVoJtAABFcAtUMlaxFQQSGtfVAuwWoAb0sFUADcEuz5UCTQNgbQOuk1TAVoQJaAW4KZtA2oBrmPVqgCuI1zNWgm0AAEVwC1QyVrEVBBIa19UC7BagBvSwVQANwS7PlQJNA2BtA66TVMBWhAloBbgpm0DagGuY9WqAK4jXM1aCbQAARXALVDJWsRUEEhrX1QLsFqAG9LBVAA3BLs+VAk0DYG0DrpNUwFaECWgFuCmbQNqAa5j1aoAriNczVoJtAABFcAtUMlaxFQQSGtfVAuwWoAb0sFUADcEuz5UCTQNgbQOuk1TAVoQJaAW4KZtA2oBrmPVqgCuI1zNWgm0AAEVwC1QyVrEVBBIa19UC7BagBvSwVQANwS7PlQJNA2BtA66TVMBWpCWJ7Cxv0j39DxF9/U+Q8//t5+mdWRpyR470tIFO1JHe2bS81EBrAK4IY1UBXBDsOtDlUDTEFAB3DRVqQVJIYEn//VfuujHD9J/1mwkY4hEaOD/t+3qoA+/aU/aaca0SV0yFcAqgBvSQFUANwS7PlQJNA0BFcBNU5VakJQRgOX3rG//gZ5du7EkfMsTBPE2nR302VOXTGpLsApgFcAN6XoqgBuCXR+qBJqGgArgpqlKLUjKCCx/8HH6/s1+1bc+6eUeHbLnrKrXNeoCFcAjFMDW2grznC1u/iszz0n8NWOtfScRvcMY44rIehH5HRF9IgiCleV3z549e6upU6eeTkQnEBHyeY6Ibiais5n58fLrFy5cuG1/f/9ZIvI6IppNRM8YY67fuHHjJ/v6+p4tv95ai5b4SSJ6GRHtSER/J6Kr+vv7z+/r69tQ4fpuIvoUER1MRNOJaJUx5jLf9y8houJYGq0K4LHQ03uVgBJQAaxtQAk0hsAFV66g4PHnKlp/4zeCFdidvQ197M17N+YlR/BUFcAjF8AQgkMlCNZ5RPQdZn57fJHned8VkbcS0cMicpMxZmciOpqINoZheHA+n/9TfO3ixYvb1q5d+wsRgTi9m4juEJEFxpjXENFThUJh/9WrV/8tvj6Xy23tOM7tRLRnJJIfFJElxphlRLSyUCgsXb16NQR0KeVyudmO4yDfWSJyHcQsER1mjFlsjLm9s7Pz8BUrVmxKvPsiEbmDiLYioh8ZY54RkaOIyOLfzHz8CNrXkJeoAB4LPb1XCSgBFcDaBpRAYwicdekf6Kl/r6v68B2nT6XPvmNJ1esadYEK4BEK4KEus9a+goh+aYz5UyaTWdrT09OPa621r8Tfiei2mTNnvnz58uWF6O8D1/u+vzjO11r7biL6GhFdzswQzaXkuu5pxphvENH1zPz6hEC9UEQ+QkSfZuYBce667gXGmI8S0ZeY+YOJ/H8C8Q1BHgTB5dHfHc/zfiAix4vI+4Mg+Eri+nuJaF9jzEt934fVmubMmTOlo6PjZhE5xBhzlO/7P6u14aoArpWc3qcElAAIqADWdqAEGkOgZAF+7DkabllcLcCNqZvxemrVOMDW2u1gbSWiLlhimbk3IVxvNsYcQUT7M/Mfky9lrf0FEb0qDMMD8vn8PZEwxr1uNpud1dPT81Tyetd1HzbGLCCiXeAKAWvxmjVr/kVEhTAMd8rn8xvj63O5XIfjOHCXaAvDcHv85nneTBGBu0MvM++ezHvu3Lk7tLW14fo8M8PlAdbiJY7j4L1uYmYI+YHked4+InKfMebXvu+jfDUlFcA1YdOblIASiAioANamoAQaQ+CaOx6jm+7mqg9XH+CqiCbtBSMRwN8mIrg8DLLCEhF8f/8DgcrMM4gGT5Rc132fMeYrIvLxIAg+M2/evO0zmczTRPRnZoZLw6Bkrf0CEX3QGHOi7/tXWmv3IyJYaG9k5tdWuP6nRARr8cHMfJfneceIyNUi8uUgCD5Qfr3neStEZO8wDHfO5/OPeZ53hoh8zhhzuu/7F1fI/59E1MnMiHFSky+wCuBJ2+71xZRAKgioAE5FNelLNhmBP/01pGvv7aen/3o/hcXSgvcWSaNApL/ShxXAuVxuL8dx7ieip9etWzfvscceWx8Xubu7e04Yho8S0X3MDLFaLmhL7hEi8sMgCE7o7u5eFoYh3AyuYeZjKlxfco8wxpzn+/7ZruuebIz5njHm877vn1FB0MbuEacy82XWWrhIYPPbe5j56xXyj90jDg+C4FZrLVwkToKVmpl/VeF6WLT3LRaL7qpVq/K1VLUK4Fqo6T1KQAnEBFQAa1tQAhNHQETodytDuvWRsPTQaZl19M8n/kLPrdU4wBNXCxP3pGEFsLU2Fo0fCYLgouRrReL4ARG5JQiCl5e/ci6XWxptSPslMx9prUUUh+uMMd/yff+08utd1z3OGHMVRDAzv9dai0gRXySiM5n5ggoC9Uwi+ix8hPFunud9WUT+h4iOY+YfV7j+W1GkiqN937/Wdd0bsfkuDMOl+Xz+DxUE9i3YrGeM2df3fUwCRp1iAVwo1GRAHvXzxuOGTGbzyTbFYnreeTzKrXkogclIQPvjZKwVfadmJFAMhX581wb6vb95n/zc7TN02su2orZMSHc++ATd8eAT9OyajfSCznY6ZK9ZdPCeM2lKe3bSo8hmM2SM+a8xpnPSv+wEv+CQAtjzvLkiEiBMWTab3bWnp2dt8t2stQcR0Z3GmJ/7vo8oDoNSLpfb23GcFdggx8yHeZ53goj8gIguYWYI1UHJdd3XG2Pg1lCKMuG67tnGmHOJ6EPMDCE8KFlrsfntC7GLhbX2MiJ6m4i8IQgCRIAovx6b3+CWEbtY3EpELw3DcHE+n3+g/HrP834mIq+OXSxqqRcVwLVQ03uUgBKICagA1ragBOpPYEO/0GW3raOexzYbfl40J0tvPXQras/+v0RKa19UATx0+xlOAJ8rImeLyMVBEMAaOyjFG8VGYAEu+fB6nvdGEbmmmgU49uF1XffDcH+oZgGOfXittV+F+0M1CzARvY6Zb0hs0hvWAiwiewVB8GAtXVBdIGqhpvcoASUQE1AXCG0LSqC+BJ5fL3TFXQV6MjpV4ADXoVe+yCEHTr6JlNa+qGHQahDA1toeIppfKcIDsnNddzdjDOLs3svMWwTBS4RIu4KZT/Y87yUichsRXc3Mbyp/pUSItNJmO8/zThGR72CjWhAEH6sgwEs+wHHIM9d1zzHGfFxE3hUEwTcr5F9y53Ac59De3t7l1trvE9GJxphX+L6PgzgGJWttyQfYcZy5vb29fbV0QRXAtVDTe5SAElABrG1ACdSfwFPPCV1xZ4GeW08EuQvhe6Dd7AZYnlQA178+JvoJFS3A3d3dNgxDnAH4KDPvNsRLIb7uGhFZx8wvLL8mEQXijCAIPr9gwYIdC4XCk0R0PzPvW0FwxlEgjvF9/5o4TJmIXBsEAQ7WKBeocRSI/Zj5PmstRDUOs7jI933EDh6UElEgEDbtH9ZaiOrziei9zIzYxOX5IwpEOzNvQ0SbPeJHmVQAjxKYXq4ElMAgAmkddLUalcBkJ7DqmZCu/H2RNhaIsg7RMftnaI/ZzpCvnda+qBbgoVtiRQEcW1/LT32rIHLjOMCID/zn5O/W2p8T0ZE4uS0IAoQzw8EZiAOM0+R2YmYIzIFkrX2IiHbPZDKzV65c+WQU6xdh0zZ2dXXNTp7gtmDBgvZCoYC4vh1dXV0z8FsiDvBDzLxXMu8oBNsTRBQwM6zayTjANzAzNugNpO7u7sVhGGLj283MjEM9akoqgGvCpjcpASUQEUjroKsVqAQmMwGEObvuviIVhWhqO9FbDsrQLjOGFr8oS1r7ogrg0Qvgb4gITmd7m+/73x3qdtd132CMuZaIbs1ms6+KT4jr7u4+IgzDm6IQafvH91trP0REiCYBtwicBFc6ZMVaeyoRXUpEP2HmYxPXXwILLRGdw8wIcVZK1trziOgsEbkwCAKcCBf/PRbdpwRB8L3oz4619goiOsEY827f93HiXHx9SXSLyBEIjYY/RsIb734oVkSYGf9dU1IBXBM2vUkJKIGIQFoHXa1AJTAZCZSHOZvRSXTSQVnarqvqkQgqgCdjhY7xnSrWurW2FCFhJBEQXNfFxrY34gQ2EcGxwbOMMRCxCLvxYt/3ITJLCae7rV279nYRWQpxLCK/NcZ4RISDLv4enRr3WHz9woULt92wYcO9xhgX0SRwDxEh5vBLiOjBMAwPyefzz8fXR5ErENIMLhk3ioiPY46JaB+c6tbZ2Xlk0pIcHbbxW7g6iAh8hB9HaDQi6kYMYt/3TxkLXxXAY6Gn9yoBJaACWNuAEhgfAghzduMDRbr/0c2HG+883dCJB2Wos6O6+MX1ae2LagEeuv0MJYDhzrCoUCjsunr16r8N1/yWLVuWffzxx083xsCiC3/hfyM8Gg6lSB6bHOexaNGiaRs2bDiLiOCzO9sY85SI/JqIPoUjkMufFR3FjEMujiKi7YkIAvn6jo6O8x5++GGcRDcoRQd0nENEOMJ4ayLqE5Er169f/8XkQR7xTd3d3QvDMPw0ES0zxnSICA69uJSZsZFuTMFwVQCPz4dLc1ECrUogrYNuq9aXlntyEtiwSehH9xQpeHqz+F0wy9Cx+2eoLTMy8asCeHLW61jfauS1P9YnteD9KoBbsNK1yEpgHAmoAB5HmJpVSxIohTm7s0BPPre5+Ae6Dr2iQpizanDS2hfVAjx0zaoArtbqx/C7CuAxwNNblYASSO2yq1adEpgMBLYIc7anQwe6lcOcVXtfFcDVCKXvdxXAdawzFcB1hKtZK4EWIJDWQbcFqkaLOMkJ5J8O6Yd3jzzMWbXipLUvqgVYLcDV2nZdflcBXBesmqkSaBkCaR10W6aCtKCTksADfSFdd3+RwlGEOatWkLT2RRXAKoCrte26/K4CuC5YNVMl0DIE0jrotkwFaUEnFYFKYc5OPjhLMzrHvtid1r6oAlgFcEM6qQrghmDXhyqBpiGQ1kG3aSpAC5IaAghzdsOKIq3o2xzpYZcZhk48MEPTRhjmrFpB09oXVQCrAK7WtuvyuwrgumDVTJVAyxBI66DbMhWkBZ0UBMrDnO0+y5SONh5NmLNqBUlrX1QBrAK4Wtuuy+8qgOuCVTNVAi1DIK2DbstUkBa04QSeWy/0/XEIc1atIGntiyqAVQBXa9t1+V0FcF2waqZKoGUIpHXQbZkK0oI2lMB4hjmrVpC09kUVwCqAq7XtuvyuArguWDVTJdAyBNI66LZMBWlBG0agPMzZsUsytPssp27vk9a+qAJYBXDdOsVwGasAbgh2fagSaBoCaR10m6YCtCCTkkA9wpxVK2ha+6IKYBXA1dp2XX5XAVwXrJqpEmgZAmkddFumgrSgE0oAYc5+uzKk2x4JS8+d0Uk0XmHOqhUkrX1RBbAK4Gptuy6/qwCuC1bNVAm0DIG0DrotU0Fa0AkjUO8wZ9UKkta+qAJYBXC1tl2X31UA1wWrZqoEWoZAWgfdlqkgLeiEEJiIMGfVCpLWvqgCWAVwtbZdl99VANcFq2aqBFqGQFoH3ZapIC1o3QkgzNkVdxboqec2P+pA16FXvMghx4z9dLfRvHxa+6IKYBXAo2nn43atCuBxQ6kZKYGWJJDWQbclK0sLPe4EysOcvWpPhw5wM+P+nJFkmNa+qAJYBfBI2ve4X6MCeNyRaoZKoKUIpHXQbalK0sLWhcBEhzmrVoi09kUVwCqAq7XtuvyuArguWDVTJdAyBNI66LZMBWlB60KgEWHOqhUkrX1RBbAK4Gptuy6/qwCuC1bNVAm0DIG0DrotU0Fa0HEl0MgwZ9UKkta+qAJYBXC1tl2X31UA1wWrZqoEWoZAWgfdlqkgLei4EWh0mLNqBUlrX1QBrAK4Wtuuy+8qgOuCVTNVAi1DIK2DbstUkBZ0XAggzNlV9xQp/7SU8tt9lqFj9s9QW2ZiIz0MV5i09kUVwCqAx6WTjjYTFcCjJabXKwElkCSQ1kFXa1EJjJRAeZizg6xDL1808WHOqr1vWvuiCmAVwNXadl1+VwFcF6yaqRJoGQJpHXRbpoK0oGMiMJnCnFUrSFr7ogpgFcDV2nZdflcBXBesmqkSaBkCaR10W6aCtKA1EygPc/amJRlaMMupOb9635jWvqgCWAVwvftGxfxVADcEuz5UCTQNgbQOuk1TAVqQuhBY0RfS9fcXKRSiqe1EbzkoQ7vMmLziFxDS2hdVAKsArksnrpapCuBqhPR3JaAEhiOQ1kFXa1UJVCIwmcOcVauxtPZFFcAqgKu17br8rgK4Llg1UyXQMgTSOui2TAVpQUdMAGHOrl9RpAf6Nkd62GWGoRMPzNC0jskT6aEZJ6MqgFUAj7iTjueFKoDHk6bmpQRaj4AK4Nar82YscRrCnFXjnta+qAJYBXC1tl2X31UA1wWrZqoEWoZAWgfdlqkgLWhVAs+tE7rirgI99dzmSydrmLNqBUlrX1QBrAK4Wtuuy+8qgOuCVTNVAi1DIK2DbstUkBZ0WAJPPrtZ/D6/ngiODq/a06ED3EwqqaW1L6oAVgHckA6nArgh2PWhSqBpCKR10G2aCtCC1EwgeDqkq+4u0sYCUVuG6Nj9J3eYs2oFTWtfVAGsArha267L7yqA64JVM1UCLUMgrYNuy1SQFrQigWSYs2kdRG85MEM7T/IwZ9WqMq19UQWwCuBqbbsuv6sArgtWzVQJtAyBtA66LVNBWtBBBEphznpCuq0nLP19RifRyQdnaUZnOiI9DFedae2LKoBVADfkM6UCuCHY9aFKoGkIpHXQbZoK0IKMmEDaw5xVK2ha+6IK4BoEsOu6LzbGfJSIlhJROxGtMsZ8L5PJfL2np6c/kWXGJChOXwAAIABJREFUWvtOInqHMcYVkfUi8jsi+kQQBCvLHz179uytpk6dejoRnUBEc4gIe0NvJqKzmfnx8usXLly4bX9//1ki8joimk1Ezxhjrt+4ceMn+/r6ni2/3lo7i4g+SUQvI6IdiejvRHRVf3//+X19fRsqXN9NRJ8iooOJaHpUzst837+EiIrVOsVwv6sAHgs9vVcJKIG0Drpac61FoDzM2R6zDR29X4baMum3/MY1mda+qAJ4lALYWnsqEX2LiJ4nomtE5L/GmCOJaB7+zczHElEpmrXned8VkbcS0cMicpMxZmciOpqINoZheHA+n/9T/PjFixe3rV279hciAnF6NxHdISILjDGvIaKnCoXC/qtXr/5bfH0ul9vacZzbiWjPSCQ/KCJLjDHLiGhloVBYunr16ii4ClEul5vtOA7ynSUi10HMEtFhxpjFxpjbOzs7D1+xYsWmOH/P8xaJyB1EtBUR/cgY84yIHEVEFv9m5uPH8hlTATwWenqvElACaR10teZah0CzhDmrVmNp7YsqgEchgD3P80TkzxCkjuMs6+3t7cPtc+bMmdLe3g7L7hII2CAIfmOtfSUR/ZKIbps5c+bLly9fXsC11tpX4O/GmD/5vr84fry19t1E9DUiupyZIZpLyXXd04wx3yCi65n59QmBeqGIfISIPs3MsNLG118QWae/xMwfTOT/E4hvCPIgCC6P/u54nvcDETleRN4fBMFXEtffS0T7GmNe6vs+ylYqZ0dHx80icogx5ijf939WrWMM9bsK4FrJ6X1KQAmAQFoHXa291iDQTGHOqtVYWvuiCuBRCGDXdb9ujHlXGIavyefzP0/e6nneoSLyZsdxrunt7b3Fdd2bjTFHENH+zPzH5LXW2l8g7F8Yhgfk8/l7ImHcC72bzWZn9fT0PJW83nXdh40xC3BCIlwhYC1es2bNv4ioEIbhTvl8fmN8fS6X63AcB+4SbWEYbo/fPM+bKSJwd+hl5t2Tec+dO3eHtrY2XJ9nZrg8wFq8xHEcvNdNzAwhP5A8z9tHRO4zxvza932Ur6akArgmbHqTElACEYG0Drpagc1PoNnCnFWrsbT2RRXAoxDA1trHiKiTmWdU8YGF7+9/IFCjazcf8B0l13XfZ4z5ioh8PAiCz8ybN2/7TCbzNBH9mZnh0jAoWWu/QEQfNMac6Pv+ldba/YgIFtobmfm1Fa7/KRHBWnwwM9/led4xInK1iHw5CIIPlF/ved4KEdk7DMOd8/n8Y57nnSEinzPGnO77/sUV8v9nxGFarb7AKoCrfVL0dyWgBIYjkNZBV2u1uQmseDSk61cUKRSiZglzVq3G0toXVQCPUAB3d3fPCMMQwu8PRPTqaDMZxOcLiWi1MeZS3/fhQhB2d3fPCcPwUSK6j5khVssFbck9QkR+GATBCd3d3cvCMISbAXyIj6lwfck9whhznu/7Z7uuezI23RljPu/7/hkVBG3sHnEqM19mrYWLBDa/vYeZv14h/9g94vAgCG611sJF4iRYqZn5VxWuh0V732Kx6K5atSpfrXNU+l0FcC3U9B4loARiAmkddLUGm5MAwpwhxBlCnSE1U5izajWW1r6oAniEAjjaFAb/X2xc2xbRH4wxPxcRh4iwUW0HY8xVvu+/OZfL7eU4zgMicksQBC8vf0Qul1sabUj7JTMfaa1FFIfrjDHf8n3/tPLrXdc9DnlDBDPze621iBTxRSI6k5kvqCBQzySiz8JHOAiCizzP+7KI/A8RHcfMP65wPTb1IVLF0b7vX+u67o3YfBeG4dJ8Pg/BPyh5nncLfJ2NMfv6vn9/tc6hArgWQnqPElACwxFI66Crtdp8BAqh0A0rivRA3+bF3l1mmNIBF1M7mifSQzP2RRXAIxfAB4rIXdHl93d0dLzs4YcfhpsDRS4MiJjgEdGbiAg+tXdCIPu+D3E8KOVyub0dx1mBDXLMfJjneSeIyA+I6BJmhlAdlFzXfb0xBm4N32Hmt7uue7Yx5lwi+hAzQwgPStZabH77QuxiYa29jIjeJiJvCIIAESDKr4flGm4ZsYvFrUT00jAMF+fz+QfKr/c872ciAit4ycWils9ZbAEuFMYUTa2WR9d8Tyaz+Zz2YjE971xzYfVGJTDJCWh/nOQV1CKvt75f6Nu3rqPexzePC3vNzdJJy7ai9mxriF+UOa19MZvNkDEGkbw6W6S5jriYg1pvYmMYgB3k+/7vkzl5nvdGEbmGiH5hjPk0NoqNwAJc8uGN761mAY59eF3X/TDcH6pZgGMfXmvtV+H+UM0CTESvY+YbEpv0hrUAi8heQRA8OGKiiQtVANdCTe9RAkogJpDWQVdrsHkI/GdtSF+7ZR098e/Nbg+HLWqn1+7XQY5pHfGrArh52nOyJINasOu6840xPYjxG4bhVsnIC7gp4ffbKyKvMsYgzu69zLykHE8iRNoVzHyy53kvEZHbiOhqZoYFeVBKhEgrhTzzPO8UEfkONqoFQfCx8us9zyv5AMchz1zXPccY83EReVcQBN+skH/JB9hxnEN7e3uXW2u/T0QnGmNe4fs+DuIof5+SD7DjOHPjUHCjbQLqAzxaYnq9ElACSQLqAqHtoZEEysOcHbmXQ0tzm1cJWy2ltS+qC8TQLXWQAF6wYEF7oVBYi/Bi2Wy2q6enB/89kObPn+8Wi0UWkRVBEOzned4aEVnHzNgkNyglokCcEQTB5xcsWLBjoVB4kojuZ+Z9KwjOOArEMb7vXxNbo0Xk2iAIcLBGuUCNo0Dsx8z3WWshqnGYxUW+7yN28KCUiAKBsGn/sNZCVJ9PRO9lZsQmLs8fmwHbmXkbbPqrpbOrAK6Fmt6jBJRATCCtg67WYPoJBE+FdNU9RdpYIGrLEB27f4YWzMJ2oNZMae2LKoCHbq9brGG4rvs7nLQmIm8MggAicyAl/HhjP904DvCezIzNcwPJWosYwkfi5LYgCBDODAdkIA4wTpPbiZkhMJPXP0REu2cymdkrV658Mor1i7BpG7u6umYnT3CLhDp8kDu6urpm4LdEHOCHmHmvZN6R//ITRBQw83z8lnD3uIGZsUFvIHV3dy8OwxAb325mZhzqUVNSAVwTNr1JCSiBiEBaB12twHQT2CLM2UEZ2nl664pf1GZa+6IK4FEI4DhaAw6N2LRp00GPPvooRChFFlxsBttNRJZC1Lqu+wZjzLVEdGs2m31VT09PP67t7u4+IgzDm6IQafvHj7fWfoiILiIiuEXgJLjSdtLo6OVLiegn0THLpVustZfAQktE5zAzQpzFfz+PiM4SkQuDIPho4u+x6D4lCILvRX93rLVXENEJxph3+76PE+fifEqiW0SOQGg0/DES3nj3Q4nolcyM/64pqQCuCZvepASUgApgbQMNIFAe5my7TqKTD87S9M7W8vethF4FcAMaZJ0fWbFVJ0KK/csYg01vJCKwku4gIucGQfCJ+L1c173GGPNGnMAmIjg2eJYx5lgiwq7DF/u+D5FZSjjdbe3atbdDQEMci8hvjTGIKoFYw3+PTo3DQRyltHDhwm03bNhwrzHGRTQJ3ENEiDn8EiJ6MAzDQ/L5/PPx9Z7nzRURhDSDS8aNIuLjmGMi2genunV2dh6ZtCRHh238Fq4OIgIf4ccRGg0aHjGIfd8/ZSz8VQCPhZ7eqwSUQFoHXa259BEohTm7v0gP/HVzmLNdZxg6sYXCnFWrsbT2RbUAD12zQ07ropPVYH2FOwF6xEPGmIsRQzeZ3bJly7KPP/746cYYWHR3I6J/IzwaDqVgZrg8DEqLFi2atmHDhrOiUGqzjTFPiciviehTOAK5/Hpr7Xb4jYiOIqLtiQgC+fqOjo7z4hBtyXuijXrnEBGOMN6aiPpE5Mr169d/8bHHHltfnn93d/fCMAw/TUTLjDEdIoJDLy5lZmykG1MsMBXA1T4p+rsSUALDEUjroKu1mi4CGzYJXXV3kfLPbBa/e8w2dPR+GWrLqOU3rsm09kUVwDUI4HR138n5tiqAJ2e96FspgbQQSOugmxa++p5Ez60TuuKuAj313GYaB1uHjljktFyYs2ptIa19UQWwCuBqbbsuv6sArgtWzVQJtAyBtA66LVNBKS9oKczZnQV6fgMRbL2tHOasWlWmtS+qAFYBXK1t1+V3FcB1waqZKoGWIZDWQbdlKijFBS0Pc/amJRmaP7O1Iz0MV51p7YsqgFUAN+QzpQK4Idj1oUqgaQikddBtmgpo0oJomLPRV2xa+6IKYBXAo2/t43CHCuBxgKhZKIEWJpDWQbeFq2xSF13DnNVePWntiyqAVQDX3urHcKcK4DHA01uVgBJIbfB9rbrJRwBhzq6/v0h/isOcbWfoxAMyNLVDIz2MpLZUAI+EUrqu0ZZfx/pSAVxHuJq1EmgBAmkddFugalJVRIQ5++HdRVoVhTlbONvQGzXM2ajqMK19US3AagEeVUMfr4tVAI8XSc1HCbQmgbQOuq1ZW5Oz1M8izNmdBXo6OjJKw5zVVk9p7YsqgFUA19bix3iXCuAxAtTblUCLE0jroNvi1TZpiq9hzsavKtLaF1UAqwAev14wipxUAI8Cll6qBJTAFgTSOuhqVTaegIY5G986SGtfVAGsAnh8e8IIc1MBPEJQepkSUAIVCaR10NXqbCyB+x8N6YYVRQqFaFoH0VsOytDO0zXG71hqJa19UQWwCuCxtPua71UBXDM6vVEJKAEijQKhrWBUBBDm7NZHQvrdyrB033ZdRCcflKXpnbrffVQgK1ysAnisBCff/dor6lgnKoDrCFezVgItQCCtg24LVM2kK6KGOatvlaS1L6oFWC3A9e0ZQ+SuArgh2PWhSqBpCKR10G2aCkhJQRDm7Mq7i7Raw5zVrcbS2hdVAKsArlunGC5jFcANwa4PVQJNQyCtg27TVEAKCrJFmDPPoSMWOuQYXeAdz+pLa19UAawCeDz7wYjzUgE8YlR6oRJQAhUIpHXQ1cqcGAJPPCv0/TsL9PwGIsjdI/dyaGkuMzEPb7GnpLUvqgBWAdyQrqoCuCHY9aFKoGkIpHXQbZoKmMQF4adCuuqeIvUXiNoyRG9akqH5MzXSQ72qLK19UQWwCuB69Ylh81UB3BDs+lAl0DQE0jroNk0FTNKClIc5O+mgDM3WMGd1ra209kUVwCqA69oxhspcBXBDsOtDlUDTEEjroNs0FTDJClIxzNnBWZo+Tf19611Vae2LKoBVANe7b1TMXwVwQ7DrQ5VA0xBI66DbNBUwiQpSMczZgRma2q7idyKqKa19UQWwCuCJ6B9bPEMFcEOw60OVQNMQSOug2zQVMEkKskWYs50NvXHfDLVlVPxOVBWltS+qAFYBPFF9ZNBzVAA3BLs+VAk0DYG0DrpNUwGToCDlYc5e7Dn0Mg1zNuE1k9a+qAJYBfCEdxY8UAVwQ7DrQ5VA0xBI66DbNBXQ4IKUhzl79V4OLdEwZw2plbT2RRXAKoAb0mFUADcEuz5UCTQNgbQOuk1TAQ0siIY5ayD8Co9Oa19UAawCuCE9SQVwQ7DrQ5VA0xBI66DbNBXQoIJomLMGgR/msWntiyqAVQA3pDepAG4Idn2oEmgaAmkddJumAia4IBrmbIKBj+Jxae2LKoBVAI+imY/fpSqAx4+l5qQEWpFAWgfdVqyrsZZZw5yNlWB9709rX1QBrAK4vj1jiNxVADcEuz5UCTQNgbQOuk1TARNUkPX9Qj+8p0irn5HSExdqmLMJIj/yx6S1L6oAVgE88lY+jleqAB5HmJqVEmhBAmkddFuwqmouMsKcXX5ngZ55fnMWGuasZpR1vTGtfVEFsArgunaMoTJXAdwQ7PpQJdA0BNI66DZNBdS5IAhzdsWdBVqzgQhHWmiYszoDH0P2ae2LKoBVAI+h2dd+qwrg2tnpnUpACRClddDVuqtOQMOcVWc0ma5Ia19UAawCuCH9SAVwQ7DrQ5VA0xBI66DbNBVQp4LctzqkGx8oUihE0zqITjooQ7OnO3V6mmY7HgTS2hdVAKsAHo/2P+o8VACPGpneoASUQIJAWgddrcTKBDTMWXpbRlr7ogpgFcAN6XUqgBuCXR+qBJqGQFoH3aapgHEsSHmYsznbGTrhwAxNbYf3r6bJTiCtfVEFsArghvQtFcANwa4PVQJNQyCtg27TVMA4FaQU5uzuIq3+x+YwZ4t2NvSGfTPUllHxO06I655NWvuiCuBRCmBr7elE9MVhWtTBzHwXfp89e/ZWU6dOxfUnENEcInqOiG4morOZ+fHyPBYuXLhtf3//WSLyOtxORM8YY67fuHHjJ/v6+p4tv95aO4uIPklELyOiHYno70R0VX9///l9fX0bKlzfTUSfIqKDiWg6Ea0yxlzm+/4lRFSscP1+RPQJItrXGNMpIj1EdAkzf3+sPUoF8FgJ6v1KoLUJpHXQbe1aG1x6DXPWHK0hrX1RBfDoBTDE34kicrExBoJ2UCoUCt9dvXr13xYvXty2du3aX4gIxOndRHSHiCwwxryGiJ4qFAr747r45lwut7XjOLcT0Z6RSH5QRJYYY5YR0cpCobB09erVA8/L5XKzHcdBvrNE5DqIWSI6zBiz2Bhze2dn5+ErVqzYFOfved4iEbmDiLYioh8ZY54RkaOIyOLfzHx8siCu6yKvXxIRhPSPRWSdMeZoPI+Izmfms8bSdVUAj4We3qsElEBaB12tuc0EnviP0BV3JcKc7e3QknkZxZNCAmntiyqARymAXdd92BiTY+bOSlbTODtr7buJ6GtEdDkzvzX+u+u6pxljvkFE1zPz6xMC9UIR+QgRfZqZYaUtJdd1LzDGfJSIvsTMH0zk/xMiOlpE3hoEweXR3x3P834gIseLyPuDIPhK4vp7I0vuS33f/x3+PmfOnCkdHR03i8ghxpijfN//Gf6+YMGC9kKhAEE9IwzDffL5PCy/BAv1xo0bIbo9Edk7CIIHa+2rKoBrJaf3KQElAAJpHXS19oj8J0P60R+K1F8gassQHbckQ90zNdJDWttGWvuiCuBRCGAIxvb29jVE9CdmhnvAkMla2wv9ms1mZ/X09DyVvDAS0QuIaBe4QsBavGbNmn8RUSEMw53y+fzG+PpcLtfhOA7cJdrCMNwev3meN1NE4O7Qy8y7J/OeO3fuDm1tbbg+z8xweaBcLrfEcZx7iOgmZn5l8nrP8/YRkfuMMb/2ff8I/GatfROswiLyjSAIIOQHkud5bxSRa4joUmZ+Z60dVgVwreT0PiWgBFQAp7cNaJiz9NbdUG+uArj56nQLD3xrLUQvLKnfZuZ3DFXkefPmbZ/JZJ4moj8zM1waBiVr7ReI6IPGmBN9378yke+NzPzaCtf/lIhgLS75F3ued4yIXC0iXw6C4APl13uetwIW2jAMd87n8495nneGiHzOGHO67/sXV8j/n0TUyczTYNV2Xffrxph3EdHrmPmG5PWRqwZcMVYxc67WalcBXCs5vU8JKAEVwOlrAwhz9ptHQlq+Miy9/Au7iE46OEvTp+lmt/TV5uA3VgGc9hrc8v236JWu677TGPNNWD+J6AWJzWQcieKvE1HY3d29LAxDuBlcw8zHVBCcJfcIY8x5vu+f7bruycaY7xljPu/7/hkVBG3sHnEqM19mrYWLBDa/vYeZ8cxygR27RxweBMGt1lq4SJxERK9i5l9VuP6PcI8oFovuqlWr8p7nLYdbRBiGu8fuD8l7rLXPwD0im81u1dPT019L1asAroWa3qMElEBMIK2DbivWIMKcXXdfkR782+ZIDxrmrLlaQVr7orpADN0OtxDAnud9U0RKy/7YaEZEfxQRRF94FaIqGGN+6vv+MdZabC67zhjzLd/3Tyt/hOu6xxljroIIZub3JiJLnMnMF1QQqGcS0WfhIxwEwUWe531ZRP6HiI5j5h9XuP5bRPQObFrzff9a13VvxOa7MAyX5vP5P1QQ2Ldgs54xZl/f9++31v4Z0Wiy2exO5e4buNda60eb517IzLAejzrFArhQ2CL4xKjzmqgbMpnNGzSKxfS880Sx0ecogYkmoP1xoonX9rx1G4Uu/c064ic3fzf3mZelEw/ZSsOc1YZzUt6V1r6YzWag5f6LKFeTEmwDX6qSBfjrjuNA7P4vXBfid4v8bm8jot1F5DTHcf4rIj+IQoZBqA5Kruu+HmKZiL7DzG93XfdsY8y5RPQhZt4ixJq1FpvfviAiHw+C4DPW2suI6G0i8oYgCBABYlCy1mLz2/sSLha3EtFLwzBcnM/nH6gggH8mIq+OXSystXkimtfW1jbjkUce+XeF/B/CnrjYxaKWOlIBXAs1vUcJKIGYQFoH3VaqwX+vDelrN6+jJ/+z2e3hZS9qp9fs20GOUbeHZmoHae2LKoCHboWj6qG5XO5ljuPcgpBnxpgvYaNYNQtw7MPruu6H4f5ARMNagGMfXmvtV+H+UM0CHPvwWmt/ASt1NQuwiOyFyA7W2r9AzFezAPf3929bKT7xSDq2ukCMhJJeowSUwFAE0rrs2io1Wh7m7DV7O7S/hjlryupPa19UF4hxEsC77bbbC7LZLA6reNoYgzBksAhfzcyIqFBuoY1DpJVCnnmed4qIfAcb1YIg+FgFC23JBzgOeea67jnGmI+LyLuCIIBPcnn+JR9gx3EO7e3tXW6tLcUuNsa8wvd9HMRRfn3JB9hxnLm9vb191lrEC8ZhGfOZGdEsyq+HD/B2zJyFz3MtPVoFcC3U9B4loARiAmkddFuhBkthzu4pUn9Rw5y1Qn2ntS+qAB6hAI5ClSGiwxRmvrOCSEVoMoQf68tms0sLhcKTRHQ/M+9bQUDGUSCO8X3/mjhMmYhcGwQBDpsoF5xxFIj9mPm+OEyZMeYi3/cRO3hQSkSBQNi0f1hrIarPJ6L3MjNiE5fnDz/edmbeBoI29nUWkSODIMBhGAMpEQWipzwE22g6ugrg0dDSa5WAEignkNZBt9lrMhnmrLOD6C0HZWj2dI3x28z1nta+qAJ4hAJ40aJF0zZs2IDwX9LW1rZDuW+s67rHG2N+iFPTmPm4KA7wPCLaqXyjmLUWPrS7ZzKZ2StXrnwyivWLsGkbu7q6ZidPcIsOpYCw7ujq6pqB3xJxgB9i5r2SRYhCsD1BRAEzz8dviTjANzAzjlkeSN3d3YvDMLwfp88x8yvwQyIO8MVBEOAo54Hkuu4bjDHXIhqG7/sIlVZTUgFcEza9SQkogYhAWgfdZq3AUpizv4S0vPf/w5ydfHCWttUwZ81a5QPlSmtfVAE8QgGMyzzPuxYbzxCyzPf9t8fL/7lcbp7jOMuJCFbgA4IguNda+yEiuoiIrohOgivFf7HWnhqFUfsJMx8bP95aewkstER0DjMjxFkpWWvPI6KzROTCIAhwIlz8958T0ZEickoQBN+L/uxYa68gohOMMe/2fR8nzsXXl0S3iByB0Gj4YyS8byKiQ4nolcyM/6aZM2dO7ezsXI3YwI7jLO3t7X0Yf58zZ8427e3tv4drRBiGC/P5/CO19mwVwLWS0/uUgBIAgbQOus1Ye5XCnJ14YIa2ah/VVppmRNMSZUprX1QBPAoBnMvlZjuOcxcR7UpEOAb4tyKyA44RhlhMHjQBl4m1a9feLiJLieg+EfmtMcYjIhx08fcw/D/2zgRMrqpM/++5VZ0O0InsQgiYkLrnNh0SloAQ/iJRQFRWN9xw3JdRZxR1HGVww0EdRcdt3AZGFEZFUAiKIKKyqSAGAoGk77mV2EoCyI4JSbrput//OdVVmeqiQnffqupb59Z7n8cHrDrr75yvzsvpc98TH2UvqahWb68Z3rp1661KKR+APT98GwB78cYLbV1xHB9TLBb/Xk0fBMF8EbGWZnsAWC4ioVLqWOsyY2916+vrO6l2J7ly2cZv7FEHEbFnhDdYazQA/RVB/5ZaFEEQnCoi9ujFVnsrHAB7A549njHXehAbY85pJrIpgJuhx7wkQAKuLrpZG7ktI4L//X0J6x4a8/hdvK/CKw/PIZ+j+M3aWG+vP67GIgXwFASwTdrf379bHMf/BsCK3n0BbLK3w1UusbACc9tTOTZxFgD7ItxcpdQDInItgE/aK5Drq9Za726/q5S9JwArkC/v7e09d9WqVY/Vp+/v758Xx7EVovYK49n2/LGIXLxly5YvrV+/fkuD9Na67FMAlimlekXE2p3ZK43ti3RPM7fVWtsX4T4G4AhrfQxgjYjYYxFWEDf1UAA3hY+ZSaDrCbi66GZp4B57UvC9m0fxYGVr5ph+D8cf6NHmLEuDPIm+uBqLFMBTFMCTmAtMMgkCFMCTgMQkJEAC2yXg6qKblSHd8Jjg+zePYuPWsd0R2pxlZWSn3g9XY5ECmAJ46rO9BTkogFsAkUWQQBcTcHXRzcKQ0eYsC6PYuj64GosUwBTArYuCKZREATwFWExKAiTwNAKuLrquD+Uf18W48vYSYgFoc+b6aLam/a7GIgUwBXBrImCKpVAATxEYk5MACYwj4Oqi6+ow0ubM1ZFrf7tdjUUKYArg9kdHgxoogFPBzkpJIDMEXF10XRyA0ZLgp38qYeVfx5we5u2uQJszF0eyPW12NRYpgCmA2xMRE5RKAZwKdlZKApkh4Oqi69oAWJuzi39fwp9pc+ba0E1be12NRQpgCuBpC5LaiiiAU8HOSkkgMwRcXXRdGgDanLk0Wum11dVYpACmAE4laiiAU8HOSkkgMwRcXXRdGQDanLkyUum309VYpACmAE4leiiAU8HOSkkgMwRcXXRdGIBam7MZOeA1S3Po39tzoelsYwoEXI1FCmAK4BTCBaAATgU7KyWBzBBwddHt9AGotzl749F57LMLrzXu9HFLs32uxiIFMAVwKnFDAZwKdlZKApkh4Oqi26kDQJuzTh2Zzm+Xq7FIAUwBnEp0UQCngp2VkkBmCLi66HbiAFibs5/8qYQ7KzZn8/dQOOOoHHaYwZ3fThyvTmuTq7FIAUwBnErkNj2NAAAgAElEQVQsUQCngp2VkkBmCLi66HbaANDmrNNGxL32uBqLFMAUwKlEGwVwKthZKQlkhoCri24nDYC1ObvwplE8tHGsVcf0ezj+QA+e4s5vJ41Tp7fF1VikAKYATiW2KIBTwc5KSSAzBFxddDtlAGhz1ikj4X47XI1FCmAK4FSijwI4FeyslAQyQ8DVRbcTBqDe5uy1S3MIaHPWCUPjZBtcjUUKYArgVAKOAjgV7KyUBDJDwNVFN+0BqLU5mzUT+Ifn0eYs7TFxvX5XY5ECmAI4ldijAE4FOyslgcwQcHXRTWsAYhH86u4YNwzG5SbsMQt409F57LITz/umNSZZqdfVWKQApgBOJQYpgFPBzkpJIDMEXF100xgA2pylQb176nQ1FimAKYBTiVIK4FSws1ISyAwBVxfd6R6Aepuzg/ZTeMVhOeRz3Pmd7rHIan2uxiIFMAVwKjFJAZwKdlZKApkh4OqiO50DUG9ztqzfw3G0OZvOIeiKulyNRQpgCuBUApQCOBXsrJQEMkPA1UV3ugag1ubMU8Aph+bw3P296aqe9XQRAVdjkQKYAjiVMKUATgU7KyWBzBBwddGdjgGgzdl0UGYdVQKuxiIFMAVwKlFMAZwKdlZKApkh4Oqi2+4BuHVtCVfeHkMA0Oas3bRZviXgaixSAFMApxLBFMCpYGelJJAZAq4uuu0aANqctYssy52IgKuxSAFMATzR3G7L9xTAbcHKQkmgawi4uui2Y4Cszdllt5Vw17123xeYv4fCGUflsMMMOj20gzfLHE/A1VikAKYATiWWKYBTwc5KSSAzBFxddFs9ALQ5azVRljdVAq7GIgUwBfBU53pL0lMAtwQjCyGBriXg6qLbygGjzVkrabKspARcjUUKYArgpHO+qXwUwE3hY2YS6HoCri66rRo4a3P2vZtGsWkYoM1Zq6iynCQEXI1FCmAK4CTzvek8FMBNI2QBJNDVBFxddFsxaIP3x/jhH0p4qgTMyAGvXZpDsDc9flvBlmVMnYCrsUgBTAE89dneghwUwC2AyCJIoIsJuLroNjtktDlrliDzt5qAq7FIAUwB3OpYmFR5FMCTwsREJEAC2yHg6qKbdEDrbc72nA288Xl57LITnR6SMmW+1hBwNRYpgCmAWxMBUyyFAniKwJicBEhgHAFXF90kw0ibsyTUmGe6CLgaixTAFMDTFSPj6qEATgU7KyWBzBBwddGd6gBYm7OLflfC0MNjHr8H7afwisNyyOe48ztVlkzfHgKuxiIFcBMCOAiCQETuAGCMMQfXFZXTWr8TwDuUUr6IbBGR3wL4eBRFa+qrnTt37g477rjjmQDOADAPwBMArgFwtjFmQ336RYsW7TIyMnKWiLwMwFwADyqlLh8eHv7E0NDQ4/Xptdb7APgEgBcB2AvAvQB+MDIy8tmhoaGtDdL3A/gkgKMB7ApgrVLq/DAMvwag1GwYUQA3S5D5SaC7Cbi66E5l1J5mc3aAh+MXelCK4ncqHJm2vQRcjUUK4IQCeNmyZfn77rvvDwAOA3BnvQAOguB/ROTNAFaJyNVKqX0BvArAcBzHRxeLRSucy8+SJUt6Nm3a9HMRseL09wBuFJEBpdQpAB4YHR09Yt26dX+tpi8UCrM9z7sBgBXdViSvFJEjlVLLAKwZHR1dum7dOiugy0+hUJjreZ4tdx8R+akVswCOU0otUUrd0NfXd/yKFSueqqYPgmCxiNwIYAcAP1RKPSgipwLQ9v8bY17XbDhRADdLkPlJoLsJuLroTnbU1j8a4/s3l2hzNllgTJcaAVdjkQI4oQAOguDTInJ2Jfs4Aay1fimAqwD8es6cOS++/vrrR206rfVL7OdKqTvCMFxSrVpr/W4A/wXgQmOMFc3lx/f9dymlvgngcmPMy2sE6udF5F8AfMoYY3dpq+k/p5T6VwD/aYz5QE35P7bi2wryKIourHzuBUFwkYi8TkTeF0XRV2vS3wrgcKXUsWEY2l1rzJs3b2Zvb+81InKMUurUMAyvbCbaKICboce8JEACri66kxm5wfti/PAW2pxNhhXTpE/A1VikAE4ggAuFwlLP824C8DMAp9XvAPu+f41S6gQARxhj/lhbhdb65wBOjOP4qGKxaHeQrTAetHo3n8/vs3r16gdq0/u+v0opNQBgP3sUwu4Wb9y48REAo3Ec710sFoer6QuFQq/nefa4RE8cx3va74IgmCMi9rjDoDFmYW3Z8+fPf3ZPT49NXzTG2CMPdrf4SM/zbLuuNsZYIb/tCYLgMBG5TSl1bRiGtn+JHwrgxOiYkQRIAICri+5Eg0ebs4kI8ftOI+BqLFIAT1EADwwM9I2Ojq4EYI8M2PO39jxv7Q6wPfv7mBWoxpjdAIy9uVB5fN//J6XUV0XkY1EU/fuCBQv2zOVyf2t0jKIijr8I4ANKqTeEYXix1vq5AOwO7XJjjBXf4x6t9U8A2N3io40xNwdBcLqIXCIiX4mi6P316YMgWCEih8ZxvG+xWFwfBMGHReQ/lFJnhmH45QblPwygzxizUzNngSmAO+0njO0hAbcIuLrobo+ytTm7dlWMG8O4nIQ2Z27Nx25urauxSAE8RQGstT4fwBuVUkuVUg/HcfznWvHa398/r/LZbcYYK1brBWr5eISI/G8URWf09/cvi+PYHjO41BhzeoP05eMRSqlzwzA82/f9NymlvquU+kIYhh9uIGirxyPebow5X2ttj0jYl9/eY4z5RoPyq8cjjo+i6DqttT0i8Ua7S22M+UWD9HZH+/BSqeSvXbu2mDToKYCTkmM+EiABS8DVRbfR6NHmjHPaZQKuxiIF8BQEcBAEp4jI8urZ2xqxu20HuFAoHOJ53u0i8ssoil5cX3zl+IR9Ie0qY8xJWmu7i/xTpdS3wzB8V3163/dfq5T6gRXBxpj3aq2tU8SXAHzUGPO5BgL1owA+Y88IR1F0XhAEXxGRfwbwWmPMjxqk/3bFqeJVYRhe5vv+cvvyXRzHS4vF4i0NBPYv7ct6SqnDwzD8U9KgrQrg0dGmDSWSNmHK+XK5XDlPqeROm6fcSWYgAUcIZCUen9wq+PavNqP4wNjvyuGFHpzx/Jnooc2ZIzORzXQ1FvP5nHVUeVIp1cdRHE9gnM9M5ajC3QD+MmfOnKX2xbZGAlhr/TwANymlfhaGoXVxGPcUCoVDPc9bYV+QM8YcFwTBGSJyEYCvGWOsUB33+L7/cqWUPdZwgTHmbb7vn62U+jSADxpjrBAe92it7ctvX6wesajsWL9VRF4RRZF1gKhPb19+s8cyqkcsrgNwbBzHS4rF4u0NBPCVInJy9YhF0klDAZyUHPORAAlYAq4uurWj9/DfY/zXLzfjb4+PHXt48cEzcPJhvbQ54xR3ioCrsUgBvP1pNk4Aa63tC2/H2fOyVR/fRgK4+qLYJHaAy2d4gyB4pYhcOtEOcPUMr+/7H7LHHybaAa6e4dVaf90ef5hoB9ieZzbGXFHzkt4z7gCLyCFRFNmz0IkeHoFIhI2ZSIAEKgRc/bNrdQDrbc5OPTSHw/f3OL4k4BwBV2ORRyAmIYB933+nUupb9S+GNRLAvu/vr5SyPru3GmOObLDjWrVI+54x5k1BELxQRH4N4BJjzGsapK9apJUtz4IgeIuIXGBfVIui6CMNdmjLZ4Crlme+75+jlPqYiPxjFEXfalB++Qyw53kvGBwcvF5r/X0Ab1BKvSQMQ+sxPO7RWpfPAHueN39wcHAoaaRSACclx3wkQAKWgKuLrm37OJuzPPDaI3MI9qb45cx2k4CrsUgBPAkBHATB9db/dhJT8y/GmP2DINgoIpuNMXvU56lxgfhwFEVfGBgY2Gt0dPR+AH8yxhzeQHBWXSBOD8Pw0qpNmYhcFkWRvVijXqBWXSCea4y5TWttRbW9zOK8MAytd/C4p8YFwtqmPaS1tqL6swDea4yx3sT15VsXiBnGmJ0BjP3dLsFDAZwAGrOQAAlsI+DqonvL2hJ+dntctgeaNRN44/PymLMLb3bj1HaXgKuxSAE8CQFccV6w1xOPe0RkZ6XU+wBYGzO7Q/y4tQ6r8QE+2BhzZ22mylGKk+zNbVEUWTuzqg/wAgB7G2OswNz2aK3vArAwl8vNXbNmzf0Vr19b3/CsWbPm1t7gNjAwMGN0dNT6+vbOmjVrN/tdjQ/wXcaYQ2rLrpxrvg9AZIw5wH5X4wN8hTHGvqC37env718Sx7F98e0aY4y91CPxQwGcGB0zkgAJOLgDTJszTtusEqAAzt7ITvif5I2OQFgMvu+/Qil1GYDr8vn8iatXrx6xn/f3958Qx/HVAKxF2hFVZFrrDwI4D4A9FmFvgit7B2ut3w7gOwB+bIx5dU36r9kdWgDnGGOsxVn50VqfC+AsEfl8FEX2Rrjq5/b8shXdb4mi6LuVjz2t9fcAnKGUencYhvbGuWr6sugWkROsNZr9sCK8bdtfAOClxhj774kfCuDE6JiRBEjAMQFcb3O2/x4Krz8qhx1mTLjMcKxJoOMJUAB3/BBNuYET/jJtTwDbmnzfty+2vdIe9xIRe23wPkopK2Kt5cbzwzC0IrP82NvdNm3adIOILLXiWER+o5QKKrfM3Vu5NW59Nf2iRYt22bp1661KKd+6Sdg8AKzn8AsBrIzj+Jhisfj3avogCOaLiLU0s0cylotIaK85BnCYvdWtr6/vpNqd5MplG7+xRx1ExJ4R3mCt0ayGtx7EYRi+Zco06zJQADdLkPlJoLsJuLLobh4RXPy7EoYeHrsT6eD9FF5+eA55b8IlprsHmL13hoArsVgPlEcgtj/FJvx1eiYBvGzZsvyGDRvOVErZHd39ATxq7dHspRTGGHv18bhn8eLFO23duvUsAPbM7lyl1AMici2AT9orkOvTa613t98BONVeGgTACuTLe3t7z121apW9iW7cU2nrOQDsFcazAQyJyMVbtmz50vr167c0SL8ojuNPAVimlOoVEXvpxXeMMfZFuqaNcCmAnfltY0NJoCMJuLDoPvqk4MKbRvHwxjGEyw7wcPxCjzZnHTmj2KikBFyIxUZ9owBuQgAnnSzMB1AAcxaQAAk0Q6DTF11rc/a9m0t4chiwm720OWtmtJm3kwl0eixujx0FMAVwKnFFAZwKdlZKApkh0MmL7pr7YvzolhKeKgEz8sDrluag96LNWWYmHzsyjkAnx+IzDRUFMAVwKqFMAZwKdlZKApkh0KmLLm3OMjPF2JFJEujUWJyo+RTAFMATzZG2fE8B3BasLJQEuoZApy26jWzO3nR0HjvvOOHrJF0zZuxoNgl0WixOljIFMAXwZOdKS9NRALcUJwsjga4j0EmL7lMlwWW3lbDq3jGnB9qcdd107OoOd1IsTmUgKIApgKcyX1qWlgK4ZShZEAl0JYFOWXRpc9aV04+driHQKbE41UGhAKYAnuqcaUl6CuCWYGQhJNC1BDph0a23OXvBAR6Oo81Z187Jbu14J8RiEvYUwBTASeZN03kogJtGyAJIoKsJpL3o0uasq6cfO88d4EzPAb650MbhpQBuI1wWTQJdQCBNAUybsy6YYOzipAmkGYuTbmSDhNwB5g5wM/MncV4K4MTomJEESABAWovuLcUSfnZHDPu626yZwBuPzmPOztwv4aTsXgJpxWKzxCmAKYCbnUOJ8lMAJ8LGTCRAAhUC073oWpuzX66KcVMYl1uw52yANmecjiSQ3n+MNsueApgCuNk5lCg/BXAibMxEAiSQggCmzRmnHQlsn8B0/8doq8aCApgCuFVzaUrlUABPCRcTkwAJ1BGYrkXX2pxd9LsS/vLwmMfvIc9ReNlhOeQ9HnvgpCQBS2C6YrHVtCmAKYBbPacmVR4F8KQwMREJkMB2CEzHovvoJsGFN4/i4Y1jjaDNGacjCTydwHTEYju4UwBTALdjXk1YJgXwhIiYgARI4BkItHvRrbc5O21JDofN9zgmJEACdQTaHYvtAk4BTAHcrrn1jOVSAKeCnZWSQGYItHPRpc1ZZqYJOzINBNoZi+1sPgUwBXA759d2y6YATgU7KyWBzBBo16L7h2IJP6fNWWbmCTvSfgLtisV2t5wCmAK43XOsYfkUwKlgZ6UkkBkCrV50aXOWmanBjkwzgVbH4nQ1nwKYAni65tq4eiiAU8HOSkkgMwRaueiWbc7+WMKq9WNOD/vvqfD6pTnsMINOD5mZMOxI2wi0Mhbb1sgGBVMAUwBP53zbVhcFcCrYWSkJZIZAqxbdzcOCi35Pm7PMTAx2ZNoJtCoWp7vhFMAUwNM958r1UQCngp2VkkBmCLRi0aXNWWamAzuSIoFWxGIazacApgBOY95RAKdCnZWSQHYINLvo0uYsO3OBPUmXQLOxmFbrKYApgFOZe9wBTgU7KyWBzBBoZtGlzVlmpgE70gEEmonFNJtPAUwBnMr8owBOBTsrJYHMEEi66NbanM2eCfzD0XnM2Zkvu2VmYrAj004gaSxOe0PrKqQApgBOZQ5SAKeCnZWSQGYITHXRLduc3RXjJhOXGTx7NvDGo/PYeUeK38xMCnYkFQJTjcVUGtmgUgpgCuBU5iIFcCrYWSkJZIbAVBZda3N26R9LuJs2Z5kZf3akcwhMJRY7p9UABTAFcCrzkQI4FeyslAQyQ2Cyi27Z5ux3JfzlkTGP30Oeo/Cyw3LIe9z5zcxkYEdSJTDZWEy1kdwBnhJ+/jpOCdfUElMAT40XU5MACYwnMJlFt2xzdtMoHt40lveFAx6OHfCgFH/eOZ9IoFUEJhOLraqrleVwB5g7wK2cT5MuiwJ40qiYkARIoAGBiRbdex+N8f2bS3hyGLCbvactyeGw+R5ZkgAJtJjARLHY4upaVhwFMAVwyybTVAqiAJ4KLaYlARKoJ/BMiy5tzjhfSGD6CFAATx/r6aqJfyNrI2kK4DbCZdEk0AUEtrfo0uasCwafXewoAhTAHTUcLWkMBXBLMDYuhAK4jXBZNAl0AYH6RdfanF1zV4ybaXPWBaPPLnYSAQrgThqN1rSFArg1HBuWQgHcRrgsmgQyTGB4pIQ/rH4Atw0+iL8/OYKdevM4fGAv3Ld5d6y5f+yM74I9FV5/VA4ze/gznuGpwK51CAEK4A4ZiBY2g7+cLYRZXxQFcBvhsmgSyCiB+x95Euf9aCUe2zgMa+Qggm3/9HIzsOucRTjc34k2Zxkdf3arMwlQAHfmuDTTqoYCeM6cOTv29fW9D8BrlVILrJAD8FsAnzXG3FlXYU5r/U4A71BK+SKyRURs2o9HUbSmvnFz587dYccddzwTwBkA5gF4AsA1AM42xmyoT79o0aJdRkZGzhKRlwGYC+BBpdTlw8PDnxgaGnq8Pr3Weh8AnwDwIgB7AbgXwA9GRkY+OzQ0tLVB+n4AnwRwNIBdAaxVSp0fhuHXAJSagUsB3Aw95iWB7iNgd37P+u9b8Pim4bLwbfTsOLMX5/3jEZjZm+8+QOwxCaREgAI4JfBtrPZpArhQKPR6nvdrAP9PRFYopa4HsCeAVwGwv7inGmN+UW1TEAT/IyJvBrBKRK5WSu1bSTscx/HRxWLxjmraJUuW9GzatOnnImLF6e8B3CgiA0qpUwA8MDo6esS6dev+Wk1fKBRme553A4CDKyJ5pYgcqZRaBmDN6Ojo0nXr1lkBXX4KhcJcz/NsufuIyE+tmAVwnFJqiVLqhr6+vuNXrFjxVE3bF4vIjQB2APBDpdSDInIqAG3/vzHmdc2wpwBuhh7zkkD3Ebh+5QZ8/5pwwo6/8cUBjjnY/rc+HxIggekgQAE8HZSnt46nCWCt9UfsTi+A7xljrLAt70MEQXCYiFhx+bc5c+bMv/7660e11i8FcBWAX8+ZM+fF9jObVmv9Evu5UuqOMAyXVLuktX43gP8CcGGl7PJXvu+/Syn1TQCXG2NeXiNQPy8i/wLgU8YYu0tbTf85pdS/AvhPY8wHasr/sRXfVpBHUXRh5XMvCIKLROR1IvK+KIq+WpP+VgCHK6WODcPQ7lpj3rx5M3t7e68RkWOUUqeGYXhl0iGhAE5KjvlIoDsJfO7iFYg2PLHd3V9LxR6L8OfujI+8/tDuhMRek0AKBCiAU4De5iqfJoB937/ACj8ReW4URetq69da293cg0ulkr927dqi7/vXKKVOAHCEMeaPdWl/DuDEOI6PKhaLf6gI40Grd/P5/D6rV69+oDa97/urlFIDAPazRyHsbvHGjRsfATAax/HexWJxuJq+skttj0v0xHG8p/0uCII5ImKPOwwaYxbWlj1//vxn9/T02PRFY4w98mB3i4/0PM+262pjjBXy256K2L9NKXVtGIa2f4keCuBE2JiJBLqWwFnfuQUPPLp5wv7vteuO+Mw7jpwwHROQAAm0hgAFcGs4dlIpk34JrnIu2IrIvpGRkT2GhoY2aq0fswLVGLNbdae42jnf9/9JKfVVEflYFEX/vmDBgj1zudzfANxpjLFHGsY9WusvAviAUuoNYRherLV+LgC7Q7vcGHNag/Q/AWB3i482xtwcBMHpInKJiHwliqL316cPgmCFiBwax/G+xWJxfRAEHxaR/1BKnRmG4ZcblP+w7asxZqekZ4EpgDtpqrMtJNDZBDYPCz7+3RV49PG/P2NDuQPc2ePI1mWTAAVw9sZ1QgG8ePHinTZv3nyY53nnVs4Ffz6Kon/t7++fF8fxnwHcZoyxYrVe0JaPR4jI/0ZRdEZ/f/+yOI7tMYNLjTGnN0hfPh6hlDo3DMOzfd9/k1Lqu0qpL4Rh+OEGgrZ6POLtxpjztdb2iIR9+e09xphvNCi/ejzi+CiKrtNa2yMSb7S71LVnmqv5tNZ2R/vw6m53kqGnAE5CjXlIoLsIiAhuHxJcfVcJDz98P/7+UHFCADwDPCEiJiCBlhKgAG4pzo4o7BkFsNbaOiPYl8TKj4h8M4qi99h/LRQKh3ied7uI/DKKohfX96ZQKCytvJB2lTHmJK21dXH4qVLq22EYvqs+ve/71nHiB1YEG2Peq7W2ThFfAvBRY8znGgjajwL4jD0jHEXReUEQfEVE/tk6VxhjftQg/bcrThWvCsPwMt/3l9uX7+I4XlosFm9pILB/aV/WU0odHobhn5KMFgVwEmrMQwLdQ+BvTwiW317C0MNjlg85VcJjG1Zgy9bGLhB293fnvl585u1HondGrntAsackkDIBCuCUB6AN1T+jAO7v7z/K2o+JyGy7U2rdFQBcks/n/2F0dNTu+t6klPpZGIbWxWHcUygUDvU8b4V9Qc4Yc1wQBGeIyEUAvmaMsUJ13OP7/suVUvZYwwXGmLf5vn+2UurTAD5ojLFCeNyjtbYvv32xesRCa30+gLeKyCuiKLIOEPXp7ctv9lhG9YjFdQCOjeN4SbFYvL2BAL5SRE6uHrFIwr4qgEdHm3JTS1J14jy53NiiWiq50+bEnWVGEkiJwPBTgqvvGMZ1d40grtidHbhvHqcfNRPDw5vxyfNvxSNPbH2aD/Buz5qJT77tCOyzR19KLWe1JNCdBFxdG/P5HJRSTyql+KNRN3UnPAJRTV+xJPslAPvmhT2re5OI3DaJHeDyGd4gCF4pIpdOtANcPcPr+/6H7PGHiXaAq2d4tdZft8cfJtoBBvAyY8wVWuvqS3rPuAMsIodEUbQySchTACehxjwkkG0Cd/3lKfz491vx6KYx5bvzTgqnL52Jg+bl7UJV/mzryChuWnkfblx5Hx7fOIxn9c3AMYfsg6MPnoOZM+j/m+0Zwt51IgEK4E4clebaNGkBbKvxff/51k/X7vyKiD2ja312bzXGPO115BqLNGun9qYgCF4oItZf+BJjzGvqm11jkVa2PAuC4C0icoF9US2KImvNNu4JgqB8Brhqeeb7/jlKqY+JyD9GUfStBuWXzwB7nveCwcHB67XW3wfwBqXUS8IwtBdxjHuqZ4A9z5s/ODg4lAQzj0AkocY8JJBNAo9vFvz8jhJW3zcmfD0FHOV7OHahh958459iV//sms0RZK+6mYCrsbj77n3cAd7OxK3/1c0FQXCMiDzLGHN5fZ7KRRPbrMaCINgoIpuNMXvUp61xgfhwFEVfGBgY2Gt0dPR+AH8yxhzeQHBWXSBOD8Pw0qpNmYhcFkWRvYSjXqBWXSCea4y5TWttRbW9zOK8MAytd3C9YK66QFjbtIdq/I7fa4yx3sT15VsXiBnGmJ0BxEkCnwI4CTXmIYFsESjFgt9HMX59T4yRysmifXdVOG1JDnvv/Mx7EK4uutkaQfaGBABXY5ECePuzt/7X19Na2+uFd2rk1RsEgfUHvgLAz40xJ9f4AB9cf0Wy1vpnAE6yN7dFUWTtzOwFGdYHeAGAvY0xVmBue7TWdwFYmMvl5q5Zs+b+itevtU0bnjVr1tzaG9wGBgZmjI6OWku23lmzZu1mv6vxAb7LGHNIbdkVC7b7AETGmAPsdzU+wFcYY+wLetue/v7+JXEc2xffrjHG2Es9Ej0UwImwMRMJZIbAXx6Oyy+5PVC5r3KHHuDFi3NYMl/Bqxx3eKbOurroZmYA2RESqBBwNRYpgCcvgO2Nb98UEevSYK8CPqO6+1nZ/bXXIi8QkZOiKLrK9/1XKKUuA3BdPp8/cfXq1SO2qv7+/hPiOL66YpF2RLV6rfUHAZxXf8uc1vrtAL4D4MfGmFfXpP8agPcCOMcYYy3Oyo/W2lqynSUiZUu2ms+rovstURR9t/K5FfXfA3CGUurdYRjaG+eq5ZRFt4icYK3R7IcV4W3b/gIALzXG2H9P9FAAJ8LGTCTgPAHr6XvNqhL+9OfKG24ADn2OKovfvpmTP3nm6qLr/ACyAyRQR8DVWKQAnoIAXrRo0S7Dw8P2nO8iAFYgWmG4O4BTATzLWo8ZY/6tWqTv+/bFtlfaG9hExF4bvI9SyopY+9bh88MwtGWUH3u726ZNm24QkaVWHIvIb5RSAQB70cW9lVvj1lfT27Zs3br1VqWUb90kbB4A1qB4VtcAACAASURBVH3ihQBWxnF8TLFY3OYaHwTBfBGxlmb2SMZyEQntNccADrO3uvX19Z1Uu5NcuWzjN/aog4jYM8IbrDWa1fDWgzgMw7c08ytAAdwMPeYlAfcIlD19/yK4+s4SNpe3A4A9ZgGnLslh/z28KXfI1UV3yh1lBhLocAKuxiIF8BQEsE06MDDQVyqVPhLH8elKqXkA7N2c9mKIL9dfGrFs2bL8hg0bzlRKvRnA/gAetS/J2UspjDH2yMO4x16ssXXr1rMA2DO7c5VSD4jItQA+aa9Ark+vtbbi215yYQX4ngCsQL68t7f33FWrVtmb6MY9lQs6zgFgrzC29m1DInLxli1bvrR+/fotDdIviuP4UwCWKaV6RcS60H/HGGNfpGvKC4wCuMN/0dg8EmghgXpP37wHvHDAw/MCD3n7xluCx9VFN0FXmYUEOpqAq7FIATxFAdzRs9ChxlEAOzRYbCoJJCQwMir47ZoYN4XxNk/fYC+Fkw/NYdedkgnfalNcXXQTomQ2EuhYAq7GIgUwBXAqQUUBnAp2VkoC00Zg8L4YV95RwuP2b2T2T047ACcdnMPCfdQ2T99mGuPqottMn5mXBDqRgKuxSAFMAZxKPFEAp4KdlZJA2wmUPX1XlrB6Q52n74CH3p7mdn1rG+/qotv2AWAFJDDNBFyNRQpgCuBpDpWx6iiAU8HOSkmgbQSa8fRN0ihXF90kfWUeEuhkAq7GIgUwBXAqcUUBnAp2VkoCbSHQyNP3hMU5HDZJT98kjXJ10U3SV+YhgU4m4GosUgBTAKcSVxTAqWBnpSTQUgKNPH0PeY7CS6bo6ZukUa4uukn6yjwk0MkEXI1FCmAK4FTiigI4FeyslARaQsB6+t7xF8Ev6j19D81h/z2n7umbpFGuLrpJ+so8JNDJBFyNRQpgCuBU4ooCOBXsrJQEmibwt78Llq8oYejhsZfcWuHpm6RRri66SfrKPCTQyQRcjUUKYArgVOKKAjgV7KyUBBIT2K6n7yE57NrXOneHyTbQ1UV3sv1jOhJwhYCrsUgBTAGcSoxRAKeCnZWSQCICg/fH+NntJTzWJk/fJI1yddFN0lfmIYFOJuBqLFIAUwCnElcUwKlgZ6UkMCUCjTx9lxY8HLewtZ6+U2pUJbGri26SvjIPCXQyAVdjkQKYAjiVuKIATgU7KyWBSRHYnqfvqUtymLPz9B93aNRoVxfdSQ0AE5GAQwRcjUUKYArgVMKMAjgV7KyUBCYk8NdHYlyxooQHnhhLOrMHOGGRh8P39+CpzhC/tl2uLroTDgATkIBjBFyNRQpgCuBUQo0COBXsrJQEtktg84jgl3eVcNufx9wd7DNdnr5JhsXVRTdJX5mHBDqZgKuxSAFMAZxKXFEAp4KdlZLA0whsz9P3lENzWDBNnr5JhsXVRTdJX5mHBDqZgKuxSAFMAZxKXFEAp4KdlZLAOAIPWk/f20v480PpevomGRZXF90kfWUeEuhkAq7GIgUwBXAqcUUBnAp2VkoCZQJVT9+bwxilyokHvZfCKSl5+iYZFlcX3SR9ZR4S6GQCrsYiBTAFcCpxRQGcCnZWSgJ4mqfvTOCkQ3JYuI+C6qCX3CYaKlcX3Yn6xe9JwDUCrsYiBTAFcCqxRgGcCnZW2sUEntgs+PnKEu7ZMLbla/0cjvI7w9M3ybC4uugm6SvzkEAnE3A1FimAKYBTiSsK4FSws9IuJGA9ff9QjHHdPTFGRscA7LurwqmH5jBnl86xNZvq0Li66E61n0xPAp1OwNVYpACmAE4ltiiAU8HOSruMgPX0Xb6ihPs73NM3ybC4uugm6SvzkEAnE3A1FimAKYBTiSsK4FSws9IuIVD29F0V47Z18bYeW0/fFy/OYdZMd3d9a4fP1UW3S6Ygu9lFBFyNRQpgCuBUwpQCOBXsrDTjBKqevlffVcKTw2Od3X0WyscdOtnTN8mwuLroJukr85BAJxNwNRYpgCmAU4krCuBUsLPSDBNo5On7ggEPR2sP+Vw2dn25A5zhCcyuOUuAAtjZodtuw7O3YnTQGFEAd9BgsClOE7CevteviXFTnafvyYfksFtfdn/GXF10nZ5sbDwJNCDgaixyB5g7wKkENAVwKthZacYIhPfHuPKOEh57cqxjs2cCJx6Sw4GOefomGRZXF90kfWUeEuhkAq7GIgUwBXAqcUUBnAp2VpoRAtvz9D12oYeZPdnd9eURiIxMYHYjUwQogDM1nOXOdMcqktK4UQCnBJ7VOk2gkafv3F0VTnPc0zfJoLi66CbpK/OQQCcTcDUWuQPMHeBU4ooCOBXsrNRhAln29E0yLK4uukn6yjwk0MkEXI1FCmAK4FTiigI4Feys1EECW2o8fccuMQYO3k/hJQdlx9M3ybC4uugm6SvzkEAnE3A1FimAKYBTiSsK4FSws1KHCFhP35V/Ffzizux7+iYZFlcX3SR9ZR4S6GQCrsYiBTAFcCpxRQGcCnZW6giBRp6+yw7w8Pwgm56+SYbF1UU3SV+ZhwQ6mYCrsUgBTAGcSlxRAKeCnZV2OIGnSoLfWk/fwRilynkHvZdC1j19kwyLq4tukr4yDwl0MgFXY5ECmAI4lbiiAE4FOyvtYAINPX0PzuHAuQpK0ZSmfuhcXXQ7eAqyaSSQiICrsUgBTAGcaMI3m4kCuFmCzJ8VAo08fZf6Ho7rIk/fJGPp6qKbpK/MQwKdTMDVWKQAnqIADoJgloh8BMDLAcwHMArgbqXUf4dheEFtcXPnzt1hxx13PBPAGQDmAXgCwDUAzjbGbKivetGiRbuMjIycJSIvAzAXwINKqcuHh4c/MTQ09Hh9eq31PgA+AeBFAPYCcC+AH4yMjHx2aGhoa4P0/QA+CeBoALsCWKuUOj8Mw68BKDVI/1wAHwdwuFKqT0RWA/iaMeb7zQYjBXCzBJnfdQL09G1uBF1ddJvrNXOTQOcRcDUWKYCnIIDnzZu384wZM24GsBDAXSLyW6XUTgBOBbAHgAuNMW+2RS5ZsqRn06ZNPxcRK05/D+BGERlQSp0C4IHR0dEj1q1b99dq9YVCYbbneTdYh6OKSF4pIkcqpZYBWDM6Orp03bp1VkCXn0KhMNfzPFvuPiLyUytmARynlFqilLqhr6/v+BUrVjxVTR8EwWIRuRHADgB+qJR6UERsu7X9/8aY19Wi8H3flnUVACukfyQim5VSr7L1AfisMeasZsKQArgZeszrOoF7H4lxxYoS7q9E9Mwe4IRFHg7f34PH4w6TGl5XF91JdY6JSMAhAq7GIgXwFASw1vpLAM4Ukf+Jougd1V3ThQsX7vrUU09ZYXwAgBONMb/QWr8bwH/VimJble/771JKfRPA5cYYu4tcfoIg+LyI/AuATxlj7C5t+fF9/3NKqX8F8J/GmA9UP9da/xjAq0TkzVEUXVj53AuC4CIReZ2IvC+Koq/WpL+1spN7bBiGv7Wfz5s3b2Zvb+81InKMUurUMAyvtJ8PDAzMGB0dtYJ6tziODysWi3bnF3aHenh42IruQEQOjaJoZdIYpQBOSo75XCZAT9/WjZ6ri27rCLAkEugMAq7GIgXw1ATw/faoQW9v766rVq16rDar1vqNVuwC+G9jzDu01oNWv+bz+X1Wr179QG1a3/dXKaUGAOxnj0LY3eKNGzc+Yo9TxHG8d7FYHK6mLxQKvZ7n2eMSPXEc72m/C4JgjojY4w6Dxhi7G73tmT9//rN7enps+qIxxh55sLvFR3qe9wcAVxtjXlqbPgiCw0TkNqXUtWEYnmC/01q/xu4Ki8g3oyiyQn7bEwTBK0XkUgDfMca8M2n4UQAnJcd8LhJo6OnbB5y6JIcFe3oudin1Nru66KYOjg0ggRYTcDUWKYAnL4Bzvu+/B8CsKIrOrc8WBIHdjbW7sj8qlUrvy+VyfwNwpzHGHmkY92itvwjgA0qpN4RheLHW2p61tTu0y40xpzVI/5PKmeOjjTE3B0FwuohcIiJfiaLo/Q3assLu0MZxvG+xWFwfBMGHReQ/lFJnhmH45QblPwygzxhjj3OUfN//hlLqHwG8zBhzRW36ylEN+4fbtcaYQtI4ogBOSo75XCNgPX2vvL2EdQ+N+ZrlPYCevs2PoquLbvM9Zwkk0FkEXI1FCuDJC+BnnHFa60sAnA7gLLvbGsexPWZwqTHGflYvgMvHI5RS54ZheLbv+29SSn1XKfWFMAw/3EDQVo9HvN0Yc77W2h6RsC+/vccY840G5VePRxwfRdF1Wmu7M213qMvHMxqk/6M9HlEqlfy1a9cWgyC43h6LiON4YfX4Q20erfWD9nhEPp/fYfXq1SNJQpECOAk15nGJQCNPX//ZCqccmsNufbQ1a3YsXV10m+0385NApxFwNRYpgFsggH3fP0kp9TMAT+ZyOb9UKh0J4KdKqW+HYfiu+ip833+tUuoHVgQbY96rtbZOEfZ88UeNMZ9rIFA/CuAz9oxwFEXnBUHwFRH5ZwCvNcb8qEH6bwN4h31pLQzDy3zfX25fvovjeGmxWLylgcD+pX1ZTyl1eBiGf9Ja3wlgcT6f37v++IbNq7UOKy/P7WGMsbvHU36qAnh09GnmE1Mua7oy5HK5clWlkjttni42rGc8gXvufQqX/G4rHt44tuv7rB0VXrV0Jg6Zn6enb4smC+OxRSBZDAk0ScDVWMznc/b3+EnrctUkgsxln9QWTRAELwTwMxHZ0e6yWouwIAjOEJGLKpZhVqiOe3zff7lSyh5ruMAY8zbf989WSn0awAeNMVYIj3u01vblty+KyMeiKPp3rfX5AN4qIq+Iosg6QNSnty+//VPNEYvrABwbx/GSYrF4e336IAiuFJGTrT2aPWKhtS4CWNDT07PbPffc82iD8u+y78RVj1gkGXkK4CTUmKfTCTz+ZIxL/7AVd/zZuiMC1tBh2cIZOGlJL3aYMamflE7vYse0z9VFt2MAsiEk0CICrsYiBfD2J8CEq1XlZTF7vKDXOjWEYfh5W1z1RbGJdoCrZ3h93/+QPf4w0Q5w9Qyv1vrr9vjDRDvA1TO8Wuuf2+MPE+0Ai8gh1tlBa323tXqbaAd4ZGRkl0b+xJOJKR6BmAwlpnGFgPX0vaUY41f3xBgZ076Yu4sqv+S2zy4T/pS40s2Oaqerf3btKIhsDAm0gICrscgjEMkEsAqC4BwROdv+RVxE3hNFkT12UH7srrCI/BrAJcYY66gw7qmxSCtbngVB8BYRucC+qBZFkb1kY9xTtUirWp75vn+OUupjIvKPURR9q0H55TPAnue9YHBw8Hqttb244g1KqZeEYWgv4qhvT/kMsOd58wcHB4e01tYv2F6WcYAxxrpZ1Ke3Z4B3N8bkAcRJ4ocCOAk15ulEAmVP39tLuL9yVY319H3RIg/PpadvW4fL1UW3rVBYOAmkQMDVWKQAnqIAtrZkSqmLlVKvBLAJwKvrXywbGBjYa3R01Fqm/ckYc3gDAVl1gTg9DMNLqzZlInJZFEX2sol6wVl1gXiuMea2qk2ZUuq8MAytd3C9YK66QFjbtIe01lZUfxbAe40x1pu4vnx7jneGMWZnK2iDIPiWiLxTRE6KoshehrHtqXGBWF1vwTaVuKMAngotpu1EAvT0TXdUXF1006XG2kmg9QRcjUUK4CkI4GXLluXvu+++5QCsl+56pdSJYRja87BPeyo+wAsA7F3/opjW2uZZmMvl5q5Zs+b+itevtU0bnjVr1tzaG9wql1JYX9/eWbNm7Wa/q/EBvssYc0ht5QsWLNgzl8vdByAyxtiLOWp9gK8wxthrlrc9/f39S+I4/pO9fc4Y8xL7RY0P8JejKLIv6G17fN9/hVLqMqXUt8IwtFZpiR4K4ETYmKkDCGzP09e6OxSeTU/f6RoiVxfd6eLDekhgugi4GosUwFMQwFpr6/9rrwBeXyqVjlq7dq29jKLho7X+IIDzAHyvcj1y+XVwrfXb7SUSAH5sjHl1NbPW+mt2hxbAOcYYa3FWfqp1isjnoyiyN8JVP7euEyeJyFuiKPpu5WNPa/09AGcopd4dhqG9ca6aviy6ReQEa41mP6wI76sBvMCKemOM/XfMmTNnx76+vnXWG9jzvKWDg4Or7OeVq6B/Z49GxHG8qFgs3pM0wCiAk5JjvjQJ0NM3Tfrj63Z10e0cgmwJCbSGgKuxSAG8/fEf9+bKAQccsHepVPpz5YU36/rwNDeFSlH2drYf2dvdNm3adIOILAVwm4j8RikVALAXXdwbx/FR9pKKavX2muGtW7feqpTyAdjzw7cBsBdkWJeJlXEcH1MsFv9eTR8EwXwRsZZme9gLNEQkVEodC+Awe6tbX1/fSbU7yZXLNn5jjzpULuzYYK3RAPRbD+IwDN9SiyIIglNFxB692GpvhQOw0Z4rtu/2WA9iY8w5zYQOBXAz9Jh3uglYT9/r18S4cTBGaczZDPT0ne5RoABOlzhrJ4HGBCiAszczxgngGmuziXq67Ta3xYsX77R161a7Y2xfhJurlHpARK4F8El7BXJ9QVrr3e13AE4FsKfdaQZweW9v77n1Vy/bvP39/fPiOLZC1F5hPBvAkIhcvGXLli+tX79+S335/f391rrsUwCWKaV6RcTandkrje2LdE8zt9Va2xfhPgbgCOvoBGCNiNhjEVYQN/VQADeFj5mnkYB5IC7f5Pbok2OVzpoJnHhwDovmKnr6TuM41Ffl6qKbIjJWTQJtIeBqLHIHePvTgd5FbQmVsUIpgNsIl0W3hMATWwRXrSzh7vVjW772B+HIgofjD/Qws4c/Dy2B3EQhri66TXSZWUmgIwm4GosUwBTAqQQUBXAq2FnpJAiUPX3Xxrju7hjD9PSdBLF0kri66KZDi7WSQPsIuBqLFMAUwO2LimcomQI4FeysdAIC9z4aY/mKEu6rePr25oETrKfvAg+evdaNT8cQcHXR7RiAbAgJtIiAq7FIAUwB3KIQmFoxFMBT48XU7SVgPX2vvTvGH9fGqLzjhoP2U3jpQTnMmknh2176yUp3ddFN1lvmIoHOJeBqLFIAUwCnElUUwKlgZ6V1BKyn751/FVx1ZwlPDo99uVsfcCo9fTt+rri66HY8WDaQBKZIwNVYpACmAJ7iVG9Ncgrg1nBkKckJPLRRsPz2EtY9OLbnm/eAYw7w8PzAQ0+Ou77JyU5PTlcX3emhw1pIYPoIuBqLFMAUwNMXJTU1UQCngp2VAtjm6RvGKMVjSOjp697UcHXRdY80W0wCz0zA1VikAKYATiW2KYBTwd71ldLTNztTwNVFNzsjwJ6QwBgBV2ORApgCOJUYpgBOBXvXVvr3iqfvKnr6ZmYOuLroZmYA2BESqBBwNRYpgCmAUwliCuBUsHddpdbT99a1MX5V4+m7zy4Kpy3Jwf6Tj7sEXF103SXOlpNAYwKuxiIFMAVwKjFNAZwK9q6qtJGn74sWeTiCnr6ZmAeuLrqZgM9OkEANAVdjkQKYAjiVQKYATgV7V1TayNN38b5jnr6zd+Cub1YmgauLblb4sx8kUCXgaixSAFMApxLFFMCpYM90pVVP31/cWcImevpmeqxt51xddDM/MOxg1xFwNRYpgCmAUwlWCuBUsGe20oaevv0ent9PT9+sDrqri25Wx4P96l4CrsYiBTAFcCpRSwGcCvbMVWo9fW8YjMv/q3r6Fp6tcMohOew+i8cdMjfgGTh3mOUxYd+6kwAFcPbGnatnG8eUAriNcLukaHr6dslAb6ebri663T1q7H0WCbgai9wB5g5wKvFIAZwK9kxUSk/fTAxj051wddFtuuMsgAQ6jICrsUgBTAGcSihRAKeC3elKYxHcUny6p++ph3qYu6vndN/Y+KkTcHXRnXpPmYMEOpuAq7FIAUwBnEpkUQCngt3ZStc/GuOKFSXc9/hYF3rzAD19nR3OljTc1UW3JZ1nISTQQQRcjUUKYArgVMKIAjgV7M5VSk9f54Zs2hrs6qI7bYBYEQlMEwFXY5ECmAJ4mkJkfDUUwKlgd6bSsqfvvYJfrBzv6XvKoTn4z+ZxB2cGso0NdXXRbSMSFk0CqRBwNRYpgCmAUwkYCuBUsDtR6cMbBctvL2Htg1Jub84DltHT14mxm85GurroTicj1kUC00HA1VikAKYAno74eFodFMCpYO/oSunp29HD03GNc3XR7TiQbBAJNEnA1VikAKYAbnLqJ8tOAZyMW1ZzRQ/EuPKOEh7ZNNbDWTOBlx6Uw+J9FZSiJXdWx72Zfrm66DbTZ+YlgU4k4GosUgBTAKcSTxTAqWDvuErLnr53lrDq3rHjDlbqHlHw8KIDPczsofDtuAHroAa5uuh2EEI2hQRaQsDVWKQApgBuSQBMtRAK4KkSy1Z6evpmazzT6I2ri24arFgnCbSTgKuxSAFMAdzOuNhu2RTAqWDviEqtp+/y22NseGxs15eevh0xLM41wtVF1znQbDAJTEDA1VikAKYATiW4KYBTwZ5qpdbT91d3x7h1bYwx6YvyGV971nf2DjzukOrgOFi5q4uug6jZZBJ4RgKuxiIFMAVwKqFNAZwK9lQqtZ6+d90ruIqevqnwz2qlri66WR0P9qt7CbgaixTAFMCpRC0FcCrYp71S6+l75e0lFGs8fY/p92D/15Pjru+0D0iGKnR10c3QELArJFAm4GosUgBTAKcSwhTAqWCftkobevruqWBvctt9FoXvtA1EhityddHN8JCwa11KwNVYpACmAE4lZCmAU8E+LZXWe/r29QInHkxP32mB30WVuLrodtEQsatdQsDVWKQApgBOJUQpgFPB3tZKrafvL+4slc/72qfs6bvAw/EHethhBnd92wq/Cwt3ddHtwqFilzNOwNVYpACmAE4lNCmAU8Helkqtp691drh2VYzh0bEq5uwMnLYkh7m7em2pk4WSgKuLLkeOBLJGwNVYpABuQgBrrT8D4KMjIyO7DA0NPV5flNb6NQDeD+AAADGAW+I4PqdYLP6hQbU5rfU7AbxDKeWLyBYR+S2Aj0dRtKY+/dy5c3fYcccdzwRwBoB5AJ4AcA2As40xG+rTL1q0aJeRkZGzRORlAOYCeFApdfnw8PAnttP2fQB8AsCLAOwF4F4APxgZGfns0NDQ1mYDmAK4WYKdkb+Rp6/d8T2y4MHjFcadMUgZbYWri25Gh4Pd6mICrsYiBXBCAay1/gcA3wXgNRLAWuuPA/gUgD8D+KmI7OJ53mtEpBfAycaYq2urDoLgf0TkzQBWicjVSql9AbwKwHAcx0cXi8U7qumXLFnSs2nTpp+LiBWnvwdwo4gMKKVOAfDA6OjoEevWrftrNX2hUJjted4NAA6uiOSVInKkUmoZgDWjo6NL161bZwV0+SkUCnM9z7Pl7iMiPwWwFsBxSqklSqkb+vr6jl+xYsVTzcQ7BXAz9NLPu/UpwbXW07f4f56+i/ZVOJGevukPTpe0wNVFt0uGh93sIgKuxiIF8BQF8LJly/L33XffOQA+UjnmiHoBXCgUFnqeZ4XsPT09PUtXr169qSIsD/U872YAj23evLmwfv36LfZzrfVLAVwF4Ndz5sx58fXXX1/+Q7LW+iX2c6XUHWEYLqk2VWv9bgD/BeBCY4wVzeXH9/13KaW+CeByY8zLq58HQfB5EfkXK8iNMZ+sSf85pdS/AvhPY8wHasr/sRXfVpBHUXRh5XMvCIKLROR1IvK+KIq+2kx8UwA3Qy+9vFVPX3vWd2Pl7wC77gScemgO/l487pDeyHRfza4uut03Uuxx1gm4GosUwFMQwEEQvFBErPDsB/BHAPsD2L1eAAdB8C0ReadS6tVhGFoxue3RWn8dwHuskIyi6IcV4XqNUuoE+86QMcaWW5v+5wBOjOP4qOrRCa31oNW7+Xx+n9WrVz9Qm973/VVKqQEA+9mjEHa3eOPGjY8AGI3jeO9isThcTV8oFHo9z7PHJXriON7TfhcEwRwRsccdBo0xC2vLnj9//rN7enps+qIxxjJI/FAAJ0aXWkZ6+qaGnhU3IODqosvBJIGsEXA1FimApyCAtdZ2N9Seof3crFmzztu4cWME4Dn1Alhrvdqe+210NKJQKJzsed6VAC4wxrwNgD37+5gVqMaY3YBtt8SWW+b7/j8ppb4qIh+LoujfFyxYsGcul/sbgDuNMfZIw7hHa/1FAB9QSr0hDMOLtdbPBXArgOXGmNMapP8JALtbfLQx5uYgCE4XkUtE5CtRFNnzy+OeIAhWiMihcRzvWywW1ycNZArgpOSmP5/19L1xMMYNgzFG7Ul2e0yGnr7TPxCscRwBVxddDiMJZI2Aq7FIATw1AXx0T0/PPffcc8+jNpvWeqiBAPa01vYIw8PGmD3riy8UCgOe590D4HfGmOf19/fPi+PYnhO+zRhjxWq9oC0fjxCR/42i6Iz+/v5lcRzbl+MuNcac3iB9+XiEUurcMAzP9n3/TUqp7yqlvhCG4YcbCNrq8Yi3G2PO11rbIxL25bf3GGO+0aD86vGI46Moui5pIFMAJyU3vfmiv8Xlm9weKR/iAejpO738Wdv2Cbi66HJMSSBrBFyNRQrgKQjgBmLwaQLYui0MDw9bgRw2OiZwwAEH7F0qle4DcI8x5sBCoXCI53m3i8gvoyh6cQPBvLTyQtpVxpiTtNZ2B/qnSqlvh2H4rvr0vu+/Vin1AyuCjTHv1Vpbp4gvWbcKY8znGvThowA+Y88IR1F0XhAEXxGRfwbwWmPMjxqk/3bFqeJVYRheljSQKYCTkpuefI08fZ+7wMOL6Ok7PQPAWiYk4OqiO2HHmIAEHCPgaixSALdYAFccFOwZ2lXGmMX1xS9cuHDXp556yp7JXWuMKWitnwfgJqXUz8IwtC4O455CoWBfnFthX5AzxhwXBMEZInIRgK8ZY6xQHff4vv9ypZQ91lA+YuH7/tlKqU8D+KAxxgrhcY/W2r789sXqEQut9fkA3ioir4iiyDpA1Ke3L7/ZYxnlIxZJ47QqgEdHFghR/wAAIABJREFUS0mLmPZ8uVyuXGep5E6bpwopjgU3rnkKV962FVsrPh/77u7htc/bAfP2GOs/HxLoBALdEI+dwJltIIGJCLgai/l8DkqpJ5VSfRP1sdu+n/DqqkZHILTWuwN4aBI7wOUzvEEQHCYit01iB7h8hjcIgleKyKUT7QBXz/D6vv8he/xhoh1gpdSZYRh+ufqS3kQ7wPYstDHmiqSTggI4Kbn25fvrQyX84OYt+OvDYwd9Z/YAJx82E8cM9MDzJgyH9jWMJZNAAwKuLrocTBLIGgFXY5ECePszccIVv5EArrguWHszewbYXiAx7qmeAbZ+umEYLvN9f3+llPXZvdUYc2R9+hqLtO8ZY95UcaL4NYBLjDH2oo1xT41FWtnyLAiCt4jIBSLyH1EUWeu2cU/VIq1qeeb7/jlKqY+JyD9GUfStBuWXzwB7nveCwcHB65MGMo9AJCXX+nz09G09U5bYfgKu/tm1/WRYAwlMLwFXY5FHIFosgG1xFZsync/nZ1c9gKvV1LhAfMMY8x57kUYQBBtFZLMxZo/65tS4QHw4iqIvDAwM7DU6Ono/gD8ZYw5vIFCrLhCnh2F4aaFQONLzvD+IyGVRFNmLNeoFc9UF4rnGmNsqt9f9UCl1XhiG1ju4XjBXXSCsbZrd6U70UAAnwtbSTNbTd9V6wVUr6enbUrAsbFoIuLroTgscVkIC00jA1VikAG6DAK7xAT4tDMPltVVorb8G4L0AXmOMucR+5/t+1Qf4YGPMnXXpfwbgJHtzWxRF1s6sKrAXANjbGPNwXfq7ACzM5XJz16xZc3/F69fapg3PmjVrbu0NbgMDAzNGR0etr2/vrFmzdrPf1fgA32WMOaS27IoFm32BLzLG2OudEz8UwInRtSRj2dP3jhKKf5NyeTkPOKbfK/+vJzfhHz9a0gYWQgLNEHB10W2mz8xLAp1IwNVYpABujwC253rthRZ3j46OHl29ZlhrfZBS6vci8mg+n1+wevXqkYoAfoVSyjoqXJfP50+sft7f339CHMf2ymRrkXZEtala6w8COA+APRZhb4Irqxit9dsBfAfAj40xr65JXxXd5xhjrMVZ+dFanwvgLBH5fBRF9ka46udV0f2WKIrsdc/2sfZu3wNwhlLq3WEY2hvnEj8UwInRNZWxkafvgj1V+Sa33WdR+DYFl5mnlYCri+60QmJlJDANBFyNRQrgNghgW2QQBF8QkQ8BsI4QlwKYrZSy1wjnReSkKIp+VVu17/v2xbZX2hvYRMRelLGPvUkOgH1D8flhGNqd3fJjzxlv2rTpBhFZasWxiPxGKRUAsBdd3Fu5NW7bJRXWmm3r1q23KqV86yZh8wCwnsMvBLAyjuNjisXi36vlB0EwX0RuAWCPZCwXkVApdSyAw5RS1/b19Z1Uu5OcJL4ogJNQay5P8W8xltd4+u7UC5x4cA4H7avsm7DNFc7cJDDNBFxddKcZE6sjgbYTcDUWKYDbJIArItjaidlzvva4wMaK8LQvp4277timXbZsWX7Dhg1nKqXsjq69Ytl6Cd9kL6Uwxtirj8c9ixcv3mnr1q1n2aMUAOYqpR4QkWsBfNJegVyfvuJOYS+5OBWAvaDDCuTLe3t7z121apW9iW7cU7mg4xwA9orm2QCGROTiLVu2fGn9+vX2Jb+mHgrgpvBNKfPGrWPnfO+6d+y4g5W69PSdEkIm7kACri66HYiSTSKBpgi4GosUwE0I4KZmTJdnpgBu/wSIRXDr2hjXrooxbO8mBDBnZ+DUJTnsu6vX/gawBhJoIwFXF902ImHRJJAKAVdjkQKYAjiVgKEAbi/2DY8JrlhRgv2nfXrzwPEHejhigYccPX3bC5+lTwsBVxfdaYHDSkhgGgm4GosUwBTA0xgm/1cVBXB7sFtP31/dHeOWYjz2ZiSARXNV+azv7B14zrc91FlqGgRcXXTTYMU6SaCdBFyNRQpgCuB2xsV2y6YAbi327Xn6nnJoDnovHndoLW2W1gkEXF10O4Ed20ACrSTgaixSAFMAtzIOJl0WBfCkUU2Y8JFNgitvLyGqevoq4Pn9HpYdQE/fCeExgbMEXF10nQXOhpPAdgi4GosUwBTAqQQ1BXDz2EdLghvCGDesiTEaj5W3f8XTdw96+jYPmCV0NAFXF92OhsrGkUACAq7GIgUwBXCC6d58Fgrg5hg29PQ9KIeD9qOnb3NkmdsVAq4uuq7wZTtJYLIEXI1FCmAK4MnO8ZamowBOhtN6+v7izhLu/Cs9fZMRZK6sEHB10c0Kf/aDBKoEXI1FCmAK4FSimAJ4atitp+8frafv3TG2PjWWl56+U2PI1Nki4Oqim61RYG9IAHA1FimAKYBTiV8K4Mljt16+y1eUsL7G0/e4Az0cSU/fyUNkyswRcHXRzdxAsENdT8DVWKQApgBOJXgpgCfG3sjT98CKp++z6Ok7MUCmyDQBVxfdTA8KO9eVBFyNRQpgCuBUApYCePvY6embypRkpY4RcHXRdQwzm0sCExJwNRYpgCmAJ5zc7UhAAdyYKj192zHbWGYWCbi66GZxLNin7ibgaixSAFMApxK5FMDjsTf09N1Dwd7ktudsXmGcyiRlpR1NwNVFt6OhsnEkkICAq7FIAUwBnGC6N5+FAvj/GFpPX3uT28Obxj7bqRc4kZ6+zU8ylpBpAq4uupkeFHauKwm4GosUwBTAqQQsBTBgPX2vvrOElTWevofv7+GERR52mMFd31QmJit1hoCri64zgNlQEpgkAVdjkQKYAniSU7y1ybpZAJc9fdfFuHbV/3n67r0zcNqhOey7m9da0CyNBDJKwNVFN6PDwW51MQFXY5ECmAI4lbDtVgFc7+k7Iw8cT0/fVOYgK3WbgKuLrtvU2XoSeDoBV2ORApgCOJV47jYBTE/fVKYZK80wAVcX3QwPCbvWpQRcjUUKYArgVEK2WwRwI0/fXXYCTjkkh2BvHndIZfKx0kwQcHXRzQR8doIEagi4GosUwBTAqQRyNwhgevqmMrVYaZcQcHXR7ZLhYTe7iICrsUgBTAGcSphmWQBbT98bwxjXr4kxGo/hnb+Hwqn09E1lrrHSbBJwddHN5miwV91MwNVYpACmAE4lbrMqgNc+GGO59fTdOIbVevq+9KAcDt5PQSlam6Uy2VhpJgm4uuhmcjDYqa4m4GosUgBTAKcSuFkTwPT0TWUasdIuJuDqotvFQ8auZ5SAq7FIAUwBnEpIuiSAh0dK+MPqB3Db4IP4+5Mj2Kk3jyMP3AtLB/ZCT49HT99UZhAr7XYCri663T5u7H/2CLgaixTAFMCpRKMrAvj+R57EeT9aicc2DsOeYBDBtn/O3qkX+81fhIe37FBmWPb0XejhyIKHnMfjDqlMLFbaNQRcXXS7ZoDY0a4h4GosUgBTAKcSpC4IYLvze9Z/34LHNw2XhW+jx8vNwO77HYbF++Vx4sE5PGsHCt9UJhQr7ToCri66XTdQ7HDmCbgaixTAFMCpBKcLAvj6lRvw/WvCCfmcsFTj1cfMnTAdE5AACbSOgKuLbusIsCQS6AwCrsYiBTAFcCoR5IIA/tzFKxBteGK7u78WnD0W4c/dGR95/aGpcGSlJNCtBFxddLt1vNjv7BJwNRYpgCmAU4lKFwTwWd+5BQ88unlCPnvtuiM+844jJ0zHBCRAAq0j4Oqi2zoCLIkEOoOAq7FIAUwBnEoEuSCAuQOcytRgpSQwKQKuLrqT6hwTkYBDBFyNRQpgCuBUwswFATzZM8BvfHGAYw7eJxWOrJQEupWAq4tut44X+51dAq7GIgUwBXAqUemCAJ7IBcKe/925rxefefuR6J2RS4UjKyWBbiXg6qLbrePFfmeXgKuxSAFMAZxKVLoggC2YZ/IB3mVWLz70moOx9247pcKQlZJANxNwddHt5jFj37NJwNVYpACmAE4lIl0RwBaO3Qm+xd4EFz6EJzYNY6eZPVi68Nk4cmAv7vymMntYKQkAri66HDsSyBoBV2ORApgC+BljUWv9GgDvB3AAgBjALXEcn1MsFv/QTBC7JICr/XQ1yJsZJ+YlgU4lwHjs1JFhu7qNgKuxSAFMAbxdAlrrjwP4FIA/A/ipiOzied5rRKQXwMnGmKuTBjoFcFJyzEcCJGAJuLrocvRIIGsEXI1FCmAK4IYECoXCQs/zVonIPT09PUtXr169ySYsFAqHep53M4DHNm/eXFi/fv2WJMFMAZyEGvOQAAnwLzKcAyTQWQQogDtrPFrRGtWKQlwtIwiCb4nIO5VSrw7D8Me1/dBafx3Ae0TkdVEU/TBJHymAk1BjHhIgAQpgzgES6CwCFMCdNR6taE1XC2Ct9Wp77ndkZGSXoaGhx2uBFgqFkz3PuxLABcaYtyWBTQGchBrzkAAJUABzDpBAZxGgAO6s8WhFa7pZAHta61EADxtj9qyHWSgUBjzPuwfA74wxz0sCmwI4CTXmIQESoADmHCCBziJAAdxZ49GK1nStAF60aNEuw8PDjwIIjTH99TAPOOCAvUul0n0A7jHGHJgEdlUAj46WkmRPJU8uN3bZRankTptTAcVKSWAaCDAepwEyqyCBSRBwNRbz+RyUUk8qpfom0c2uStK1ArhQKMz1PO9eAKuMMYvrR33hwoW7PvXUU48AWGuMKSSZFRTASagxDwmQQJWAq4suR5AEskbA1VikAN7+TOxaAay13h3AQ5PYAb7TGHNwkmDmEYgk1JiHBEigSsDVP7tyBEkgawRcjUXaoFEAP43AkiVLejZu3GjtzewZ4L3qE1TPACulbgjDcFmSYKYATkKNeUiABCiAOQdIoLMIUAB31ni0ojVduwNs4WmtB+0/8vn87KoHcBVqjQvEN4wx70kCmwI4CTXmIQESoADmHCCBziJAAdxZ49GK1nS1AK7xAT4tDMPltUC11l8D8F4ArzHGXJIENgVwEmrMQwIkQAHMOUACnUWAArizxqMVrel2AXyYiPwRwN2jo6NHr1u37onKzvBBSqnfi8ij+Xx+werVq0eSwKYATkKNeUiABCiAOQdIoLMIUAB31ni0ojVdLYAtwCAIviAiHwJgHSEuBTBbKfU6EcmLyElRFP0qKWgK4KTkmI8ESMAScHXR5eiRQNYIuBqLfAlu+zOx6wVwRQS/VUTsOd8DAGwEcBuATxlj7O5w4ocCODE6ZiQBEqAA5hwggY4hQAHcMUPRsoZQALcM5dMLogBuI1wWTQJdQMDVRbcLhoZd7DICrsYid4C5A5xKqFIAp4KdlZJAZgi4uuhmZgDYERKoEHA1FimAKYBTCWIK4FSws1ISyAwBVxfdzAwAO0ICFMCZnQM8AtHGoaUAbiNcFk0CXUCAArgLBplddIKAq7HIHWDuAKcSYBTAqWBnpSSQGQKuLrqZGQB2hAS4A5zZOcAd4DYOLQVwG+GyaBLoAgIUwF0wyOyiEwRcjUXuAHMHOJUAowBOBTsrJYHMEHB10c3MALAjJMAd4MzOAe4At3FoKYDbCJdFk0AXEKAA7oJBZhedIOBqLHIHmDvAqQQYBXAq2FkpCWSGgKuLbmYGgB0hAe4AZ3YOcAe4jUNLAdxGuCyaBLqAAAVwFwwyu+gEAVdjkTvA3AFOJcAogFPBzkpJIDMEXF10MzMA7AgJcAc4s3OAO8BtHFoK4DbCZdEk0AUEKIC7YJDZRScIuBqL3AHmDnAqASYisYjwPzJSoc9KSYAESIAESIAElFKilPJIYjwBirM2zggRKQGwjDe3sRoWTQIkQAIkQAIkQAKNCOwIwArgHPFQAHMOkAAJkAAJkAAJkAAJdDEB7gB38eCz6yRAAiRAAiRAAiTQjQQogLtx1NlnEiABEiABEiABEuhiAhTAXTz47DoJkAAJkAAJkAAJdCMBCuBuHHX2mQRIgARIgARIgAS6mAAFcBcPPrtOAiRAAiRAAiRAAt1IgAK4G0edfSYBEiABEiABEiCBLiZAAdzFg8+ukwAJkAAJkAAJkEA3EqAA7sZRZ59JgARIgARIgARIoIsJUAB38eCz6yRAAiRAAiRAAiTQjQQogLtx1NlnEiABEiABEiABEuhiAhTAXTz47DoJkAAJkAAJkAAJdCMBCuBuHHX2mQRIgARIgARIgAS6mAAFcIYHX2s9BOA5IyMjuwwNDT2e4a6yayTQVgJa6wsBvBHAy4wxVzxTZUEQXC8ix4jIIVEUrWxrw1g4CXQZgf7+/nlxHB9njDl/oq5PJW4nKovfZ48ABXD2xnRbj4IgeL+I7DwyMvK5oaGhrRnuKrtGAm0lMJWF1Pf9Nyml5uXz+W+tXr36gbY2jIWTQBcR0FofBOBWANcYY06bqOtaa5vmYAA/MsYMTpSe33cXAQrg7hpv9pYESCABgakI4ATFMwsJkMAkCPT39y+L4/i3AJZPRgBPokgm6WICFMBdPPjsOgmQwOQIUABPjhNTkUA7CVAAt5Nu95VNAZzymD/Twur7/peVUu8TkTdHUXRh5Wzh85RSuwD4uIi8CsDeAO4HcJlS6lNhGG6sdml7Z4ALhcIxuVzuLBE5DMAMEfldLpf7tziO/wPAscaY8ryo/tgopT4OYJaIvBOA/e58Y8wH7L8HQfB6EbFnI+2fmXYG8CSAVUqpb4Vh+L/VtlTLEpGPKaVWAPg3pdQhImKPZvyyVCq9v1Qq/X3GjBm2rjMA7A6gCOALxpiLUh4mVt/lBGri9DUAFgP4BwB7AFgrIhfOnj37yytWrHjKYtreGWDf9w9WSn0MgI3hPhG5Q0Q+qZSyZb7V87z5g4ODQ5Uzjn8GcAGA1QA+opTaSUSuMsacbuvwff9Ez/PeKSKHA9gNgI2jUEQuiqLo6wDiSgzb85LlskTkvz3PO0dElla+vzmO4/cVi8Uh3/fPBPAOpdS+AP4C4DvGmC9Xy+ny4Wf3O4BATQzWtuZTSqllIvI8u54ppb4LYMCuiaVS6bhcLnd2o7P7vu/vX1nXjgewq1JqtYh8QUQKSqlPe573gsHBwettRVprAfBrEfkfpZRdI3dXSt0RhuHzbHwEQfD/ROSfARwFYE8A9ndgHYCfxP+/vbMPsuQqy/j79p3ZjYnObhI1MdnE/bh9+u4sGytsxYQgS4IxgkhiIVQkFCUiqRIV/wBSEbWKjyBZQUgpVfhVpkqkolKGQIDCmFiWCAFjRBLY3em3e2YD2WyKoFiQdd2dubdf67nVPfb29E4mszPMuPc5VfvH7t57bvevz+nznPe85zlFsS/P8xO1MXlYVxRFv1oUxR0i8hIRGXP3R6IoujVN00fiOP4lVUV/jEXkCNI3Zmdnb2ca48o3QgrglWf6nGpchgB+kYhAQG4VEWzGOSoirxKRS9z9vizLblxMAIcQXicieEnMqerH0cHc/WexWU5Evi0iFzcFsIggjxFCGUIUwvTeLMvuCSH8CQZNETGIWHf/H+hmVUV9EQRzlmV/2hDTX3Z35HHdp6rTRVG8VFWfJyIPiQheFOj0nxSRjSKCa92oqi9L0/TvnhNYfpgEVpBArZ9isjkhIn+F9qqqr3D3S1X1U2maou95mwAOIfykiHwK/Qht390zVcXg9/xScG5rEcBPqeomEfmIu2OQfCzLsg+FEN4uIu8VkcOq+ml3xwbXbSKCfEf0mzvM7LcaAvir0OaqikH9UXfHe+SqcqBGTuVLMYku+yD63SZ3f1OWZX+8ghhZFQksm0CZz4s2joBLCmEYRRE2nL7T3feKyNNl8OUr7r7DzF7ZNr72er3dZRrF+e5+P/qDqiIYhP6IoEu3RQCjbvTFvxYRBJm+a2a/XQaAPiIi/+Xun1RVfO4ibJZF0AjvCTO7uSGAp0sRjcnt50Xkx9z9ehFBP/4oJsMi8jER+U8ReQ2CXO7+e1mW/eay4fGLrQQogNe4YSxDAL9YRB6bnZ19ceXs0Ov1zi+KAiL0XMxgsyzD7BMz15NcILZt23bB+Pg4Bt6Ou19tZo/ic3v27Bl/5pln7isHQWkRwOLuV2VZhoFyWMpo1r+LyMNjY2MvOnDgwGzt/25WVUR/v2RmiDbNR5PLz/yimeGlIZOTk9/f7/e/UV57hll8nuffLa//FkSiRORvzAxRMhYSWBMCtX6KCecV1YaarVu3bt6wYQMmZ1eq6uvSNP1oUwBv3br1rI0bNyI6ewkmfHme/315ExpCQPt+I/7eIoBFVW9K0xSD4bB0u90fiqLoSRF5cnZ29vK6u0uv17u6KIovYMJqZlgZQr+rIsD46zvM7N1lVZ0Qwn6IYgzeIrLbzFAv+vZPqSqu8V/MDCKZhQTWBYG2FIiqv4nIZ83sZ+oX2ja+hhAeRh8WkVvqThJxHP8Oor9lX2xGgNEXb0vT9H1V/ddcc83YkSNHMCHe0O/3d8/MzGAcG5YkSba5OzbddY4ePTpx5MiRY+WYhggwxtO7siyD0B2WEMIDInJdGT3G+2U4Nu/cuTMeDAYY279pZheui4dwBl0EBfAaP8zlCOAqJaJ+6XEcY/Z5Qz1a2hTAcRz/hqr+gbu/L8uy2+rf37FjR7fT6WBWHbUI4ENmtr3xYrlYVa8dDAYH8jz/cv3/SqGNqPG0mXXxf7UX15NmtqVR14NIvRCRN5sZlm+HJY7jnViagsg2syvX+FHx50eYQNVP3f32LMuQpjNf4jjeq6r/hKVNM7uuKYCTJLkB0SFEdczspvp3SwGNieqmFgF8YmxsbKI+udy1a9d5c3Nz1xdF8VSe5/jNk0oIAQPtBjMbK/tdJYDnjh49urkaiMtBFzZSGIQ/YGZvqyrasmXL95199tmo52kzu2CEHztvfZ0ReBYBPB9YqS67Ob4mSXKZu0NcLpjclYIWonVHSwRY+v3+j9ZFLvrJOeec8/KiKI5nWfbplr54EENfURSX5Hl+uOxzQwE8GAzi6elpRJursW4ovlX1njRNsaI7X0II30RqxbFjx84+fPgwVllZVogABfAKgVxuNcsRwEVRvCDP8y81OslfIC9RVX8uTVMMtgsiwCGEu7GkUhTFDXmeYzn2pJIkydexnNsigB8wMyzRtBVEsbC0ikgSlmF7ZY4h8iQfNzP8W10AD0VC49qRynFjM9WhFr161MyQY8xCAmtCoNZP4T/6D/WLmJycRAQIA9N3zOy8pgAOISBd4e3IE0QKQ/MGQggQsnubAhhpElmWhVPdMPIYESSC5VoZyf1xEcEfrfXhSgDPT0ar+mp7DBakOpR5j7gf5PWzkMC6ILCYAI6i6IVTU1NIpZsvzfE1jmPkuSN174Nm9taWvjgcR1sE8JyZIX2ptYQQLi6KYpeqblPVoKp73P2FyO/tdDpbDx48iLz6Kp94UE1Qq8pKy9I721Id6Oe/ek2PAnj12C6p5uUI4DaD/VMs9ZyUAhFCwLImljevQLJ98wKTJHkI4rVFALdazsRxjFSHd6Bfl3X1RQSzXqRKYFn362aGwbkugBfUFUIYCuD6S6f8TjV4UwAvqTXxQ6tFoOpfGOTyPMeqxEmljLyOYZBsEcBIc7hFVV+dpinybJvfHU5MWyLAre2+1+v9tLu/192RP4yCDW+ZiPxzuYH0rBYBvKCu5ibb+kVRAK9WS2K9p0NgMQG8lHExhIDc+N9191uzLPv9lr44nKy2CODWyWAI4QqsqGIjXq2uQ+7+UJnj/yNVv64J4AV1VQJYRN5lZu9s9EUeaHU6jWaR71IArxLYpVYbQsCGtNe7+89nWYZNafMlhPBnEJINF4jWE6aWIoCTJPlb/A5yjZpRrLJzfk1Edi1FACdJcqO7Q7hilyocJR6emJjIsRN+cnLywn6/j9woCuClNgR+bl0TqPqXqv5EmqbIs50vu3fvPvfEiRPYQDrMvW0RwBho36qqb0zTFM4OTQGM5VO4OjRdIBaI1l6vt6coCqz+wG0Fy6afO3HihFU7xEMIiERTAK/r1sSLWy6BFRDAvy4iH1LV96RpCkeWZl9ECt6vLUUAd7vdLVEUYTKMDeJwjri/0+lMHThwAPsEEO1FOkVCAbzcp73636MAXn3Gi/5CzUnh9WaG5Zf5UhtI6zZoyxbAcRzfqqpI4q9vhhn+XrmRDnm7iGKdZIPWZjoeQrgXu87b0inKHe8Pquo30jSFuwQjwGvczvjzp0egNsF8m5l9oNFPh5PByoWlJQf41e7+MVg0pWn6hvp3y7xDTCKxue1ZBXAcx3eqKk54XJBO0e12kbs4zCs0swh7bRZLI2IE+PTaBL/9vScAC084P9THpMWOHm8GhhCxxZ4SEflHM4PrQ1MAYz/L5UsRwEmSwKIUVoEL0ikuu+yyc44fP/4fmIyq6vY0TWFFWKVAMAL8vW86rb9IAbzGD6LWiT5hZrBOGZZut3t9FEWfLe3EVkQAIzI7GAzgW3q8KIq9eZ5jF3jlAnFXuXza5gLRlrYwXLaFDZqZIVI9LEmSXFQUxf2ltdlTZgZLGArgNW5n/PnTI1AbSGE9dmWaphCtlSsDcniRizu062sOyN1ud2MURXBm+cGiKK6vbV7TOI7vwO5y1LUUAVzlE8MGDTZM1V1t375909jYGFaQhoP62NjYRmyeowA+vefOb68vAjWnExyF/LJyzIEV2pIDQ0mS/BvSh9z95izLYGdYjV1vcvcPl32x6QKxQLRW+cSqeneapq+tjd0bO53OXai/rCuZmpqCkwMF8PpqTsNDDVjWkEC5qxu+gJuxkxzLm0iiF5FXlDl9165UCkT5sniDu/+5qmKX9yeKoviWqsIMHAb44+UO8s6zidbSKgkeijD9vgfpDqp6qbvjuhF9GvZ9M4MX4mCxE3yYA7yGDZA/vSQCNQGMgew8WPOpKrx54f17ISJBWZbBvL71IAzk7RZFgY2nkaoiWoxNMTDSv7xMZ9g8GAwunZ6efmIx0bpz587nDQaDfy39hFHfQVW9oOx38CmFR+l5nU7nooMHDz5FAbykx8sP/T8hsGPHjks6nQ7sxuAZ/+HS1/otz0UAlxaemLTCzxtBJqTNsn8aAAAE0UlEQVQxoB9i8vit8oCbvWaGnPpTitYy1e+x8vM4KAOHWWx295fDT7+s64eLorg6z/MvUgCvv0ZGAbwOnkm3252Moug9InJtaWQPY+595elrf7mSArjshPBKhKk2NtHAluVznU7ntsFggJfCuJnhxbBo1Bb/j9OoVBWm/Dh5B7ZLT4jIF9x9n6piM8FNVVSMAngdNDRewrIJ1GzQ4Iv7GlXF6scmVd3v7n9YT1861ZJst9u9KooibBqFNzZ2lEPI4kREWBM+f3x8/Pz9+/d/+9ncT7rd7guiKHoXTl8sT4hDVPqRoijeLyK/gIhydYgFBfCyHzm/uE4JhBDg3oA/OAHxbjgvPBcBXI5dO0Xk3bDyFBGcyvi1KIpud3ec8PjKoij2VPaei20IrY3deC/ghFasDH21KAqkKmFV6I/qzg6nqoub4NamsVEArw33NflVRJv7/f5ZaZpig9rQj7AqpfcnokdTZoaT2VhIgARWgECSJD8wNzd37szMDA6aGDSrDCHg3yfK1ZIV+EVWQQIk0EYAloVzc3NbJiYmnqiOLq9/rnJCQlTXzJDDy3IGE6AAPoMfbvPWyogtdpyfdDwjPpckCWa/ODf9TjN7ywhh4a2SwKoS6Ha7u6IogsPK580MJznCtmxYkiT5ZXfHgRT34ujWVb0QVk4CI06g2+1ORFEEx5bHjx07trt+sEQcx9eVJyB+xcwqi8ERJ3Zm3z4F8Jn9fE+6u3IzDna5TqrqF+FVCNN8EcHyzdU4X73f7185MzPznRHCwlslgVUnEELA4RkvwVKriDwYRdGcu+NwFxwK83QURVdNTU3B75OFBEhgFQnEcYw9MHBjgTPDZ9z9v1W1BytCETmOfmpmSE9iOcMJUACf4Q+4eXvlprs3u/urVBUWZdiw9ri7fzyKovenaYo0CBYSIIEVJFCmGP2Ku78WtkiwR3J3HI/6mX6/v+/QoUM47pSFBEhg9Ql0kiSB9z5EMDacY6M2LEAfKIpiX57n2JTOMgIEKIBH4CHzFkmABEiABEiABEiABP6PAAUwWwMJkAAJkAAJkAAJkMBIEaAAHqnHzZslARIgARIgARIgARKgAGYbIAESIAESIAESIAESGCkCFMAj9bh5syRAAiRAAiRAAiRAAhTAbAMkQAIkQAIkQAIkQAIjRYACeKQeN2+WBEiABEiABEiABEiAAphtgARIgARIgARIgARIYKQIUACP1OPmzZIACZAACZAACZAACVAAsw2QAAmQAAmQAAmQAAmMFAEK4JF63LxZEiABEiABEiABEiABCmC2ARIgARIgARIgARIggZEiQAE8Uo+bN0sCJEACJEACJEACJEABzDZAAiRAAiRAAiRAAiQwUgQogEfqcfNmSYAESIAESIAESIAEKIDZBkiABEiABEiABEiABEaKAAXwSD1u3iwJkAAJkAAJkAAJkAAFMNsACZAACZAACZAACZDASBGgAB6px82bJQESIAESIAESIAESoABmGyABEiABEiABEiABEhgpAhTAI/W4ebMkQAIkQAIkQAIkQAIUwGwDJEACJEACJEACJEACI0WAAnikHjdvlgRIgARIgARIgARIgAKYbYAESIAESIAESIAESGCkCFAAj9Tj5s2SAAmQAAmQAAmQAAn8L5JhUux7tGogAAAAAElFTkSuQmCC\" width=\"639.9999861283738\">"
      ],
      "text/plain": [
       "<IPython.core.display.HTML object>"
      ]
     },
     "metadata": {},
     "output_type": "display_data"
    },
    {
     "data": {
      "text/plain": [
       "Text(0.5,1,'Number of ngrams in the first 10,000 reviews of the Yelp dataset')"
      ]
     },
     "execution_count": 21,
     "metadata": {},
     "output_type": "execute_result"
    }
   ],
   "source": [
    "# 그림 3-6\n",
    "sns.set_style(\"darkgrid\")\n",
    "counts = [len(words), len(bigrams), len(trigrams)]\n",
    "plt.plot(counts, color='cornflowerblue')\n",
    "plt.plot(counts, 'bo')\n",
    "plt.margins(0.1)\n",
    "plt.xticks(range(3), ['unigram', 'bigram', 'trigram'])\n",
    "plt.tick_params(labelsize=14)\n",
    "plt.title('Number of ngrams in the first 10,000 reviews of the Yelp dataset', fontsize=14)"
   ]
  },
  {
   "cell_type": "markdown",
   "metadata": {},
   "source": [
    "## Example 3-2. PoS tagging and chunking"
   ]
  },
  {
   "cell_type": "code",
   "execution_count": 22,
   "metadata": {},
   "outputs": [
    {
     "data": {
      "text/plain": [
       "(10, 9)"
      ]
     },
     "execution_count": 22,
     "metadata": {},
     "output_type": "execute_result"
    }
   ],
   "source": [
    "# 처음 10개의 리뷰 로드\n",
    "f = open('data/yelp/yelp_academic_dataset_review.json', encoding='utf-8')\n",
    "js = []\n",
    "for i in range(10):\n",
    "    js.append(json.loads(f.readline()))\n",
    "f.close()\n",
    "\n",
    "review_df = pd.DataFrame(js)\n",
    "review_df.shape"
   ]
  },
  {
   "cell_type": "markdown",
   "metadata": {},
   "source": [
    "### 1. spacy 사용 : [spacy 설치 가이드](https://spacy.io/docs/usage/)"
   ]
  },
  {
   "cell_type": "code",
   "execution_count": 23,
   "metadata": {
    "collapsed": true
   },
   "outputs": [],
   "source": [
    "import spacy"
   ]
  },
  {
   "cell_type": "code",
   "execution_count": 24,
   "metadata": {},
   "outputs": [
    {
     "name": "stdout",
     "output_type": "stream",
     "text": [
      "\n",
      "    Info about model en\n",
      "\n",
      "    lang               en             \n",
      "    pipeline           ['tagger', 'parser', 'ner']\n",
      "    accuracy           {'token_acc': 99.8698372794, 'ents_p': 84.9664503965, 'ents_r': 85.6312524451, 'uas': 91.7237657538, 'tags_acc': 97.0403350292, 'ents_f': 85.2975560875, 'las': 89.800872413}\n",
      "    name               core_web_sm    \n",
      "    license            CC BY-SA 3.0   \n",
      "    author             Explosion AI   \n",
      "    url                https://explosion.ai\n",
      "    vectors            {'keys': 0, 'width': 0, 'vectors': 0}\n",
      "    sources            ['OntoNotes 5', 'Common Crawl']\n",
      "    version            2.0.0          \n",
      "    spacy_version      >=2.0.0a18     \n",
      "    parent_package     spacy          \n",
      "    speed              {'gpu': None, 'nwords': 291344, 'cpu': 5122.3040471407}\n",
      "    email              contact@explosion.ai\n",
      "    description        English multi-task CNN trained on OntoNotes, with GloVe vectors trained on Common Crawl. Assigns word vectors, context-specific token vectors, POS tags, dependency parse and named entities.\n",
      "    link               C:\\Anaconda3\\lib\\site-packages\\spacy\\data\\en\n",
      "    source             C:\\Anaconda3\\Lib\\site-packages\\en_core_web_sm\n",
      "\n",
      "{'lang': 'en', 'pipeline': ['tagger', 'parser', 'ner'], 'accuracy': {'token_acc': 99.8698372794, 'ents_p': 84.9664503965, 'ents_r': 85.6312524451, 'uas': 91.7237657538, 'tags_acc': 97.0403350292, 'ents_f': 85.2975560875, 'las': 89.800872413}, 'name': 'core_web_sm', 'license': 'CC BY-SA 3.0', 'author': 'Explosion AI', 'url': 'https://explosion.ai', 'vectors': {'keys': 0, 'width': 0, 'vectors': 0}, 'sources': ['OntoNotes 5', 'Common Crawl'], 'version': '2.0.0', 'spacy_version': '>=2.0.0a18', 'parent_package': 'spacy', 'speed': {'gpu': None, 'nwords': 291344, 'cpu': 5122.3040471407}, 'email': 'contact@explosion.ai', 'description': 'English multi-task CNN trained on OntoNotes, with GloVe vectors trained on Common Crawl. Assigns word vectors, context-specific token vectors, POS tags, dependency parse and named entities.', 'link': 'C:\\\\Anaconda3\\\\lib\\\\site-packages\\\\spacy\\\\data\\\\en', 'source': 'C:\\\\Anaconda3\\\\Lib\\\\site-packages\\\\en_core_web_sm'}\n"
     ]
    }
   ],
   "source": [
    "# model meta data\n",
    "print(spacy.info('en'))"
   ]
  },
  {
   "cell_type": "code",
   "execution_count": 25,
   "metadata": {
    "collapsed": true
   },
   "outputs": [],
   "source": [
    "# 언어 모델 로드\n",
    "nlp = spacy.load('en')"
   ]
  },
  {
   "cell_type": "code",
   "execution_count": 26,
   "metadata": {},
   "outputs": [
    {
     "data": {
      "text/plain": [
       "pandas.core.series.Series"
      ]
     },
     "execution_count": 26,
     "metadata": {},
     "output_type": "execute_result"
    }
   ],
   "source": [
    "# 데이터 프레임에 적용\n",
    "doc_df = review_df['text'].apply(nlp)\n",
    "type(doc_df)"
   ]
  },
  {
   "cell_type": "code",
   "execution_count": 27,
   "metadata": {},
   "outputs": [
    {
     "data": {
      "text/plain": [
       "spacy.tokens.doc.Doc"
      ]
     },
     "execution_count": 27,
     "metadata": {},
     "output_type": "execute_result"
    }
   ],
   "source": [
    "type(doc_df[0])"
   ]
  },
  {
   "cell_type": "code",
   "execution_count": 28,
   "metadata": {},
   "outputs": [
    {
     "data": {
      "text/plain": [
       "Delicious healthy food. The steak is amazing. Fish and pork are awesome too. Service is above and beyond. Not a bad thing to say about this place. Worth every penny!"
      ]
     },
     "execution_count": 28,
     "metadata": {},
     "output_type": "execute_result"
    }
   ],
   "source": [
    "doc_df[4]"
   ]
  },
  {
   "cell_type": "code",
   "execution_count": 29,
   "metadata": {},
   "outputs": [
    {
     "name": "stdout",
     "output_type": "stream",
     "text": [
      "Delicious ADJ JJ\n",
      "healthy ADJ JJ\n",
      "food NOUN NN\n",
      ". PUNCT .\n",
      "The DET DT\n",
      "steak NOUN NN\n",
      "is VERB VBZ\n",
      "amazing ADJ JJ\n",
      ". PUNCT .\n",
      "Fish NOUN NN\n",
      "and CCONJ CC\n",
      "pork NOUN NN\n",
      "are VERB VBP\n",
      "awesome ADJ JJ\n",
      "too ADV RB\n",
      ". PUNCT .\n",
      "Service NOUN NN\n",
      "is VERB VBZ\n",
      "above ADV RB\n",
      "and CCONJ CC\n",
      "beyond ADP IN\n",
      ". PUNCT .\n",
      "Not ADV RB\n",
      "a DET DT\n",
      "bad ADJ JJ\n",
      "thing NOUN NN\n",
      "to PART TO\n",
      "say VERB VB\n",
      "about ADP IN\n",
      "this DET DT\n",
      "place NOUN NN\n",
      ". PUNCT .\n",
      "Worth ADJ JJ\n",
      "every DET DT\n",
      "penny NOUN NN\n",
      "! PUNCT .\n"
     ]
    }
   ],
   "source": [
    "# spaCy는 품사(.pos_)와 태그(.tag_)를 모두 제공\n",
    "for doc in doc_df[4]:\n",
    "    print(doc.text, doc.pos_, doc.tag_)"
   ]
  },
  {
   "cell_type": "code",
   "execution_count": 30,
   "metadata": {
    "scrolled": true
   },
   "outputs": [
    {
     "name": "stdout",
     "output_type": "stream",
     "text": [
      "[Delicious healthy food, The steak, Fish, pork, Service, Not a bad thing, this place]\n"
     ]
    }
   ],
   "source": [
    "# spaCy는 명사구 추출 기능도 제공한다.\n",
    "print([chunk for chunk in doc_df[4].noun_chunks])"
   ]
  },
  {
   "cell_type": "markdown",
   "metadata": {},
   "source": [
    "### 2. Textblob 사용 : [설치 가이드](https://textblob.readthedocs.io/en/dev/)"
   ]
  },
  {
   "cell_type": "code",
   "execution_count": 31,
   "metadata": {
    "collapsed": true
   },
   "outputs": [],
   "source": [
    "from textblob import TextBlob"
   ]
  },
  {
   "cell_type": "code",
   "execution_count": 32,
   "metadata": {
    "collapsed": true
   },
   "outputs": [],
   "source": [
    "# Textblob에서는 기본값으로 PatternTagger를 사용하며, 이 예제에서는 이걸로 충분하다.\n",
    "# NLTK tagger를 사용할 수도 있지만 이것은 불완전한 문장에 대해 더 잘 동작한다."
   ]
  },
  {
   "cell_type": "code",
   "execution_count": 33,
   "metadata": {},
   "outputs": [
    {
     "data": {
      "text/plain": [
       "pandas.core.series.Series"
      ]
     },
     "execution_count": 33,
     "metadata": {},
     "output_type": "execute_result"
    }
   ],
   "source": [
    "blob_df = review_df['text'].apply(TextBlob)\n",
    "\n",
    "type(blob_df)"
   ]
  },
  {
   "cell_type": "code",
   "execution_count": 34,
   "metadata": {},
   "outputs": [
    {
     "data": {
      "text/plain": [
       "textblob.blob.TextBlob"
      ]
     },
     "execution_count": 34,
     "metadata": {},
     "output_type": "execute_result"
    }
   ],
   "source": [
    "type(blob_df[4])"
   ]
  },
  {
   "cell_type": "code",
   "execution_count": 35,
   "metadata": {
    "scrolled": false
   },
   "outputs": [
    {
     "data": {
      "text/plain": [
       "[('Delicious', 'NNP'),\n",
       " ('healthy', 'JJ'),\n",
       " ('food', 'NN'),\n",
       " ('The', 'DT'),\n",
       " ('steak', 'NN'),\n",
       " ('is', 'VBZ'),\n",
       " ('amazing', 'JJ'),\n",
       " ('Fish', 'NN'),\n",
       " ('and', 'CC'),\n",
       " ('pork', 'NN'),\n",
       " ('are', 'VBP'),\n",
       " ('awesome', 'JJ'),\n",
       " ('too', 'RB'),\n",
       " ('Service', 'NNP'),\n",
       " ('is', 'VBZ'),\n",
       " ('above', 'IN'),\n",
       " ('and', 'CC'),\n",
       " ('beyond', 'IN'),\n",
       " ('Not', 'RB'),\n",
       " ('a', 'DT'),\n",
       " ('bad', 'JJ'),\n",
       " ('thing', 'NN'),\n",
       " ('to', 'TO'),\n",
       " ('say', 'VB'),\n",
       " ('about', 'IN'),\n",
       " ('this', 'DT'),\n",
       " ('place', 'NN'),\n",
       " ('Worth', 'JJ'),\n",
       " ('every', 'DT'),\n",
       " ('penny', 'NN')]"
      ]
     },
     "execution_count": 35,
     "metadata": {},
     "output_type": "execute_result"
    }
   ],
   "source": [
    "blob_df[4].tags"
   ]
  },
  {
   "cell_type": "code",
   "execution_count": 36,
   "metadata": {},
   "outputs": [
    {
     "name": "stdout",
     "output_type": "stream",
     "text": [
      "['delicious', 'healthy food', 'fish', 'bad thing', 'worth']\n"
     ]
    }
   ],
   "source": [
    "# Textblob도 명사구 추출 가능\n",
    "print([np for np in blob_df[4].noun_phrases])"
   ]
  }
 ],
 "metadata": {
  "kernelspec": {
   "display_name": "Python 3",
   "language": "python",
   "name": "python3"
  },
  "language_info": {
   "codemirror_mode": {
    "name": "ipython",
    "version": 3
   },
   "file_extension": ".py",
   "mimetype": "text/x-python",
   "name": "python",
   "nbconvert_exporter": "python",
   "pygments_lexer": "ipython3",
   "version": "3.6.6"
  }
 },
 "nbformat": 4,
 "nbformat_minor": 1
}
